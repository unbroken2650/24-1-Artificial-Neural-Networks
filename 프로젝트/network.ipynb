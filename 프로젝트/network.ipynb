{
  "cells": [
    {
      "cell_type": "markdown",
      "metadata": {
        "id": "view-in-github",
        "colab_type": "text"
      },
      "source": [
        "<a href=\"https://colab.research.google.com/github/unbroken2650/24-1-Artificial-Neural-Networks/blob/main/%ED%94%84%EB%A1%9C%EC%A0%9D%ED%8A%B8/network.ipynb\" target=\"_parent\"><img src=\"https://colab.research.google.com/assets/colab-badge.svg\" alt=\"Open In Colab\"/></a>"
      ]
    },
    {
      "cell_type": "markdown",
      "source": [
        "### lenet"
      ],
      "metadata": {
        "id": "P3OpZFkMkcCH"
      }
    },
    {
      "cell_type": "code",
      "execution_count": 2,
      "metadata": {
        "id": "dpGocScBRmPu"
      },
      "outputs": [],
      "source": [
        "import tensorflow as tf\n",
        "import matplotlib.pyplot as plt\n",
        "import numpy as np\n",
        "import pandas as pd\n",
        "import keras\n",
        "\n",
        "from keras import models, layers"
      ]
    },
    {
      "cell_type": "code",
      "source": [
        "!pwd\n",
        "!chmod 600 /content/.kaggle/kaggle.json\n",
        "!cp -r /content/.kaggle /root"
      ],
      "metadata": {
        "colab": {
          "base_uri": "https://localhost:8080/"
        },
        "id": "PhRdi1I5bMT0",
        "outputId": "be96b853-602e-4089-b42d-a40f8ed03994"
      },
      "execution_count": 3,
      "outputs": [
        {
          "output_type": "stream",
          "name": "stdout",
          "text": [
            "/content\n"
          ]
        }
      ]
    },
    {
      "cell_type": "code",
      "source": [
        "!kaggle datasets download -d crawford/emnist"
      ],
      "metadata": {
        "colab": {
          "base_uri": "https://localhost:8080/"
        },
        "id": "cIAlJcULYlEy",
        "outputId": "d186ea3c-574e-428f-d74c-6899d981d6ee"
      },
      "execution_count": 4,
      "outputs": [
        {
          "output_type": "stream",
          "name": "stdout",
          "text": [
            "Downloading emnist.zip to /content\n",
            " 98% 1.22G/1.24G [00:07<00:00, 165MB/s]\n",
            "100% 1.24G/1.24G [00:08<00:00, 165MB/s]\n"
          ]
        }
      ]
    },
    {
      "cell_type": "code",
      "source": [
        "!unzip emnist.zip -d dataset"
      ],
      "metadata": {
        "colab": {
          "base_uri": "https://localhost:8080/"
        },
        "id": "fUimUT_mbnfI",
        "outputId": "114547d3-24de-43a7-bb8e-97c1714937e3"
      },
      "execution_count": 5,
      "outputs": [
        {
          "output_type": "stream",
          "name": "stdout",
          "text": [
            "Archive:  emnist.zip\n",
            "  inflating: dataset/emnist-balanced-mapping.txt  \n",
            "  inflating: dataset/emnist-balanced-test.csv  \n",
            "  inflating: dataset/emnist-balanced-train.csv  \n",
            "  inflating: dataset/emnist-byclass-mapping.txt  \n",
            "  inflating: dataset/emnist-byclass-test.csv  \n",
            "  inflating: dataset/emnist-byclass-train.csv  \n",
            "  inflating: dataset/emnist-bymerge-mapping.txt  \n",
            "  inflating: dataset/emnist-bymerge-test.csv  \n",
            "  inflating: dataset/emnist-bymerge-train.csv  \n",
            "  inflating: dataset/emnist-digits-mapping.txt  \n",
            "  inflating: dataset/emnist-digits-test.csv  \n",
            "  inflating: dataset/emnist-digits-train.csv  \n",
            "  inflating: dataset/emnist-letters-mapping.txt  \n",
            "  inflating: dataset/emnist-letters-test.csv  \n",
            "  inflating: dataset/emnist-letters-train.csv  \n",
            "  inflating: dataset/emnist-mnist-mapping.txt  \n",
            "  inflating: dataset/emnist-mnist-test.csv  \n",
            "  inflating: dataset/emnist-mnist-train.csv  \n",
            "  inflating: dataset/emnist_source_files/emnist-balanced-test-images-idx3-ubyte  \n",
            "  inflating: dataset/emnist_source_files/emnist-balanced-test-labels-idx1-ubyte  \n",
            "  inflating: dataset/emnist_source_files/emnist-balanced-train-images-idx3-ubyte  \n",
            "  inflating: dataset/emnist_source_files/emnist-balanced-train-labels-idx1-ubyte  \n",
            "  inflating: dataset/emnist_source_files/emnist-byclass-test-images-idx3-ubyte  \n",
            "  inflating: dataset/emnist_source_files/emnist-byclass-test-labels-idx1-ubyte  \n",
            "  inflating: dataset/emnist_source_files/emnist-byclass-train-images-idx3-ubyte  \n",
            "  inflating: dataset/emnist_source_files/emnist-byclass-train-labels-idx1-ubyte  \n",
            "  inflating: dataset/emnist_source_files/emnist-bymerge-test-images-idx3-ubyte  \n",
            "  inflating: dataset/emnist_source_files/emnist-bymerge-test-labels-idx1-ubyte  \n",
            "  inflating: dataset/emnist_source_files/emnist-bymerge-train-images-idx3-ubyte  \n",
            "  inflating: dataset/emnist_source_files/emnist-bymerge-train-labels-idx1-ubyte  \n",
            "  inflating: dataset/emnist_source_files/emnist-digits-test-images-idx3-ubyte  \n",
            "  inflating: dataset/emnist_source_files/emnist-digits-test-labels-idx1-ubyte  \n",
            "  inflating: dataset/emnist_source_files/emnist-digits-train-images-idx3-ubyte  \n",
            "  inflating: dataset/emnist_source_files/emnist-digits-train-labels-idx1-ubyte  \n",
            "  inflating: dataset/emnist_source_files/emnist-letters-test-images-idx3-ubyte  \n",
            "  inflating: dataset/emnist_source_files/emnist-letters-test-labels-idx1-ubyte  \n",
            "  inflating: dataset/emnist_source_files/emnist-letters-train-images-idx3-ubyte  \n",
            "  inflating: dataset/emnist_source_files/emnist-letters-train-labels-idx1-ubyte  \n",
            "  inflating: dataset/emnist_source_files/emnist-mnist-test-images-idx3-ubyte  \n",
            "  inflating: dataset/emnist_source_files/emnist-mnist-test-labels-idx1-ubyte  \n",
            "  inflating: dataset/emnist_source_files/emnist-mnist-train-images-idx3-ubyte  \n",
            "  inflating: dataset/emnist_source_files/emnist-mnist-train-labels-idx1-ubyte  \n"
          ]
        }
      ]
    },
    {
      "cell_type": "code",
      "execution_count": 6,
      "metadata": {
        "id": "9JIML0BBRmP0"
      },
      "outputs": [],
      "source": [
        "train_data = pd.read_csv('./dataset/emnist-balanced-train.csv')\n",
        "test_data = pd.read_csv('./dataset/emnist-balanced-test.csv')"
      ]
    },
    {
      "cell_type": "code",
      "execution_count": 7,
      "metadata": {
        "colab": {
          "base_uri": "https://localhost:8080/"
        },
        "id": "oKhnhueaRmP1",
        "outputId": "96127511-b2fd-4d54-d805-303362a7a703"
      },
      "outputs": [
        {
          "output_type": "stream",
          "name": "stdout",
          "text": [
            "(112799, 785)\n",
            "(18799, 785)\n"
          ]
        }
      ],
      "source": [
        "print(train_data.shape)\n",
        "print(test_data.shape)"
      ]
    },
    {
      "cell_type": "code",
      "execution_count": 8,
      "metadata": {
        "id": "HFY_bK0qRmP1"
      },
      "outputs": [],
      "source": [
        "y_train = train_data.iloc[:,:1]\n",
        "x_train = train_data.iloc[:,1:]\n",
        "\n",
        "y_test = test_data.iloc[:,:1]\n",
        "x_test = test_data.iloc[:,1:]"
      ]
    },
    {
      "cell_type": "code",
      "execution_count": 9,
      "metadata": {
        "id": "Nd32Ya4bRmP2"
      },
      "outputs": [],
      "source": [
        "x_train_np = x_train.to_numpy()\n",
        "x_test_np = x_test.to_numpy()\n",
        "\n",
        "y_train_np = y_train.to_numpy()\n",
        "y_test_np = y_test.to_numpy()"
      ]
    },
    {
      "cell_type": "code",
      "execution_count": 10,
      "metadata": {
        "id": "S_w4__w9RmP2"
      },
      "outputs": [],
      "source": [
        "x_train_np = np.reshape(x_train_np, newshape = (112799, 28, 28, 1))\n",
        "x_test_np = np.reshape(x_test_np, newshape = (18799, 28, 28, 1))\n",
        "\n",
        "y_train_np = tf.keras.utils.to_categorical(y_train_np,47)\n",
        "y_test_np = tf.keras.utils.to_categorical(y_test_np,47)"
      ]
    },
    {
      "cell_type": "code",
      "execution_count": 18,
      "metadata": {
        "colab": {
          "base_uri": "https://localhost:8080/"
        },
        "id": "0Tf6tkWORmP3",
        "outputId": "c97c6cc6-5ae3-442b-82d8-9bc28a3f5072"
      },
      "outputs": [
        {
          "output_type": "stream",
          "name": "stdout",
          "text": [
            "Model: \"sequential\"\n",
            "_________________________________________________________________\n",
            " Layer (type)                Output Shape              Param #   \n",
            "=================================================================\n",
            " conv2d (Conv2D)             (None, 28, 28, 6)         156       \n",
            "                                                                 \n",
            " average_pooling2d (Average  (None, 14, 14, 6)         0         \n",
            " Pooling2D)                                                      \n",
            "                                                                 \n",
            " conv2d_1 (Conv2D)           (None, 10, 10, 16)        2416      \n",
            "                                                                 \n",
            " average_pooling2d_1 (Avera  (None, 5, 5, 16)          0         \n",
            " gePooling2D)                                                    \n",
            "                                                                 \n",
            " conv2d_2 (Conv2D)           (None, 1, 1, 120)         48120     \n",
            "                                                                 \n",
            " flatten (Flatten)           (None, 120)               0         \n",
            "                                                                 \n",
            " dense_2 (Dense)             (None, 128)               15488     \n",
            "                                                                 \n",
            " dense_3 (Dense)             (None, 47)                6063      \n",
            "                                                                 \n",
            "=================================================================\n",
            "Total params: 72243 (282.20 KB)\n",
            "Trainable params: 72243 (282.20 KB)\n",
            "Non-trainable params: 0 (0.00 Byte)\n",
            "_________________________________________________________________\n"
          ]
        }
      ],
      "source": [
        "model_lenet5 = tf.keras.models.Sequential([\n",
        "    tf.keras.layers.Conv2D(filters=6, kernel_size=5,\n",
        "                    strides=1, activation='tanh',\n",
        "                    input_shape=[28,28,1], padding='same'),\n",
        "    tf.keras.layers.AveragePooling2D(pool_size=2, strides=2, padding='valid'),\n",
        "    tf.keras.layers.Conv2D(filters=16, kernel_size=5,\n",
        "                    strides=1, activation='tanh',padding='valid'),\n",
        "    tf.keras.layers.AveragePooling2D(pool_size=2, strides=2, padding='valid'),\n",
        "    tf.keras.layers.Conv2D(filters=120, kernel_size=5,\n",
        "                    strides=1, activation='tanh',padding='valid'),\n",
        "    tf.keras.layers.Flatten(),\n",
        "    tf.keras.layers.Dense(128, activation = \"relu\"),\n",
        "    tf.keras.layers.Dense(47, activation = \"softmax\")\n",
        "])\n",
        "model_lenet5.compile(optimizer='adam',loss='categorical_crossentropy',metrics=['accuracy'])\n",
        "model_lenet5.summary()"
      ]
    },
    {
      "cell_type": "code",
      "execution_count": 19,
      "metadata": {
        "id": "gQINbdeZRmP4"
      },
      "outputs": [],
      "source": [
        "class myCallback(tf.keras.callbacks.Callback):\n",
        "    def on_epoch_end(self, epoch, logs={}):\n",
        "        if(logs.get('accuracy') > 0.99):\n",
        "            print(\"\\nReached 99% accuracy so cancelling training!\")\n",
        "            self.model.stop_training = True\n",
        "\n",
        "callbacks = myCallback()"
      ]
    },
    {
      "cell_type": "code",
      "execution_count": 20,
      "metadata": {
        "colab": {
          "base_uri": "https://localhost:8080/"
        },
        "id": "54NzIwibRmP4",
        "outputId": "80793ccc-8699-4cb7-aa8b-b909922e6d85"
      },
      "outputs": [
        {
          "output_type": "stream",
          "name": "stdout",
          "text": [
            "Epoch 1/50\n",
            "226/226 [==============================] - 6s 12ms/step - loss: 1.3144 - accuracy: 0.6418\n",
            "Epoch 2/50\n",
            "226/226 [==============================] - 2s 9ms/step - loss: 0.5676 - accuracy: 0.8148\n",
            "Epoch 3/50\n",
            "226/226 [==============================] - 2s 9ms/step - loss: 0.4638 - accuracy: 0.8438\n",
            "Epoch 4/50\n",
            "226/226 [==============================] - 2s 9ms/step - loss: 0.4159 - accuracy: 0.8577\n",
            "Epoch 5/50\n",
            "226/226 [==============================] - 2s 10ms/step - loss: 0.3882 - accuracy: 0.8644\n",
            "Epoch 6/50\n",
            "226/226 [==============================] - 2s 11ms/step - loss: 0.3674 - accuracy: 0.8705\n",
            "Epoch 7/50\n",
            "226/226 [==============================] - 2s 10ms/step - loss: 0.3507 - accuracy: 0.8765\n",
            "Epoch 8/50\n",
            "226/226 [==============================] - 2s 11ms/step - loss: 0.3378 - accuracy: 0.8791\n",
            "Epoch 9/50\n",
            "226/226 [==============================] - 2s 10ms/step - loss: 0.3268 - accuracy: 0.8826\n",
            "Epoch 10/50\n",
            "226/226 [==============================] - 2s 10ms/step - loss: 0.3168 - accuracy: 0.8847\n",
            "Epoch 11/50\n",
            "226/226 [==============================] - 2s 10ms/step - loss: 0.3065 - accuracy: 0.8889\n",
            "Epoch 12/50\n",
            "226/226 [==============================] - 2s 10ms/step - loss: 0.2998 - accuracy: 0.8900\n",
            "Epoch 13/50\n",
            "226/226 [==============================] - 2s 10ms/step - loss: 0.2912 - accuracy: 0.8930\n",
            "Epoch 14/50\n",
            "226/226 [==============================] - 2s 10ms/step - loss: 0.2837 - accuracy: 0.8954\n",
            "Epoch 15/50\n",
            "226/226 [==============================] - 2s 10ms/step - loss: 0.2785 - accuracy: 0.8967\n",
            "Epoch 16/50\n",
            "226/226 [==============================] - 3s 12ms/step - loss: 0.2719 - accuracy: 0.8989\n",
            "Epoch 17/50\n",
            "226/226 [==============================] - 2s 7ms/step - loss: 0.2667 - accuracy: 0.9002\n",
            "Epoch 18/50\n",
            "226/226 [==============================] - 2s 7ms/step - loss: 0.2613 - accuracy: 0.9019\n",
            "Epoch 19/50\n",
            "226/226 [==============================] - 1s 6ms/step - loss: 0.2572 - accuracy: 0.9030\n",
            "Epoch 20/50\n",
            "226/226 [==============================] - 1s 6ms/step - loss: 0.2517 - accuracy: 0.9042\n",
            "Epoch 21/50\n",
            "226/226 [==============================] - 1s 6ms/step - loss: 0.2451 - accuracy: 0.9064\n",
            "Epoch 22/50\n",
            "226/226 [==============================] - 1s 7ms/step - loss: 0.2410 - accuracy: 0.9084\n",
            "Epoch 23/50\n",
            "226/226 [==============================] - 2s 7ms/step - loss: 0.2382 - accuracy: 0.9090\n",
            "Epoch 24/50\n",
            "226/226 [==============================] - 2s 8ms/step - loss: 0.2329 - accuracy: 0.9109\n",
            "Epoch 25/50\n",
            "226/226 [==============================] - 2s 9ms/step - loss: 0.2300 - accuracy: 0.9112\n",
            "Epoch 26/50\n",
            "226/226 [==============================] - 2s 10ms/step - loss: 0.2232 - accuracy: 0.9133\n",
            "Epoch 27/50\n",
            "226/226 [==============================] - 2s 10ms/step - loss: 0.2201 - accuracy: 0.9153\n",
            "Epoch 28/50\n",
            "226/226 [==============================] - 2s 10ms/step - loss: 0.2150 - accuracy: 0.9163\n",
            "Epoch 29/50\n",
            "226/226 [==============================] - 2s 10ms/step - loss: 0.2108 - accuracy: 0.9184\n",
            "Epoch 30/50\n",
            "226/226 [==============================] - 2s 10ms/step - loss: 0.2081 - accuracy: 0.9192\n",
            "Epoch 31/50\n",
            "226/226 [==============================] - 2s 9ms/step - loss: 0.2050 - accuracy: 0.9200\n",
            "Epoch 32/50\n",
            "226/226 [==============================] - 2s 10ms/step - loss: 0.2010 - accuracy: 0.9212\n",
            "Epoch 33/50\n",
            "226/226 [==============================] - 2s 10ms/step - loss: 0.1990 - accuracy: 0.9219\n",
            "Epoch 34/50\n",
            "226/226 [==============================] - 2s 10ms/step - loss: 0.1934 - accuracy: 0.9238\n",
            "Epoch 35/50\n",
            "226/226 [==============================] - 3s 15ms/step - loss: 0.1901 - accuracy: 0.9251\n",
            "Epoch 36/50\n",
            "226/226 [==============================] - 3s 15ms/step - loss: 0.1865 - accuracy: 0.9258\n",
            "Epoch 37/50\n",
            "226/226 [==============================] - 2s 7ms/step - loss: 0.1833 - accuracy: 0.9278\n",
            "Epoch 38/50\n",
            "226/226 [==============================] - 1s 7ms/step - loss: 0.1804 - accuracy: 0.9284\n",
            "Epoch 39/50\n",
            "226/226 [==============================] - 1s 6ms/step - loss: 0.1767 - accuracy: 0.9298\n",
            "Epoch 40/50\n",
            "226/226 [==============================] - 1s 6ms/step - loss: 0.1750 - accuracy: 0.9304\n",
            "Epoch 41/50\n",
            "226/226 [==============================] - 2s 7ms/step - loss: 0.1722 - accuracy: 0.9310\n",
            "Epoch 42/50\n",
            "226/226 [==============================] - 2s 7ms/step - loss: 0.1667 - accuracy: 0.9336\n",
            "Epoch 43/50\n",
            "226/226 [==============================] - 2s 7ms/step - loss: 0.1661 - accuracy: 0.9329\n",
            "Epoch 44/50\n",
            "226/226 [==============================] - 2s 9ms/step - loss: 0.1638 - accuracy: 0.9343\n",
            "Epoch 45/50\n",
            "226/226 [==============================] - 2s 10ms/step - loss: 0.1590 - accuracy: 0.9366\n",
            "Epoch 46/50\n",
            "226/226 [==============================] - 2s 9ms/step - loss: 0.1556 - accuracy: 0.9376\n",
            "Epoch 47/50\n",
            "226/226 [==============================] - 2s 10ms/step - loss: 0.1547 - accuracy: 0.9376\n",
            "Epoch 48/50\n",
            "226/226 [==============================] - 2s 10ms/step - loss: 0.1518 - accuracy: 0.9387\n",
            "Epoch 49/50\n",
            "226/226 [==============================] - 2s 10ms/step - loss: 0.1498 - accuracy: 0.9399\n",
            "Epoch 50/50\n",
            "226/226 [==============================] - 2s 10ms/step - loss: 0.1440 - accuracy: 0.9422\n"
          ]
        },
        {
          "output_type": "execute_result",
          "data": {
            "text/plain": [
              "<keras.src.callbacks.History at 0x7db2cfbe3bb0>"
            ]
          },
          "metadata": {},
          "execution_count": 20
        }
      ],
      "source": [
        "model_lenet5.fit(x_train_np, y_train_np, batch_size=500, epochs = 50, callbacks=[callbacks])"
      ]
    },
    {
      "cell_type": "code",
      "execution_count": 21,
      "metadata": {
        "colab": {
          "base_uri": "https://localhost:8080/"
        },
        "id": "CQwGlGGyRmP5",
        "outputId": "77a46f95-065e-4908-98da-145d9e5d7941"
      },
      "outputs": [
        {
          "output_type": "stream",
          "name": "stdout",
          "text": [
            "588/588 [==============================] - 3s 5ms/step - loss: 0.5073 - accuracy: 0.8624\n"
          ]
        },
        {
          "output_type": "execute_result",
          "data": {
            "text/plain": [
              "[0.5073071122169495, 0.8623862862586975]"
            ]
          },
          "metadata": {},
          "execution_count": 21
        }
      ],
      "source": [
        "model_lenet5.evaluate(x_test_np,y_test_np)"
      ]
    },
    {
      "cell_type": "markdown",
      "source": [
        "### Resnet"
      ],
      "metadata": {
        "id": "NGkoImQhkZje"
      }
    },
    {
      "cell_type": "code",
      "source": [
        "import tensorflow as tf\n",
        "from tensorflow.keras.applications import ResNet50\n",
        "from tensorflow.keras.models import Model\n",
        "from tensorflow.keras.layers import Dense, GlobalAveragePooling2D, Input\n",
        "\n",
        "# 데이터 전처리\n",
        "x_train_resized = tf.image.resize(x_train_np, [32, 32])  # ResNet에 맞게 크기 조정\n",
        "x_test_resized = tf.image.resize(x_test_np, [32, 32])\n",
        "\n",
        "# 이미지 채널을 3개로 조정 (RGB)\n",
        "x_train_rgb = tf.repeat(x_train_resized, 3, axis=3)\n",
        "x_test_rgb = tf.repeat(x_test_resized, 3, axis=3)\n",
        "\n",
        "# ResNet-50 모델 정의\n",
        "input_tensor = Input(shape=(32, 32, 3))\n",
        "base_model = ResNet50(weights=None, include_top=False, input_tensor=input_tensor)\n",
        "x = GlobalAveragePooling2D()(base_model.output)\n",
        "x = Dense(1024, activation='relu')(x)\n",
        "output = Dense(47, activation='softmax')(x)\n",
        "model_resnet = Model(inputs=base_model.input, outputs=output)"
      ],
      "metadata": {
        "id": "xY0UoXH0h4NC"
      },
      "execution_count": 11,
      "outputs": []
    },
    {
      "cell_type": "code",
      "source": [
        "# 모델 컴파일\n",
        "model_resnet.compile(optimizer='adam', loss='categorical_crossentropy', metrics=['accuracy'])"
      ],
      "metadata": {
        "id": "CwBGzLXVo1kl"
      },
      "execution_count": 12,
      "outputs": []
    },
    {
      "cell_type": "code",
      "source": [
        "# 모델 학습\n",
        "model_resnet.fit(x_train_rgb, y_train_np, batch_size=500, epochs=50, callbacks=[callbacks])"
      ],
      "metadata": {
        "colab": {
          "base_uri": "https://localhost:8080/"
        },
        "id": "bVq1G7sxoXNt",
        "outputId": "8437309e-5e8e-4a4e-df04-80b80fb87656"
      },
      "execution_count": 22,
      "outputs": [
        {
          "output_type": "stream",
          "name": "stdout",
          "text": [
            "Epoch 1/50\n",
            "226/226 [==============================] - 47s 206ms/step - loss: 0.2246 - accuracy: 0.9111\n",
            "Epoch 2/50\n",
            "226/226 [==============================] - 45s 201ms/step - loss: 0.2241 - accuracy: 0.9118\n",
            "Epoch 3/50\n",
            "226/226 [==============================] - 46s 204ms/step - loss: 0.2497 - accuracy: 0.9066\n",
            "Epoch 4/50\n",
            "226/226 [==============================] - 46s 204ms/step - loss: 0.2194 - accuracy: 0.9135\n",
            "Epoch 5/50\n",
            "226/226 [==============================] - 46s 203ms/step - loss: 0.2028 - accuracy: 0.9184\n",
            "Epoch 6/50\n",
            "226/226 [==============================] - 46s 203ms/step - loss: 0.2062 - accuracy: 0.9173\n",
            "Epoch 7/50\n",
            "226/226 [==============================] - 46s 203ms/step - loss: 0.2213 - accuracy: 0.9137\n",
            "Epoch 8/50\n",
            "226/226 [==============================] - 46s 204ms/step - loss: 0.2530 - accuracy: 0.9052\n",
            "Epoch 9/50\n",
            "226/226 [==============================] - 46s 202ms/step - loss: 0.2021 - accuracy: 0.9192\n",
            "Epoch 10/50\n",
            "226/226 [==============================] - 46s 205ms/step - loss: 0.1904 - accuracy: 0.9226\n",
            "Epoch 11/50\n",
            "226/226 [==============================] - 46s 203ms/step - loss: 0.1841 - accuracy: 0.9252\n",
            "Epoch 12/50\n",
            "226/226 [==============================] - 46s 203ms/step - loss: 0.1866 - accuracy: 0.9241\n",
            "Epoch 13/50\n",
            "226/226 [==============================] - 46s 203ms/step - loss: 0.1800 - accuracy: 0.9272\n",
            "Epoch 14/50\n",
            "226/226 [==============================] - 46s 202ms/step - loss: 0.1767 - accuracy: 0.9285\n",
            "Epoch 15/50\n",
            "226/226 [==============================] - 46s 203ms/step - loss: 0.1764 - accuracy: 0.9289\n",
            "Epoch 16/50\n",
            "226/226 [==============================] - 46s 203ms/step - loss: 0.1700 - accuracy: 0.9305\n",
            "Epoch 17/50\n",
            "226/226 [==============================] - 46s 203ms/step - loss: 0.1710 - accuracy: 0.9309\n",
            "Epoch 18/50\n",
            "226/226 [==============================] - 46s 202ms/step - loss: 0.1626 - accuracy: 0.9334\n",
            "Epoch 19/50\n",
            "226/226 [==============================] - 46s 203ms/step - loss: 0.1623 - accuracy: 0.9337\n",
            "Epoch 20/50\n",
            "226/226 [==============================] - 46s 203ms/step - loss: 0.1660 - accuracy: 0.9340\n",
            "Epoch 21/50\n",
            "226/226 [==============================] - 46s 202ms/step - loss: 0.1527 - accuracy: 0.9370\n",
            "Epoch 22/50\n",
            "226/226 [==============================] - 46s 201ms/step - loss: 0.1508 - accuracy: 0.9382\n",
            "Epoch 23/50\n",
            "226/226 [==============================] - 46s 202ms/step - loss: 0.1487 - accuracy: 0.9397\n",
            "Epoch 24/50\n",
            "226/226 [==============================] - 46s 203ms/step - loss: 0.1406 - accuracy: 0.9416\n",
            "Epoch 25/50\n",
            "226/226 [==============================] - 46s 203ms/step - loss: 0.1370 - accuracy: 0.9446\n",
            "Epoch 26/50\n",
            "226/226 [==============================] - 46s 201ms/step - loss: 0.1371 - accuracy: 0.9443\n",
            "Epoch 27/50\n",
            "226/226 [==============================] - 46s 204ms/step - loss: 0.2622 - accuracy: 0.9043\n",
            "Epoch 28/50\n",
            "226/226 [==============================] - 46s 203ms/step - loss: 0.2149 - accuracy: 0.9149\n",
            "Epoch 29/50\n",
            "226/226 [==============================] - 46s 203ms/step - loss: 0.1627 - accuracy: 0.9322\n",
            "Epoch 30/50\n",
            "226/226 [==============================] - 46s 202ms/step - loss: 0.1391 - accuracy: 0.9420\n",
            "Epoch 31/50\n",
            "226/226 [==============================] - 46s 203ms/step - loss: 0.1341 - accuracy: 0.9440\n",
            "Epoch 32/50\n",
            "226/226 [==============================] - 46s 202ms/step - loss: 0.1465 - accuracy: 0.9403\n",
            "Epoch 33/50\n",
            "226/226 [==============================] - 46s 202ms/step - loss: 0.1491 - accuracy: 0.9399\n",
            "Epoch 34/50\n",
            "226/226 [==============================] - 46s 202ms/step - loss: 0.1250 - accuracy: 0.9478\n",
            "Epoch 35/50\n",
            "226/226 [==============================] - 46s 201ms/step - loss: 0.1157 - accuracy: 0.9521\n",
            "Epoch 36/50\n",
            "226/226 [==============================] - 46s 202ms/step - loss: 0.1086 - accuracy: 0.9551\n",
            "Epoch 37/50\n",
            "226/226 [==============================] - 46s 202ms/step - loss: 0.1053 - accuracy: 0.9561\n",
            "Epoch 38/50\n",
            "226/226 [==============================] - 45s 201ms/step - loss: 0.1032 - accuracy: 0.9569\n",
            "Epoch 39/50\n",
            "226/226 [==============================] - 45s 201ms/step - loss: 0.1059 - accuracy: 0.9568\n",
            "Epoch 40/50\n",
            "226/226 [==============================] - 45s 201ms/step - loss: 0.1871 - accuracy: 0.9301\n",
            "Epoch 41/50\n",
            "226/226 [==============================] - 46s 202ms/step - loss: 0.1300 - accuracy: 0.9467\n",
            "Epoch 42/50\n",
            "226/226 [==============================] - 46s 201ms/step - loss: 0.1067 - accuracy: 0.9571\n",
            "Epoch 43/50\n",
            "226/226 [==============================] - 46s 202ms/step - loss: 0.0932 - accuracy: 0.9614\n",
            "Epoch 44/50\n",
            "226/226 [==============================] - 46s 202ms/step - loss: 0.0849 - accuracy: 0.9652\n",
            "Epoch 45/50\n",
            "226/226 [==============================] - 46s 202ms/step - loss: 0.0848 - accuracy: 0.9651\n",
            "Epoch 46/50\n",
            "226/226 [==============================] - 46s 201ms/step - loss: 0.0822 - accuracy: 0.9668\n",
            "Epoch 47/50\n",
            "226/226 [==============================] - 45s 201ms/step - loss: 0.0791 - accuracy: 0.9677\n",
            "Epoch 48/50\n",
            "226/226 [==============================] - 46s 201ms/step - loss: 0.0798 - accuracy: 0.9679\n",
            "Epoch 49/50\n",
            "226/226 [==============================] - 46s 202ms/step - loss: 0.0759 - accuracy: 0.9695\n",
            "Epoch 50/50\n",
            "226/226 [==============================] - 45s 201ms/step - loss: 0.0760 - accuracy: 0.9696\n"
          ]
        },
        {
          "output_type": "execute_result",
          "data": {
            "text/plain": [
              "<keras.src.callbacks.History at 0x7db2f52e87c0>"
            ]
          },
          "metadata": {},
          "execution_count": 22
        }
      ]
    },
    {
      "cell_type": "code",
      "source": [
        "model_resnet.evaluate(x_test_rgb,y_test_np)"
      ],
      "metadata": {
        "colab": {
          "base_uri": "https://localhost:8080/"
        },
        "id": "tWExQeSsiES7",
        "outputId": "b896f807-3457-4376-a370-6a6cf54e67c6"
      },
      "execution_count": 23,
      "outputs": [
        {
          "output_type": "stream",
          "name": "stdout",
          "text": [
            "588/588 [==============================] - 9s 15ms/step - loss: 0.5830 - accuracy: 0.8729\n"
          ]
        },
        {
          "output_type": "execute_result",
          "data": {
            "text/plain": [
              "[0.5829724073410034, 0.8728655576705933]"
            ]
          },
          "metadata": {},
          "execution_count": 23
        }
      ]
    },
    {
      "cell_type": "code",
      "source": [],
      "metadata": {
        "id": "vs6x2ytInP3A"
      },
      "execution_count": null,
      "outputs": []
    }
  ],
  "metadata": {
    "kernelspec": {
      "display_name": "Python 3",
      "name": "python3"
    },
    "language_info": {
      "codemirror_mode": {
        "name": "ipython",
        "version": 3
      },
      "file_extension": ".py",
      "mimetype": "text/x-python",
      "name": "python",
      "nbconvert_exporter": "python",
      "pygments_lexer": "ipython3",
      "version": "3.10.14"
    },
    "colab": {
      "provenance": [],
      "gpuType": "T4",
      "include_colab_link": true
    },
    "accelerator": "GPU"
  },
  "nbformat": 4,
  "nbformat_minor": 0
}