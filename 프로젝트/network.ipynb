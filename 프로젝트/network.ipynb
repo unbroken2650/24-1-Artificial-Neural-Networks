{
  "cells": [
    {
      "cell_type": "markdown",
      "source": [
        "### lenet"
      ],
      "metadata": {
        "id": "P3OpZFkMkcCH"
      }
    },
    {
      "cell_type": "code",
      "execution_count": 2,
      "metadata": {
        "id": "dpGocScBRmPu"
      },
      "outputs": [],
      "source": [
        "import tensorflow as tf\n",
        "import matplotlib.pyplot as plt\n",
        "import numpy as np\n",
        "import pandas as pd\n",
        "import keras\n",
        "\n",
        "from keras import models, layers"
      ]
    },
    {
      "cell_type": "code",
      "source": [
        "!pwd\n",
        "!chmod 600 /content/.kaggle/kaggle.json\n",
        "!cp -r /content/.kaggle /root"
      ],
      "metadata": {
        "colab": {
          "base_uri": "https://localhost:8080/"
        },
        "id": "PhRdi1I5bMT0",
        "outputId": "be96b853-602e-4089-b42d-a40f8ed03994"
      },
      "execution_count": 3,
      "outputs": [
        {
          "output_type": "stream",
          "name": "stdout",
          "text": [
            "/content\n"
          ]
        }
      ]
    },
    {
      "cell_type": "code",
      "source": [
        "!kaggle datasets download -d crawford/emnist"
      ],
      "metadata": {
        "colab": {
          "base_uri": "https://localhost:8080/"
        },
        "id": "cIAlJcULYlEy",
        "outputId": "d186ea3c-574e-428f-d74c-6899d981d6ee"
      },
      "execution_count": 4,
      "outputs": [
        {
          "output_type": "stream",
          "name": "stdout",
          "text": [
            "Downloading emnist.zip to /content\n",
            " 98% 1.22G/1.24G [00:07<00:00, 165MB/s]\n",
            "100% 1.24G/1.24G [00:08<00:00, 165MB/s]\n"
          ]
        }
      ]
    },
    {
      "cell_type": "code",
      "source": [
        "!unzip emnist.zip -d dataset"
      ],
      "metadata": {
        "colab": {
          "base_uri": "https://localhost:8080/"
        },
        "id": "fUimUT_mbnfI",
        "outputId": "114547d3-24de-43a7-bb8e-97c1714937e3"
      },
      "execution_count": 5,
      "outputs": [
        {
          "output_type": "stream",
          "name": "stdout",
          "text": [
            "Archive:  emnist.zip\n",
            "  inflating: dataset/emnist-balanced-mapping.txt  \n",
            "  inflating: dataset/emnist-balanced-test.csv  \n",
            "  inflating: dataset/emnist-balanced-train.csv  \n",
            "  inflating: dataset/emnist-byclass-mapping.txt  \n",
            "  inflating: dataset/emnist-byclass-test.csv  \n",
            "  inflating: dataset/emnist-byclass-train.csv  \n",
            "  inflating: dataset/emnist-bymerge-mapping.txt  \n",
            "  inflating: dataset/emnist-bymerge-test.csv  \n",
            "  inflating: dataset/emnist-bymerge-train.csv  \n",
            "  inflating: dataset/emnist-digits-mapping.txt  \n",
            "  inflating: dataset/emnist-digits-test.csv  \n",
            "  inflating: dataset/emnist-digits-train.csv  \n",
            "  inflating: dataset/emnist-letters-mapping.txt  \n",
            "  inflating: dataset/emnist-letters-test.csv  \n",
            "  inflating: dataset/emnist-letters-train.csv  \n",
            "  inflating: dataset/emnist-mnist-mapping.txt  \n",
            "  inflating: dataset/emnist-mnist-test.csv  \n",
            "  inflating: dataset/emnist-mnist-train.csv  \n",
            "  inflating: dataset/emnist_source_files/emnist-balanced-test-images-idx3-ubyte  \n",
            "  inflating: dataset/emnist_source_files/emnist-balanced-test-labels-idx1-ubyte  \n",
            "  inflating: dataset/emnist_source_files/emnist-balanced-train-images-idx3-ubyte  \n",
            "  inflating: dataset/emnist_source_files/emnist-balanced-train-labels-idx1-ubyte  \n",
            "  inflating: dataset/emnist_source_files/emnist-byclass-test-images-idx3-ubyte  \n",
            "  inflating: dataset/emnist_source_files/emnist-byclass-test-labels-idx1-ubyte  \n",
            "  inflating: dataset/emnist_source_files/emnist-byclass-train-images-idx3-ubyte  \n",
            "  inflating: dataset/emnist_source_files/emnist-byclass-train-labels-idx1-ubyte  \n",
            "  inflating: dataset/emnist_source_files/emnist-bymerge-test-images-idx3-ubyte  \n",
            "  inflating: dataset/emnist_source_files/emnist-bymerge-test-labels-idx1-ubyte  \n",
            "  inflating: dataset/emnist_source_files/emnist-bymerge-train-images-idx3-ubyte  \n",
            "  inflating: dataset/emnist_source_files/emnist-bymerge-train-labels-idx1-ubyte  \n",
            "  inflating: dataset/emnist_source_files/emnist-digits-test-images-idx3-ubyte  \n",
            "  inflating: dataset/emnist_source_files/emnist-digits-test-labels-idx1-ubyte  \n",
            "  inflating: dataset/emnist_source_files/emnist-digits-train-images-idx3-ubyte  \n",
            "  inflating: dataset/emnist_source_files/emnist-digits-train-labels-idx1-ubyte  \n",
            "  inflating: dataset/emnist_source_files/emnist-letters-test-images-idx3-ubyte  \n",
            "  inflating: dataset/emnist_source_files/emnist-letters-test-labels-idx1-ubyte  \n",
            "  inflating: dataset/emnist_source_files/emnist-letters-train-images-idx3-ubyte  \n",
            "  inflating: dataset/emnist_source_files/emnist-letters-train-labels-idx1-ubyte  \n",
            "  inflating: dataset/emnist_source_files/emnist-mnist-test-images-idx3-ubyte  \n",
            "  inflating: dataset/emnist_source_files/emnist-mnist-test-labels-idx1-ubyte  \n",
            "  inflating: dataset/emnist_source_files/emnist-mnist-train-images-idx3-ubyte  \n",
            "  inflating: dataset/emnist_source_files/emnist-mnist-train-labels-idx1-ubyte  \n"
          ]
        }
      ]
    },
    {
      "cell_type": "code",
      "execution_count": null,
      "metadata": {
        "id": "9JIML0BBRmP0"
      },
      "outputs": [],
      "source": [
        "train_data = pd.read_csv('./dataset/emnist-balanced-train.csv')\n",
        "test_data = pd.read_csv('./dataset/emnist-balanced-test.csv')"
      ]
    },
    {
      "cell_type": "code",
      "execution_count": null,
      "metadata": {
        "id": "oKhnhueaRmP1"
      },
      "outputs": [],
      "source": [
        "print(train_data.shape)\n",
        "print(test_data.shape)"
      ]
    },
    {
      "cell_type": "code",
      "execution_count": null,
      "metadata": {
        "id": "HFY_bK0qRmP1"
      },
      "outputs": [],
      "source": [
        "y_train = train_data.iloc[:,:1]\n",
        "x_train = train_data.iloc[:,1:]\n",
        "\n",
        "y_test = test_data.iloc[:,:1]\n",
        "x_test = test_data.iloc[:,1:]"
      ]
    },
    {
      "cell_type": "code",
      "execution_count": null,
      "metadata": {
        "id": "Nd32Ya4bRmP2"
      },
      "outputs": [],
      "source": [
        "x_train_np = x_train.to_numpy()\n",
        "x_test_np = x_test.to_numpy()\n",
        "\n",
        "y_train_np = y_train.to_numpy()\n",
        "y_test_np = y_test.to_numpy()"
      ]
    },
    {
      "cell_type": "code",
      "execution_count": null,
      "metadata": {
        "id": "S_w4__w9RmP2"
      },
      "outputs": [],
      "source": [
        "x_train_np = np.reshape(x_train_np, newshape = (112799, 28, 28, 1))\n",
        "x_test_np = np.reshape(x_test_np, newshape = (18799, 28, 28, 1))\n",
        "\n",
        "y_train_np = tf.keras.utils.to_categorical(y_train_np,47)\n",
        "y_test_np = tf.keras.utils.to_categorical(y_test_np,47)"
      ]
    },
    {
      "cell_type": "code",
      "execution_count": null,
      "metadata": {
        "id": "0Tf6tkWORmP3"
      },
      "outputs": [],
      "source": [
        "model_lenet5 = tf.keras.models.Sequential([\n",
        "    tf.keras.layers.Conv2D(filters=6, kernel_size=5,\n",
        "                    strides=1, activation='tanh',\n",
        "                    input_shape=[28,28,1], padding='same'),\n",
        "    tf.keras.layers.AveragePooling2D(pool_size=2, strides=2, padding='valid'),\n",
        "    tf.keras.layers.Conv2D(filters=16, kernel_size=5,\n",
        "                    strides=1, activation='tanh',padding='valid'),\n",
        "    tf.keras.layers.AveragePooling2D(pool_size=2, strides=2, padding='valid'),\n",
        "    tf.keras.layers.Conv2D(filters=120, kernel_size=5,\n",
        "                    strides=1, activation='tanh',padding='valid'),\n",
        "    tf.keras.layers.Flatten(),\n",
        "    tf.keras.layers.Dense(128, activation = \"relu\"),\n",
        "    tf.keras.layers.Dense(47, activation = \"softmax\")\n",
        "])\n",
        "model_lenet5.compile(optimizer='adam',loss='categorical_crossentropy',metrics=['accuracy'])\n",
        "model_lenet5.summary()"
      ]
    },
    {
      "cell_type": "code",
      "execution_count": null,
      "metadata": {
        "id": "gQINbdeZRmP4"
      },
      "outputs": [],
      "source": [
        "class myCallback(tf.keras.callbacks.Callback):\n",
        "    def on_epoch_end(self, epoch, logs={}):\n",
        "        if(logs.get('accuracy') > 0.99):\n",
        "            print(\"\\nReached 99% accuracy so cancelling training!\")\n",
        "            self.model.stop_training = True\n",
        "\n",
        "callbacks = myCallback()"
      ]
    },
    {
      "cell_type": "code",
      "execution_count": null,
      "metadata": {
        "id": "54NzIwibRmP4"
      },
      "outputs": [],
      "source": [
        "model_lenet5.fit(x_train_np, y_train_np, batch_size=500, epochs = 50, callbacks=[callbacks])"
      ]
    },
    {
      "cell_type": "code",
      "execution_count": null,
      "metadata": {
        "id": "CQwGlGGyRmP5"
      },
      "outputs": [],
      "source": [
        "model_lenet5.evaluate(x_test_np,y_test_np)"
      ]
    },
    {
      "cell_type": "markdown",
      "source": [
        "### Resnet"
      ],
      "metadata": {
        "id": "NGkoImQhkZje"
      }
    },
    {
      "cell_type": "code",
      "source": [
        "import tensorflow as tf\n",
        "from tensorflow.keras.applications import ResNet50\n",
        "from tensorflow.keras.models import Model\n",
        "from tensorflow.keras.layers import Dense, GlobalAveragePooling2D, Input\n",
        "\n",
        "# 데이터 전처리\n",
        "x_train_resized = tf.image.resize(x_train_np, [32, 32])  # ResNet에 맞게 크기 조정\n",
        "x_test_resized = tf.image.resize(x_test_np, [32, 32])\n",
        "\n",
        "# 이미지 채널을 3개로 조정 (RGB)\n",
        "x_train_rgb = tf.repeat(x_train_resized, 3, axis=3)\n",
        "x_test_rgb = tf.repeat(x_test_resized, 3, axis=3)\n",
        "\n",
        "# ResNet-50 모델 정의\n",
        "input_tensor = Input(shape=(32, 32, 3))\n",
        "base_model = ResNet50(weights=None, include_top=False, input_tensor=input_tensor)\n",
        "x = GlobalAveragePooling2D()(base_model.output)\n",
        "x = Dense(1024, activation='relu')(x)\n",
        "output = Dense(47, activation='softmax')(x)\n",
        "model_resnet = Model(inputs=base_model.input, outputs=output)"
      ],
      "metadata": {
        "id": "xY0UoXH0h4NC"
      },
      "execution_count": null,
      "outputs": []
    },
    {
      "cell_type": "code",
      "source": [
        "# 모델 컴파일\n",
        "model_resnet.compile(optimizer='adam', loss='categorical_crossentropy', metrics=['accuracy'])"
      ],
      "metadata": {
        "id": "CwBGzLXVo1kl"
      },
      "execution_count": null,
      "outputs": []
    },
    {
      "cell_type": "code",
      "source": [
        "# 모델 학습\n",
        "model_resnet.fit(x_train_rgb, y_train_np, batch_size=500, epochs=10, callbacks=[callbacks])"
      ],
      "metadata": {
        "id": "bVq1G7sxoXNt"
      },
      "execution_count": null,
      "outputs": []
    },
    {
      "cell_type": "code",
      "source": [
        "model_resnet.evaluate(x_test_np,y_test_np)"
      ],
      "metadata": {
        "id": "tWExQeSsiES7"
      },
      "execution_count": null,
      "outputs": []
    },
    {
      "cell_type": "code",
      "source": [],
      "metadata": {
        "id": "vs6x2ytInP3A"
      },
      "execution_count": null,
      "outputs": []
    }
  ],
  "metadata": {
    "kernelspec": {
      "display_name": "Python 3",
      "name": "python3"
    },
    "language_info": {
      "codemirror_mode": {
        "name": "ipython",
        "version": 3
      },
      "file_extension": ".py",
      "mimetype": "text/x-python",
      "name": "python",
      "nbconvert_exporter": "python",
      "pygments_lexer": "ipython3",
      "version": "3.10.14"
    },
    "colab": {
      "provenance": [],
      "gpuType": "T4"
    },
    "accelerator": "GPU"
  },
  "nbformat": 4,
  "nbformat_minor": 0
}