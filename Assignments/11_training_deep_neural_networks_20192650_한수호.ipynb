{
  "cells": [
    {
      "cell_type": "markdown",
      "metadata": {
        "id": "6t0OVWA2FqF-"
      },
      "source": [
        "**Chapter 11 – Training Deep Neural Networks**"
      ]
    },
    {
      "cell_type": "markdown",
      "metadata": {
        "id": "lHurmLYGFqF_"
      },
      "source": [
        "Homework notebook\n",
        "\n",
        "### 학번:  2019\n",
        "\n",
        "### 이름:  한수호"
      ]
    },
    {
      "cell_type": "markdown",
      "metadata": {
        "id": "cyUhG5DGFqF_"
      },
      "source": [
        "# Setup"
      ]
    },
    {
      "cell_type": "markdown",
      "metadata": {
        "id": "qCuue5a6FqF_"
      },
      "source": [
        "First, let's import a few common modules, ensure MatplotLib plots figures inline and prepare a function to save the figures. We also check that Python 3.5 or later is installed (although Python 2.x may work, it is deprecated so we strongly recommend you use Python 3 instead), as well as Scikit-Learn ≥0.20 and TensorFlow ≥2.0."
      ]
    },
    {
      "cell_type": "code",
      "execution_count": 126,
      "metadata": {
        "id": "gqC9FaqJFqF_",
        "colab": {
          "base_uri": "https://localhost:8080/"
        },
        "outputId": "1d791f9c-df65-4bbb-d309-8293a0e1e415"
      },
      "outputs": [
        {
          "output_type": "stream",
          "name": "stdout",
          "text": [
            "Python:  sys.version_info(major=3, minor=10, micro=12, releaselevel='final', serial=0)\n",
            "sklearn version:  1.2.2\n",
            "Colab only includes TensorFlow 2.x; %tensorflow_version has no effect.\n",
            "Colab only includes TensorFlow 2.x; %tensorflow_version has no effect.\n",
            "TF version:  2.15.0\n",
            "GPU installed:  True\n",
            "1 Physical GPUs, 1 Logical GPUs\n"
          ]
        }
      ],
      "source": [
        "# Python ≥3.5 is required\n",
        "import sys\n",
        "print(\"Python: \", sys.version_info)\n",
        "assert sys.version_info >= (3, 7)\n",
        "\n",
        "# Scikit-Learn ≥0.20 is required\n",
        "import sklearn\n",
        "print(\"sklearn version: \", sklearn.__version__)\n",
        "assert sklearn.__version__ >= \"0.20\"\n",
        "\n",
        "try:\n",
        "    # %tensorflow_version only exists in Colab.\n",
        "    %tensorflow_version 2.x\n",
        "except Exception:\n",
        "    pass\n",
        "\n",
        "try:\n",
        "    # %tensorflow_version only exists in Colab.\n",
        "    %tensorflow_version 2.x\n",
        "    IS_COLAB = True\n",
        "except Exception:\n",
        "    IS_COLAB = False\n",
        "\n",
        "# TensorFlow ≥2.8 is required\n",
        "import tensorflow as tf\n",
        "print(\"TF version: \", tf.__version__)\n",
        "# assert tf.__version__ >= \"2.8\"\n",
        "\n",
        "if not tf.config.list_physical_devices('GPU'):\n",
        "    print(\"No GPU was detected. CNNs can be very slow without a GPU.\")\n",
        "    if IS_COLAB:\n",
        "        print(\"Go to Runtime > Change runtime and select a GPU hardware accelerator.\")\n",
        "\n",
        "# GPU test\n",
        "print(\"GPU installed: \",tf.test.is_built_with_gpu_support())\n",
        "\n",
        "# To prevent \"CUDNN_STATUS_ALLOC_FAILED\" error with GPUs\n",
        "gpus = tf.config.experimental.list_physical_devices('GPU')\n",
        "if gpus:\n",
        "  try:\n",
        "    # Currently, memory growth needs to be the same across GPUs\n",
        "    for gpu in gpus:\n",
        "      tf.config.experimental.set_memory_growth(gpu, True)\n",
        "    logical_gpus = tf.config.experimental.list_logical_devices('GPU')\n",
        "    print(len(gpus), \"Physical GPUs,\", len(logical_gpus), \"Logical GPUs\")\n",
        "  except RuntimeError as e:\n",
        "    # Memory growth must be set before GPUs have been initialized\n",
        "    print(e)\n",
        "\n",
        "# Common imports\n",
        "import numpy as np\n",
        "import os\n",
        "\n",
        "# to make this notebook's output stable across runs\n",
        "np.random.seed(42)\n",
        "\n",
        "# To plot pretty figures\n",
        "%matplotlib inline\n",
        "import matplotlib as mpl\n",
        "import matplotlib.pyplot as plt\n",
        "mpl.rc('axes', labelsize=14)\n",
        "mpl.rc('xtick', labelsize=12)\n",
        "mpl.rc('ytick', labelsize=12)\n",
        "\n",
        "# Where to save the figures\n",
        "PROJECT_ROOT_DIR = \".\"\n",
        "CHAPTER_ID = \"ann\"\n",
        "IMAGES_PATH = os.path.join(PROJECT_ROOT_DIR, \"images\", CHAPTER_ID)\n",
        "os.makedirs(IMAGES_PATH, exist_ok=True)\n",
        "\n",
        "def save_fig(fig_id, tight_layout=True, fig_extension=\"png\", resolution=300):\n",
        "    path = os.path.join(IMAGES_PATH, fig_id + \".\" + fig_extension)\n",
        "    print(\"Saving figure\", fig_id)\n",
        "    if tight_layout:\n",
        "        plt.tight_layout()\n",
        "    plt.savefig(path, format=fig_extension, dpi=resolution)\n",
        "\n",
        "# Ignore useless warnings (see SciPy issue #5998)\n",
        "import warnings\n",
        "warnings.filterwarnings(action=\"ignore\", message=\"^internal gelsd\")\n",
        "\n",
        "import pandas as pd\n",
        "from IPython.display import display"
      ]
    },
    {
      "cell_type": "markdown",
      "metadata": {
        "id": "C1kQsJZxFqGA"
      },
      "source": [
        "## Nonsaturating Activation Functions"
      ]
    },
    {
      "cell_type": "markdown",
      "metadata": {
        "id": "5CpeMwNGFqGA"
      },
      "source": [
        "### SELU"
      ]
    },
    {
      "cell_type": "code",
      "source": [
        "from tensorflow import keras"
      ],
      "metadata": {
        "id": "13GuD7QmfAdE"
      },
      "execution_count": 127,
      "outputs": []
    },
    {
      "cell_type": "markdown",
      "metadata": {
        "id": "BUi9RMlxFqGA"
      },
      "source": [
        "### Exercise 11.1  \n",
        "Build the same model as above with **elu activation** function, train the model, and compare the results. (The same training procedure as above)"
      ]
    },
    {
      "cell_type": "markdown",
      "source": [
        "#### Model using SELU"
      ],
      "metadata": {
        "id": "duBWVKqog9XD"
      }
    },
    {
      "cell_type": "code",
      "source": [
        "## Fashion MNIST 데이터셋 준비 ##\n",
        "(X_train_full, y_train_full), (X_test, y_test) = keras.datasets.fashion_mnist.load_data()\n",
        "X_train_full = X_train_full / 255.0\n",
        "X_test = X_test / 255.0\n",
        "X_valid, X_train = X_train_full[:5000], X_train_full[5000:]\n",
        "y_valid, y_train = y_train_full[:5000], y_train_full[5000:]"
      ],
      "metadata": {
        "id": "YhWE9OZMhL9A"
      },
      "execution_count": 128,
      "outputs": []
    },
    {
      "cell_type": "code",
      "source": [
        "pixel_means = X_train.mean(axis=0, keepdims=True)\n",
        "pixel_stds = X_train.std(axis=0, keepdims=True)\n",
        "X_train_scaled = (X_train - pixel_means) / pixel_stds\n",
        "X_valid_scaled = (X_valid - pixel_means) / pixel_stds\n",
        "X_test_scaled = (X_test - pixel_means) / pixel_stds"
      ],
      "metadata": {
        "id": "Q79JpfjHl5Ed"
      },
      "execution_count": 129,
      "outputs": []
    },
    {
      "cell_type": "code",
      "source": [
        "keras.backend.clear_session()\n",
        "tf.random.set_seed(42)\n",
        "model = keras.models.Sequential([\n",
        "    keras.layers.Flatten(input_shape=[28, 28]),\n",
        "    keras.layers.Dense(300, kernel_initializer=\"he_normal\"),\n",
        "    keras.layers.LeakyReLU(),\n",
        "    keras.layers.Dense(100, kernel_initializer=\"he_normal\"),\n",
        "    keras.layers.LeakyReLU(),\n",
        "    keras.layers.Dense(10, activation=\"softmax\")\n",
        "])\n",
        "model.compile(loss=\"sparse_categorical_crossentropy\",\n",
        "              optimizer=keras.optimizers.SGD(learning_rate=1e-3),\n",
        "              metrics=[\"accuracy\"])\n",
        "history = model.fit(X_train_scaled, y_train, epochs=10, validation_data=(X_valid_scaled, y_valid), batch_size=200)"
      ],
      "metadata": {
        "colab": {
          "base_uri": "https://localhost:8080/"
        },
        "id": "39Rhrqkal1SI",
        "outputId": "98dc93a5-808b-422b-d346-71f0d1804942"
      },
      "execution_count": 130,
      "outputs": [
        {
          "output_type": "stream",
          "name": "stdout",
          "text": [
            "Epoch 1/10\n",
            "275/275 [==============================] - 2s 5ms/step - loss: 1.4734 - accuracy: 0.5076 - val_loss: 0.9930 - val_accuracy: 0.6786\n",
            "Epoch 2/10\n",
            "275/275 [==============================] - 1s 3ms/step - loss: 0.8797 - accuracy: 0.7051 - val_loss: 0.7900 - val_accuracy: 0.7392\n",
            "Epoch 3/10\n",
            "275/275 [==============================] - 1s 3ms/step - loss: 0.7509 - accuracy: 0.7435 - val_loss: 0.7055 - val_accuracy: 0.7646\n",
            "Epoch 4/10\n",
            "275/275 [==============================] - 1s 3ms/step - loss: 0.6868 - accuracy: 0.7643 - val_loss: 0.6555 - val_accuracy: 0.7808\n",
            "Epoch 5/10\n",
            "275/275 [==============================] - 1s 3ms/step - loss: 0.6457 - accuracy: 0.7769 - val_loss: 0.6220 - val_accuracy: 0.7916\n",
            "Epoch 6/10\n",
            "275/275 [==============================] - 1s 3ms/step - loss: 0.6161 - accuracy: 0.7868 - val_loss: 0.5969 - val_accuracy: 0.7972\n",
            "Epoch 7/10\n",
            "275/275 [==============================] - 1s 3ms/step - loss: 0.5932 - accuracy: 0.7944 - val_loss: 0.5771 - val_accuracy: 0.8020\n",
            "Epoch 8/10\n",
            "275/275 [==============================] - 1s 3ms/step - loss: 0.5748 - accuracy: 0.8003 - val_loss: 0.5607 - val_accuracy: 0.8080\n",
            "Epoch 9/10\n",
            "275/275 [==============================] - 1s 3ms/step - loss: 0.5595 - accuracy: 0.8053 - val_loss: 0.5474 - val_accuracy: 0.8118\n",
            "Epoch 10/10\n",
            "275/275 [==============================] - 1s 3ms/step - loss: 0.5466 - accuracy: 0.8092 - val_loss: 0.5358 - val_accuracy: 0.8172\n"
          ]
        }
      ]
    },
    {
      "cell_type": "code",
      "source": [
        "loss_leakyRELU, accuracy_leakyRELU = model2.evaluate(X_valid_scaled, y_valid)"
      ],
      "metadata": {
        "colab": {
          "base_uri": "https://localhost:8080/"
        },
        "id": "0l500TclmED5",
        "outputId": "67eb5478-3b22-4679-a174-fcf46ec7c346"
      },
      "execution_count": 131,
      "outputs": [
        {
          "output_type": "stream",
          "name": "stdout",
          "text": [
            "157/157 [==============================] - 0s 2ms/step - loss: 0.4880 - accuracy: 0.8308\n"
          ]
        }
      ]
    },
    {
      "cell_type": "code",
      "source": [
        "keras.backend.clear_session()\n",
        "tf.random.set_seed(42)\n",
        "\n",
        "model1 = keras.models.Sequential([\n",
        "    keras.layers.Flatten(input_shape=[28, 28]),\n",
        "    keras.layers.Dense(300, kernel_initializer=\"he_normal\"),\n",
        "    keras.layers.PReLU(),\n",
        "    keras.layers.Dense(100, kernel_initializer=\"he_normal\"),\n",
        "    keras.layers.PReLU(),\n",
        "    keras.layers.Dense(10, activation=\"softmax\")\n",
        "])\n",
        "model1.compile(loss=\"sparse_categorical_crossentropy\",\n",
        "              optimizer=keras.optimizers.SGD(learning_rate=1e-3),\n",
        "              metrics=[\"accuracy\"])\n",
        "history = model1.fit(X_train_scaled, y_train, epochs=10, validation_data=(X_valid_scaled, y_valid), batch_size=200)"
      ],
      "metadata": {
        "colab": {
          "base_uri": "https://localhost:8080/"
        },
        "id": "HCT354spg7tL",
        "outputId": "aa598d33-b291-40d9-c0a2-d3deaef395be"
      },
      "execution_count": 132,
      "outputs": [
        {
          "output_type": "stream",
          "name": "stdout",
          "text": [
            "Epoch 1/10\n",
            "275/275 [==============================] - 2s 6ms/step - loss: 1.6928 - accuracy: 0.4466 - val_loss: 1.1132 - val_accuracy: 0.6572\n",
            "Epoch 2/10\n",
            "275/275 [==============================] - 1s 4ms/step - loss: 0.9827 - accuracy: 0.6821 - val_loss: 0.8640 - val_accuracy: 0.7236\n",
            "Epoch 3/10\n",
            "275/275 [==============================] - 1s 3ms/step - loss: 0.8211 - accuracy: 0.7256 - val_loss: 0.7615 - val_accuracy: 0.7472\n",
            "Epoch 4/10\n",
            "275/275 [==============================] - 1s 3ms/step - loss: 0.7403 - accuracy: 0.7477 - val_loss: 0.7014 - val_accuracy: 0.7658\n",
            "Epoch 5/10\n",
            "275/275 [==============================] - 1s 3ms/step - loss: 0.6883 - accuracy: 0.7635 - val_loss: 0.6608 - val_accuracy: 0.7800\n",
            "Epoch 6/10\n",
            "275/275 [==============================] - 1s 4ms/step - loss: 0.6508 - accuracy: 0.7745 - val_loss: 0.6301 - val_accuracy: 0.7874\n",
            "Epoch 7/10\n",
            "275/275 [==============================] - 1s 4ms/step - loss: 0.6218 - accuracy: 0.7844 - val_loss: 0.6055 - val_accuracy: 0.7954\n",
            "Epoch 8/10\n",
            "275/275 [==============================] - 1s 4ms/step - loss: 0.5985 - accuracy: 0.7913 - val_loss: 0.5857 - val_accuracy: 0.8030\n",
            "Epoch 9/10\n",
            "275/275 [==============================] - 1s 4ms/step - loss: 0.5792 - accuracy: 0.7976 - val_loss: 0.5690 - val_accuracy: 0.8090\n",
            "Epoch 10/10\n",
            "275/275 [==============================] - 1s 4ms/step - loss: 0.5628 - accuracy: 0.8032 - val_loss: 0.5546 - val_accuracy: 0.8132\n"
          ]
        }
      ]
    },
    {
      "cell_type": "code",
      "source": [
        "loss_PRELU, accuracy_PRELU = model1.evaluate(X_valid_scaled, y_valid)"
      ],
      "metadata": {
        "colab": {
          "base_uri": "https://localhost:8080/"
        },
        "id": "w5uXy_yFhEwd",
        "outputId": "d99036a4-f3c9-43d1-f21b-17ff25afc826"
      },
      "execution_count": 142,
      "outputs": [
        {
          "output_type": "stream",
          "name": "stdout",
          "text": [
            "157/157 [==============================] - 1s 2ms/step - loss: 0.5546 - accuracy: 0.8132\n"
          ]
        }
      ]
    },
    {
      "cell_type": "code",
      "source": [
        "keras.backend.clear_session()\n",
        "tf.random.set_seed(42)\n",
        "\n",
        "model2 = keras.models.Sequential()\n",
        "model2.add(keras.layers.Flatten(input_shape=[28, 28]))\n",
        "model2.add(keras.layers.Dense(300, activation=\"selu\", kernel_initializer=\"lecun_normal\"))\n",
        "model2.add(keras.layers.Dense(100, activation=\"selu\", kernel_initializer=\"lecun_normal\"))\n",
        "model2.add(keras.layers.Dense(10, activation=\"softmax\"))\n",
        "model2.compile(loss=\"sparse_categorical_crossentropy\",\n",
        "              optimizer=keras.optimizers.SGD(learning_rate=1e-3),\n",
        "              metrics=[\"accuracy\"])\n",
        "\n",
        "\n",
        "history = model2.fit(X_train_scaled, y_train, epochs=10, validation_data=(X_valid_scaled, y_valid), batch_size=200)"
      ],
      "metadata": {
        "colab": {
          "base_uri": "https://localhost:8080/"
        },
        "id": "y85UlkPWmB5v",
        "outputId": "8eb44c23-8b31-4f6d-a710-ae7c5b2e7b1f"
      },
      "execution_count": 134,
      "outputs": [
        {
          "output_type": "stream",
          "name": "stdout",
          "text": [
            "Epoch 1/10\n",
            "275/275 [==============================] - 2s 6ms/step - loss: 1.1739 - accuracy: 0.6123 - val_loss: 0.7925 - val_accuracy: 0.7382\n",
            "Epoch 2/10\n",
            "275/275 [==============================] - 1s 3ms/step - loss: 0.7258 - accuracy: 0.7584 - val_loss: 0.6591 - val_accuracy: 0.7750\n",
            "Epoch 3/10\n",
            "275/275 [==============================] - 1s 3ms/step - loss: 0.6376 - accuracy: 0.7842 - val_loss: 0.6028 - val_accuracy: 0.7924\n",
            "Epoch 4/10\n",
            "275/275 [==============================] - 1s 3ms/step - loss: 0.5926 - accuracy: 0.7974 - val_loss: 0.5679 - val_accuracy: 0.8068\n",
            "Epoch 5/10\n",
            "275/275 [==============================] - 1s 3ms/step - loss: 0.5634 - accuracy: 0.8062 - val_loss: 0.5451 - val_accuracy: 0.8136\n",
            "Epoch 6/10\n",
            "275/275 [==============================] - 1s 3ms/step - loss: 0.5424 - accuracy: 0.8129 - val_loss: 0.5279 - val_accuracy: 0.8188\n",
            "Epoch 7/10\n",
            "275/275 [==============================] - 1s 3ms/step - loss: 0.5262 - accuracy: 0.8188 - val_loss: 0.5137 - val_accuracy: 0.8228\n",
            "Epoch 8/10\n",
            "275/275 [==============================] - 1s 3ms/step - loss: 0.5131 - accuracy: 0.8228 - val_loss: 0.5028 - val_accuracy: 0.8266\n",
            "Epoch 9/10\n",
            "275/275 [==============================] - 1s 3ms/step - loss: 0.5022 - accuracy: 0.8265 - val_loss: 0.4937 - val_accuracy: 0.8298\n",
            "Epoch 10/10\n",
            "275/275 [==============================] - 1s 3ms/step - loss: 0.4928 - accuracy: 0.8305 - val_loss: 0.4856 - val_accuracy: 0.8326\n"
          ]
        }
      ]
    },
    {
      "cell_type": "code",
      "source": [
        "loss_SELU, accuracy_SELU = model2.evaluate(X_valid_scaled, y_valid)"
      ],
      "metadata": {
        "colab": {
          "base_uri": "https://localhost:8080/"
        },
        "id": "TQy00eKcmGx7",
        "outputId": "6fa33185-9ec5-4e08-f7af-552840d584b8"
      },
      "execution_count": 135,
      "outputs": [
        {
          "output_type": "stream",
          "name": "stdout",
          "text": [
            "157/157 [==============================] - 0s 2ms/step - loss: 0.4856 - accuracy: 0.8326\n"
          ]
        }
      ]
    },
    {
      "cell_type": "code",
      "execution_count": 136,
      "metadata": {
        "id": "jdUOZ-9rFqGA",
        "colab": {
          "base_uri": "https://localhost:8080/"
        },
        "outputId": "d7961d1d-7abe-47cb-aaf1-ab89ecaf99b0"
      },
      "outputs": [
        {
          "output_type": "stream",
          "name": "stdout",
          "text": [
            "Epoch 1/10\n",
            "275/275 [==============================] - 2s 6ms/step - loss: 1.9975 - accuracy: 0.3743 - val_loss: 1.6956 - val_accuracy: 0.5832\n",
            "Epoch 2/10\n",
            "275/275 [==============================] - 1s 4ms/step - loss: 1.5189 - accuracy: 0.6141 - val_loss: 1.3524 - val_accuracy: 0.6450\n",
            "Epoch 3/10\n",
            "275/275 [==============================] - 1s 3ms/step - loss: 1.2591 - accuracy: 0.6538 - val_loss: 1.1568 - val_accuracy: 0.6762\n",
            "Epoch 4/10\n",
            "275/275 [==============================] - 1s 3ms/step - loss: 1.1039 - accuracy: 0.6786 - val_loss: 1.0346 - val_accuracy: 0.7014\n",
            "Epoch 5/10\n",
            "275/275 [==============================] - 1s 3ms/step - loss: 1.0034 - accuracy: 0.6983 - val_loss: 0.9529 - val_accuracy: 0.7156\n",
            "Epoch 6/10\n",
            "275/275 [==============================] - 1s 3ms/step - loss: 0.9337 - accuracy: 0.7152 - val_loss: 0.8941 - val_accuracy: 0.7302\n",
            "Epoch 7/10\n",
            "275/275 [==============================] - 1s 3ms/step - loss: 0.8823 - accuracy: 0.7275 - val_loss: 0.8495 - val_accuracy: 0.7392\n",
            "Epoch 8/10\n",
            "275/275 [==============================] - 1s 3ms/step - loss: 0.8427 - accuracy: 0.7352 - val_loss: 0.8144 - val_accuracy: 0.7498\n",
            "Epoch 9/10\n",
            "275/275 [==============================] - 1s 3ms/step - loss: 0.8109 - accuracy: 0.7432 - val_loss: 0.7855 - val_accuracy: 0.7550\n",
            "Epoch 10/10\n",
            "275/275 [==============================] - 1s 3ms/step - loss: 0.7845 - accuracy: 0.7495 - val_loss: 0.7613 - val_accuracy: 0.7618\n"
          ]
        }
      ],
      "source": [
        "# Ex.11.1a Model with elu activation\n",
        "keras.backend.clear_session()\n",
        "tf.random.set_seed(42)\n",
        "\n",
        "model3 = keras.models.Sequential()\n",
        "model3.add(keras.layers.Flatten(input_shape=[28, 28]))\n",
        "model3.add(keras.layers.Dense(300, activation=\"elu\", kernel_initializer=\"lecun_normal\"))\n",
        "model3.add(keras.layers.Dense(100, activation=\"elu\", kernel_initializer=\"lecun_normal\"))\n",
        "model3.add(keras.layers.Dense(10, activation=\"softmax\"))\n",
        "model3.compile(loss=\"sparse_categorical_crossentropy\",\n",
        "              optimizer=keras.optimizers.SGD(learning_rate=1e-3),\n",
        "              metrics=[\"accuracy\"])\n",
        "history = model3.fit(X_train, y_train, epochs=10, validation_data=(X_valid, y_valid), batch_size=200)"
      ]
    },
    {
      "cell_type": "code",
      "source": [
        "loss_ELU, accuracy_ELU = model3.evaluate(X_valid_scaled, y_valid)"
      ],
      "metadata": {
        "colab": {
          "base_uri": "https://localhost:8080/"
        },
        "id": "1z22PDxjhfR9",
        "outputId": "c8c43704-ec55-4e22-f770-984bc97ea4ca"
      },
      "execution_count": 137,
      "outputs": [
        {
          "output_type": "stream",
          "name": "stdout",
          "text": [
            "157/157 [==============================] - 0s 2ms/step - loss: 0.9089 - accuracy: 0.6992\n"
          ]
        }
      ]
    },
    {
      "cell_type": "markdown",
      "metadata": {
        "id": "UMeOgoIQFqGB"
      },
      "source": [
        "#### Ex.11.1b Compare the results of loss, val_accuracy and training time for LeakyReLU, PReLU, SELU, and ELU  \n",
        "\n"
      ]
    },
    {
      "cell_type": "code",
      "source": [
        "# Ex.11.1b\n",
        "results = {\n",
        "    \"loss ftn\": [\"leaky RELU\",\"PRELU\",\"SELU\", \"ELU\"],\n",
        "    \"Loss\": [loss_leakyRELU, loss_PRELU, loss_SELU, loss_ELU],\n",
        "    \"Accuracy\": [accuracy_leakyRELU, accuracy_PRELU, accuracy_SELU, accuracy_ELU]\n",
        "}\n",
        "results_df = pd.DataFrame(results)\n",
        "display(results_df)"
      ],
      "metadata": {
        "colab": {
          "base_uri": "https://localhost:8080/",
          "height": 174
        },
        "id": "bkR2bYIWmsTF",
        "outputId": "adca5eef-75a9-49af-c44d-000ad372a872"
      },
      "execution_count": 144,
      "outputs": [
        {
          "output_type": "display_data",
          "data": {
            "text/plain": [
              "     loss ftn      Loss  Accuracy\n",
              "0  leaky RELU  0.488032    0.8308\n",
              "1       PRELU  0.554594    0.8132\n",
              "2        SELU  0.485586    0.8326\n",
              "3         ELU  0.908882    0.6992"
            ],
            "text/html": [
              "\n",
              "  <div id=\"df-dc57457a-d5d0-48b9-a85d-e3834c8ca76c\" class=\"colab-df-container\">\n",
              "    <div>\n",
              "<style scoped>\n",
              "    .dataframe tbody tr th:only-of-type {\n",
              "        vertical-align: middle;\n",
              "    }\n",
              "\n",
              "    .dataframe tbody tr th {\n",
              "        vertical-align: top;\n",
              "    }\n",
              "\n",
              "    .dataframe thead th {\n",
              "        text-align: right;\n",
              "    }\n",
              "</style>\n",
              "<table border=\"1\" class=\"dataframe\">\n",
              "  <thead>\n",
              "    <tr style=\"text-align: right;\">\n",
              "      <th></th>\n",
              "      <th>loss ftn</th>\n",
              "      <th>Loss</th>\n",
              "      <th>Accuracy</th>\n",
              "    </tr>\n",
              "  </thead>\n",
              "  <tbody>\n",
              "    <tr>\n",
              "      <th>0</th>\n",
              "      <td>leaky RELU</td>\n",
              "      <td>0.488032</td>\n",
              "      <td>0.8308</td>\n",
              "    </tr>\n",
              "    <tr>\n",
              "      <th>1</th>\n",
              "      <td>PRELU</td>\n",
              "      <td>0.554594</td>\n",
              "      <td>0.8132</td>\n",
              "    </tr>\n",
              "    <tr>\n",
              "      <th>2</th>\n",
              "      <td>SELU</td>\n",
              "      <td>0.485586</td>\n",
              "      <td>0.8326</td>\n",
              "    </tr>\n",
              "    <tr>\n",
              "      <th>3</th>\n",
              "      <td>ELU</td>\n",
              "      <td>0.908882</td>\n",
              "      <td>0.6992</td>\n",
              "    </tr>\n",
              "  </tbody>\n",
              "</table>\n",
              "</div>\n",
              "    <div class=\"colab-df-buttons\">\n",
              "\n",
              "  <div class=\"colab-df-container\">\n",
              "    <button class=\"colab-df-convert\" onclick=\"convertToInteractive('df-dc57457a-d5d0-48b9-a85d-e3834c8ca76c')\"\n",
              "            title=\"Convert this dataframe to an interactive table.\"\n",
              "            style=\"display:none;\">\n",
              "\n",
              "  <svg xmlns=\"http://www.w3.org/2000/svg\" height=\"24px\" viewBox=\"0 -960 960 960\">\n",
              "    <path d=\"M120-120v-720h720v720H120Zm60-500h600v-160H180v160Zm220 220h160v-160H400v160Zm0 220h160v-160H400v160ZM180-400h160v-160H180v160Zm440 0h160v-160H620v160ZM180-180h160v-160H180v160Zm440 0h160v-160H620v160Z\"/>\n",
              "  </svg>\n",
              "    </button>\n",
              "\n",
              "  <style>\n",
              "    .colab-df-container {\n",
              "      display:flex;\n",
              "      gap: 12px;\n",
              "    }\n",
              "\n",
              "    .colab-df-convert {\n",
              "      background-color: #E8F0FE;\n",
              "      border: none;\n",
              "      border-radius: 50%;\n",
              "      cursor: pointer;\n",
              "      display: none;\n",
              "      fill: #1967D2;\n",
              "      height: 32px;\n",
              "      padding: 0 0 0 0;\n",
              "      width: 32px;\n",
              "    }\n",
              "\n",
              "    .colab-df-convert:hover {\n",
              "      background-color: #E2EBFA;\n",
              "      box-shadow: 0px 1px 2px rgba(60, 64, 67, 0.3), 0px 1px 3px 1px rgba(60, 64, 67, 0.15);\n",
              "      fill: #174EA6;\n",
              "    }\n",
              "\n",
              "    .colab-df-buttons div {\n",
              "      margin-bottom: 4px;\n",
              "    }\n",
              "\n",
              "    [theme=dark] .colab-df-convert {\n",
              "      background-color: #3B4455;\n",
              "      fill: #D2E3FC;\n",
              "    }\n",
              "\n",
              "    [theme=dark] .colab-df-convert:hover {\n",
              "      background-color: #434B5C;\n",
              "      box-shadow: 0px 1px 3px 1px rgba(0, 0, 0, 0.15);\n",
              "      filter: drop-shadow(0px 1px 2px rgba(0, 0, 0, 0.3));\n",
              "      fill: #FFFFFF;\n",
              "    }\n",
              "  </style>\n",
              "\n",
              "    <script>\n",
              "      const buttonEl =\n",
              "        document.querySelector('#df-dc57457a-d5d0-48b9-a85d-e3834c8ca76c button.colab-df-convert');\n",
              "      buttonEl.style.display =\n",
              "        google.colab.kernel.accessAllowed ? 'block' : 'none';\n",
              "\n",
              "      async function convertToInteractive(key) {\n",
              "        const element = document.querySelector('#df-dc57457a-d5d0-48b9-a85d-e3834c8ca76c');\n",
              "        const dataTable =\n",
              "          await google.colab.kernel.invokeFunction('convertToInteractive',\n",
              "                                                    [key], {});\n",
              "        if (!dataTable) return;\n",
              "\n",
              "        const docLinkHtml = 'Like what you see? Visit the ' +\n",
              "          '<a target=\"_blank\" href=https://colab.research.google.com/notebooks/data_table.ipynb>data table notebook</a>'\n",
              "          + ' to learn more about interactive tables.';\n",
              "        element.innerHTML = '';\n",
              "        dataTable['output_type'] = 'display_data';\n",
              "        await google.colab.output.renderOutput(dataTable, element);\n",
              "        const docLink = document.createElement('div');\n",
              "        docLink.innerHTML = docLinkHtml;\n",
              "        element.appendChild(docLink);\n",
              "      }\n",
              "    </script>\n",
              "  </div>\n",
              "\n",
              "\n",
              "<div id=\"df-d111069a-5fd0-49aa-a553-70108e9f88a7\">\n",
              "  <button class=\"colab-df-quickchart\" onclick=\"quickchart('df-d111069a-5fd0-49aa-a553-70108e9f88a7')\"\n",
              "            title=\"Suggest charts\"\n",
              "            style=\"display:none;\">\n",
              "\n",
              "<svg xmlns=\"http://www.w3.org/2000/svg\" height=\"24px\"viewBox=\"0 0 24 24\"\n",
              "     width=\"24px\">\n",
              "    <g>\n",
              "        <path d=\"M19 3H5c-1.1 0-2 .9-2 2v14c0 1.1.9 2 2 2h14c1.1 0 2-.9 2-2V5c0-1.1-.9-2-2-2zM9 17H7v-7h2v7zm4 0h-2V7h2v10zm4 0h-2v-4h2v4z\"/>\n",
              "    </g>\n",
              "</svg>\n",
              "  </button>\n",
              "\n",
              "<style>\n",
              "  .colab-df-quickchart {\n",
              "      --bg-color: #E8F0FE;\n",
              "      --fill-color: #1967D2;\n",
              "      --hover-bg-color: #E2EBFA;\n",
              "      --hover-fill-color: #174EA6;\n",
              "      --disabled-fill-color: #AAA;\n",
              "      --disabled-bg-color: #DDD;\n",
              "  }\n",
              "\n",
              "  [theme=dark] .colab-df-quickchart {\n",
              "      --bg-color: #3B4455;\n",
              "      --fill-color: #D2E3FC;\n",
              "      --hover-bg-color: #434B5C;\n",
              "      --hover-fill-color: #FFFFFF;\n",
              "      --disabled-bg-color: #3B4455;\n",
              "      --disabled-fill-color: #666;\n",
              "  }\n",
              "\n",
              "  .colab-df-quickchart {\n",
              "    background-color: var(--bg-color);\n",
              "    border: none;\n",
              "    border-radius: 50%;\n",
              "    cursor: pointer;\n",
              "    display: none;\n",
              "    fill: var(--fill-color);\n",
              "    height: 32px;\n",
              "    padding: 0;\n",
              "    width: 32px;\n",
              "  }\n",
              "\n",
              "  .colab-df-quickchart:hover {\n",
              "    background-color: var(--hover-bg-color);\n",
              "    box-shadow: 0 1px 2px rgba(60, 64, 67, 0.3), 0 1px 3px 1px rgba(60, 64, 67, 0.15);\n",
              "    fill: var(--button-hover-fill-color);\n",
              "  }\n",
              "\n",
              "  .colab-df-quickchart-complete:disabled,\n",
              "  .colab-df-quickchart-complete:disabled:hover {\n",
              "    background-color: var(--disabled-bg-color);\n",
              "    fill: var(--disabled-fill-color);\n",
              "    box-shadow: none;\n",
              "  }\n",
              "\n",
              "  .colab-df-spinner {\n",
              "    border: 2px solid var(--fill-color);\n",
              "    border-color: transparent;\n",
              "    border-bottom-color: var(--fill-color);\n",
              "    animation:\n",
              "      spin 1s steps(1) infinite;\n",
              "  }\n",
              "\n",
              "  @keyframes spin {\n",
              "    0% {\n",
              "      border-color: transparent;\n",
              "      border-bottom-color: var(--fill-color);\n",
              "      border-left-color: var(--fill-color);\n",
              "    }\n",
              "    20% {\n",
              "      border-color: transparent;\n",
              "      border-left-color: var(--fill-color);\n",
              "      border-top-color: var(--fill-color);\n",
              "    }\n",
              "    30% {\n",
              "      border-color: transparent;\n",
              "      border-left-color: var(--fill-color);\n",
              "      border-top-color: var(--fill-color);\n",
              "      border-right-color: var(--fill-color);\n",
              "    }\n",
              "    40% {\n",
              "      border-color: transparent;\n",
              "      border-right-color: var(--fill-color);\n",
              "      border-top-color: var(--fill-color);\n",
              "    }\n",
              "    60% {\n",
              "      border-color: transparent;\n",
              "      border-right-color: var(--fill-color);\n",
              "    }\n",
              "    80% {\n",
              "      border-color: transparent;\n",
              "      border-right-color: var(--fill-color);\n",
              "      border-bottom-color: var(--fill-color);\n",
              "    }\n",
              "    90% {\n",
              "      border-color: transparent;\n",
              "      border-bottom-color: var(--fill-color);\n",
              "    }\n",
              "  }\n",
              "</style>\n",
              "\n",
              "  <script>\n",
              "    async function quickchart(key) {\n",
              "      const quickchartButtonEl =\n",
              "        document.querySelector('#' + key + ' button');\n",
              "      quickchartButtonEl.disabled = true;  // To prevent multiple clicks.\n",
              "      quickchartButtonEl.classList.add('colab-df-spinner');\n",
              "      try {\n",
              "        const charts = await google.colab.kernel.invokeFunction(\n",
              "            'suggestCharts', [key], {});\n",
              "      } catch (error) {\n",
              "        console.error('Error during call to suggestCharts:', error);\n",
              "      }\n",
              "      quickchartButtonEl.classList.remove('colab-df-spinner');\n",
              "      quickchartButtonEl.classList.add('colab-df-quickchart-complete');\n",
              "    }\n",
              "    (() => {\n",
              "      let quickchartButtonEl =\n",
              "        document.querySelector('#df-d111069a-5fd0-49aa-a553-70108e9f88a7 button');\n",
              "      quickchartButtonEl.style.display =\n",
              "        google.colab.kernel.accessAllowed ? 'block' : 'none';\n",
              "    })();\n",
              "  </script>\n",
              "</div>\n",
              "\n",
              "  <div id=\"id_93193e34-ccea-4234-a842-9804f49e85a2\">\n",
              "    <style>\n",
              "      .colab-df-generate {\n",
              "        background-color: #E8F0FE;\n",
              "        border: none;\n",
              "        border-radius: 50%;\n",
              "        cursor: pointer;\n",
              "        display: none;\n",
              "        fill: #1967D2;\n",
              "        height: 32px;\n",
              "        padding: 0 0 0 0;\n",
              "        width: 32px;\n",
              "      }\n",
              "\n",
              "      .colab-df-generate:hover {\n",
              "        background-color: #E2EBFA;\n",
              "        box-shadow: 0px 1px 2px rgba(60, 64, 67, 0.3), 0px 1px 3px 1px rgba(60, 64, 67, 0.15);\n",
              "        fill: #174EA6;\n",
              "      }\n",
              "\n",
              "      [theme=dark] .colab-df-generate {\n",
              "        background-color: #3B4455;\n",
              "        fill: #D2E3FC;\n",
              "      }\n",
              "\n",
              "      [theme=dark] .colab-df-generate:hover {\n",
              "        background-color: #434B5C;\n",
              "        box-shadow: 0px 1px 3px 1px rgba(0, 0, 0, 0.15);\n",
              "        filter: drop-shadow(0px 1px 2px rgba(0, 0, 0, 0.3));\n",
              "        fill: #FFFFFF;\n",
              "      }\n",
              "    </style>\n",
              "    <button class=\"colab-df-generate\" onclick=\"generateWithVariable('results_df')\"\n",
              "            title=\"Generate code using this dataframe.\"\n",
              "            style=\"display:none;\">\n",
              "\n",
              "  <svg xmlns=\"http://www.w3.org/2000/svg\" height=\"24px\"viewBox=\"0 0 24 24\"\n",
              "       width=\"24px\">\n",
              "    <path d=\"M7,19H8.4L18.45,9,17,7.55,7,17.6ZM5,21V16.75L18.45,3.32a2,2,0,0,1,2.83,0l1.4,1.43a1.91,1.91,0,0,1,.58,1.4,1.91,1.91,0,0,1-.58,1.4L9.25,21ZM18.45,9,17,7.55Zm-12,3A5.31,5.31,0,0,0,4.9,8.1,5.31,5.31,0,0,0,1,6.5,5.31,5.31,0,0,0,4.9,4.9,5.31,5.31,0,0,0,6.5,1,5.31,5.31,0,0,0,8.1,4.9,5.31,5.31,0,0,0,12,6.5,5.46,5.46,0,0,0,6.5,12Z\"/>\n",
              "  </svg>\n",
              "    </button>\n",
              "    <script>\n",
              "      (() => {\n",
              "      const buttonEl =\n",
              "        document.querySelector('#id_93193e34-ccea-4234-a842-9804f49e85a2 button.colab-df-generate');\n",
              "      buttonEl.style.display =\n",
              "        google.colab.kernel.accessAllowed ? 'block' : 'none';\n",
              "\n",
              "      buttonEl.onclick = () => {\n",
              "        google.colab.notebook.generateWithVariable('results_df');\n",
              "      }\n",
              "      })();\n",
              "    </script>\n",
              "  </div>\n",
              "\n",
              "    </div>\n",
              "  </div>\n"
            ],
            "application/vnd.google.colaboratory.intrinsic+json": {
              "type": "dataframe",
              "variable_name": "results_df",
              "summary": "{\n  \"name\": \"results_df\",\n  \"rows\": 4,\n  \"fields\": [\n    {\n      \"column\": \"loss ftn\",\n      \"properties\": {\n        \"dtype\": \"string\",\n        \"num_unique_values\": 4,\n        \"samples\": [\n          \"PRELU\",\n          \"ELU\",\n          \"leaky RELU\"\n        ],\n        \"semantic_type\": \"\",\n        \"description\": \"\"\n      }\n    },\n    {\n      \"column\": \"Loss\",\n      \"properties\": {\n        \"dtype\": \"number\",\n        \"std\": 0.20228111247594896,\n        \"min\": 0.4855864346027374,\n        \"max\": 0.9088818430900574,\n        \"num_unique_values\": 4,\n        \"samples\": [\n          0.5545938611030579,\n          0.9088818430900574,\n          0.4880322813987732\n        ],\n        \"semantic_type\": \"\",\n        \"description\": \"\"\n      }\n    },\n    {\n      \"column\": \"Accuracy\",\n      \"properties\": {\n        \"dtype\": \"number\",\n        \"std\": 0.06377009300122163,\n        \"min\": 0.6991999745368958,\n        \"max\": 0.8325999975204468,\n        \"num_unique_values\": 4,\n        \"samples\": [\n          0.8131999969482422,\n          0.6991999745368958,\n          0.8307999968528748\n        ],\n        \"semantic_type\": \"\",\n        \"description\": \"\"\n      }\n    }\n  ]\n}"
            }
          },
          "metadata": {}
        }
      ]
    },
    {
      "cell_type": "markdown",
      "metadata": {
        "id": "51oxaPLkFqGB"
      },
      "source": [
        "## Reusing Pretrained Layers"
      ]
    },
    {
      "cell_type": "markdown",
      "metadata": {
        "id": "2FG8hA6_FqGB"
      },
      "source": [
        "### Reusing a Keras model"
      ]
    },
    {
      "cell_type": "markdown",
      "metadata": {
        "id": "0zWOztxLFqGB"
      },
      "source": [
        "### Exercise 11.2  \n",
        "\"Reusing a Keras model\" 부분에서 Fashion MNIST의 class 5,6,7을 제외하고 7개의 class로 학습하고 class 5,6,7에 대해 300개의 학습데이터를 이용하여 단독 학습한 결과와 transfer leranng을 이용한 경우에 대해 비교하시오. 제외시키는 class가 3개로 늘어난 것 외에는 모두 위의 실습 코드와 동일하게 작성하시오. 결과를 비교하고 분석하시오."
      ]
    },
    {
      "cell_type": "code",
      "execution_count": null,
      "metadata": {
        "id": "7KIQAM0FFqGB"
      },
      "outputs": [],
      "source": [
        "# Ex.11.2a 7개 class 데이터를 이용한 학습\n",
        "def split_dataset(X, y):\n",
        "  y_5_or_6_or_7 = (y == 5) | (y == 6) | (y == 7)\n",
        "  y_A = y[~y_5_or_6_or_7]\n",
        "  y_A[y_A > 7] -= 3\n",
        "  return (X[~y_5_or_6_or_7], y_A)\n",
        "\n",
        "(X_train_A, y_train_A)= split_dataset(X_train, y_train)\n",
        "(X_valid_A, y_valid_A)= split_dataset(X_valid, y_valid)\n",
        "(X_test_A, y_test_A) = split_dataset(X_test, y_test)"
      ]
    },
    {
      "cell_type": "code",
      "source": [
        "tf.random.set_seed(42)\n",
        "np.random.seed(42)"
      ],
      "metadata": {
        "id": "pifCB77hhpIn"
      },
      "execution_count": null,
      "outputs": []
    },
    {
      "cell_type": "code",
      "source": [
        "model_A = keras.models.Sequential()\n",
        "model_A.add(keras.layers.Flatten(input_shape=[28, 28]))\n",
        "for n_hidden in (300, 100, 50, 50, 50):\n",
        "    model_A.add(keras.layers.Dense(n_hidden, activation=\"selu\"))\n",
        "model_A.add(keras.layers.Dense(8, activation=\"softmax\"))"
      ],
      "metadata": {
        "id": "nBaDtSN0hqb_"
      },
      "execution_count": null,
      "outputs": []
    },
    {
      "cell_type": "code",
      "source": [
        "model_A.compile(loss=\"sparse_categorical_crossentropy\",\n",
        "                optimizer=keras.optimizers.SGD(learning_rate=1e-3),\n",
        "                metrics=[\"accuracy\"])"
      ],
      "metadata": {
        "id": "8WWDm-57hshO"
      },
      "execution_count": null,
      "outputs": []
    },
    {
      "cell_type": "code",
      "source": [
        "history = model_A.fit(X_train_A, y_train_A, epochs=20,\n",
        "                    validation_data=(X_valid_A, y_valid_A), batch_size=200)"
      ],
      "metadata": {
        "id": "7l1soomUhtYQ"
      },
      "execution_count": null,
      "outputs": []
    },
    {
      "cell_type": "code",
      "source": [
        "model_A.save(\"my_model_A.h5\")"
      ],
      "metadata": {
        "id": "-hQotaHfhwny"
      },
      "execution_count": null,
      "outputs": []
    },
    {
      "cell_type": "code",
      "execution_count": null,
      "metadata": {
        "id": "2iwOrdg5FqGB"
      },
      "outputs": [],
      "source": [
        "# Ex 11.2.b\n",
        "def split_dataset(X, y):\n",
        "  y_5_or_6_or_7 = (y == 5) | (y == 6) | (y == 7)\n",
        "  y_B = y[y_5_or_6_or_7]\n",
        "  y_B -= 5\n",
        "  return (X[y_5_or_6_or_7], y_B)\n",
        "\n",
        "(X_train_B, y_train_B) = split_dataset(X_train, y_train)\n",
        "(X_valid_B, y_valid_B) = split_dataset(X_valid, y_valid)\n",
        "(X_test_B, y_test_B) = split_dataset(X_test, y_test)\n",
        "X_train_B = X_train_B[:300]\n",
        "y_train_B = y_train_B[:300]"
      ]
    },
    {
      "cell_type": "code",
      "source": [
        "tf.random.set_seed(42)\n",
        "np.random.seed(42)"
      ],
      "metadata": {
        "id": "-wQwd3T8wZip"
      },
      "execution_count": null,
      "outputs": []
    },
    {
      "cell_type": "code",
      "source": [
        "model_B = keras.models.Sequential()\n",
        "model_B.add(keras.layers.Flatten(input_shape=[28, 28]))\n",
        "for n_hidden in (300, 100, 50, 50, 50):\n",
        "    model_B.add(keras.layers.Dense(n_hidden, activation=\"selu\"))\n",
        "model_B.add(keras.layers.Dense(3, activation=\"softmax\"))"
      ],
      "metadata": {
        "id": "rigmvYGOpwut"
      },
      "execution_count": null,
      "outputs": []
    },
    {
      "cell_type": "code",
      "source": [
        "model_B.compile(loss=\"sparse_categorical_crossentropy\",\n",
        "                optimizer=keras.optimizers.SGD(learning_rate=1e-3),\n",
        "                metrics=[\"accuracy\"])"
      ],
      "metadata": {
        "id": "iZiE_5oZpyb2"
      },
      "execution_count": null,
      "outputs": []
    },
    {
      "cell_type": "code",
      "source": [
        "history = model_B.fit(X_train_B, y_train_B, epochs=20, validation_data=(X_valid_B, y_valid_B), batch_size=200)"
      ],
      "metadata": {
        "id": "zGvE43tTp0KG"
      },
      "execution_count": null,
      "outputs": []
    },
    {
      "cell_type": "code",
      "execution_count": null,
      "metadata": {
        "id": "b3ET3EKfFqGB"
      },
      "outputs": [],
      "source": [
        "#Ex. 11.2c Transfer learning using pregtrained layers\n",
        "model_A = keras.models.load_model(\"my_model_A.h5\")\n",
        "model_B_on_A = keras.models.Sequential(model_A.layers[:-1])\n",
        "model_B_on_A.add(keras.layers.Dense(3, activation=\"softmax\"))"
      ]
    },
    {
      "cell_type": "code",
      "source": [
        "tf.random.set_seed(42)"
      ],
      "metadata": {
        "id": "quRsACXzikIu"
      },
      "execution_count": null,
      "outputs": []
    },
    {
      "cell_type": "code",
      "source": [
        "# Keep parameters of Model_A\n",
        "model_A_clone = keras.models.clone_model(model_A)\n",
        "model_A_clone.set_weights(model_A.get_weights())"
      ],
      "metadata": {
        "id": "Fay2xXKvxGS6"
      },
      "execution_count": null,
      "outputs": []
    },
    {
      "cell_type": "code",
      "source": [
        "for layer in model_B_on_A.layers[:-1]:\n",
        "    layer.trainable = False\n",
        "\n",
        "model_B_on_A.compile(loss=\"sparse_categorical_crossentropy\",\n",
        "                     optimizer=keras.optimizers.SGD(learning_rate=1e-3),\n",
        "                     metrics=[\"accuracy\"])\n",
        "history = model_B_on_A.fit(X_train_B, y_train_B, epochs=4,\n",
        "                           validation_data=(X_valid_B, y_valid_B), batch_size=200)"
      ],
      "metadata": {
        "id": "lIkoWYHhxHZc"
      },
      "execution_count": null,
      "outputs": []
    },
    {
      "cell_type": "code",
      "source": [
        "for layer in model_B_on_A.layers[:-1]:\n",
        "    layer.trainable = True\n",
        "\n",
        "model_B_on_A.compile(loss=\"sparse_categorical_crossentropy\",\n",
        "                     optimizer=keras.optimizers.SGD(learning_rate=1e-3),\n",
        "                     metrics=[\"accuracy\"])\n",
        "history = model_B_on_A.fit(X_train_B, y_train_B, epochs=16,\n",
        "                           validation_data=(X_valid_B, y_valid_B), batch_size=200)"
      ],
      "metadata": {
        "id": "CRz6rTFGxJXG"
      },
      "execution_count": null,
      "outputs": []
    },
    {
      "cell_type": "markdown",
      "metadata": {
        "id": "jrbzAZa4FqGB"
      },
      "source": [
        "#### Ex.11.2d 결과비교"
      ]
    },
    {
      "cell_type": "code",
      "source": [
        "a_loss, a_accuracy = model_A.evaluate(X_test_A, y_test_A, batch_size=200)"
      ],
      "metadata": {
        "id": "BnyjDt8K7T-v"
      },
      "execution_count": null,
      "outputs": []
    },
    {
      "cell_type": "code",
      "source": [
        "b_loss, b_accuracy = model_B.evaluate(X_test_B, y_test_B, batch_size=200)"
      ],
      "metadata": {
        "id": "QF7ZnC5ciDNq"
      },
      "execution_count": null,
      "outputs": []
    },
    {
      "cell_type": "code",
      "source": [
        "b_on_a_loss, b_on_a_accuracy = model_B_on_A.evaluate(X_test_B, y_test_B, batch_size=200)"
      ],
      "metadata": {
        "id": "yxMNqxG0iGOc"
      },
      "execution_count": null,
      "outputs": []
    },
    {
      "cell_type": "code",
      "source": [
        "results = {\n",
        "    \"Model Description\": [\"7 classes(0~4, 8, 9)\", \"classes 5,6,7\", \"Transfer\"],\n",
        "    \"Loss\": [a_loss, b_loss, b_on_a_loss],\n",
        "    \"Accuracy\": [a_accuracy, b_accuracy, b_on_a_accuracy]\n",
        "}"
      ],
      "metadata": {
        "id": "CCWpbRCnqhqo"
      },
      "execution_count": 152,
      "outputs": []
    },
    {
      "cell_type": "code",
      "source": [
        "import pandas as pd\n",
        "df = pd.DataFrame(results)\n",
        "display(df)"
      ],
      "metadata": {
        "id": "m17gzaUvqlog",
        "outputId": "f189b3ab-eb0f-4650-b64c-8c29905c7805",
        "colab": {
          "base_uri": "https://localhost:8080/",
          "height": 143
        }
      },
      "execution_count": 153,
      "outputs": [
        {
          "output_type": "display_data",
          "data": {
            "text/plain": [
              "      Model Description      Loss  Accuracy\n",
              "0  7 classes(0~4, 8, 9)  0.353904  0.879143\n",
              "1         classes 5,6,7  0.510805  0.808667\n",
              "2              Transfer  0.477370  0.815000"
            ],
            "text/html": [
              "\n",
              "  <div id=\"df-87bc961c-3861-491b-b56e-c380e975f4a1\" class=\"colab-df-container\">\n",
              "    <div>\n",
              "<style scoped>\n",
              "    .dataframe tbody tr th:only-of-type {\n",
              "        vertical-align: middle;\n",
              "    }\n",
              "\n",
              "    .dataframe tbody tr th {\n",
              "        vertical-align: top;\n",
              "    }\n",
              "\n",
              "    .dataframe thead th {\n",
              "        text-align: right;\n",
              "    }\n",
              "</style>\n",
              "<table border=\"1\" class=\"dataframe\">\n",
              "  <thead>\n",
              "    <tr style=\"text-align: right;\">\n",
              "      <th></th>\n",
              "      <th>Model Description</th>\n",
              "      <th>Loss</th>\n",
              "      <th>Accuracy</th>\n",
              "    </tr>\n",
              "  </thead>\n",
              "  <tbody>\n",
              "    <tr>\n",
              "      <th>0</th>\n",
              "      <td>7 classes(0~4, 8, 9)</td>\n",
              "      <td>0.353904</td>\n",
              "      <td>0.879143</td>\n",
              "    </tr>\n",
              "    <tr>\n",
              "      <th>1</th>\n",
              "      <td>classes 5,6,7</td>\n",
              "      <td>0.510805</td>\n",
              "      <td>0.808667</td>\n",
              "    </tr>\n",
              "    <tr>\n",
              "      <th>2</th>\n",
              "      <td>Transfer</td>\n",
              "      <td>0.477370</td>\n",
              "      <td>0.815000</td>\n",
              "    </tr>\n",
              "  </tbody>\n",
              "</table>\n",
              "</div>\n",
              "    <div class=\"colab-df-buttons\">\n",
              "\n",
              "  <div class=\"colab-df-container\">\n",
              "    <button class=\"colab-df-convert\" onclick=\"convertToInteractive('df-87bc961c-3861-491b-b56e-c380e975f4a1')\"\n",
              "            title=\"Convert this dataframe to an interactive table.\"\n",
              "            style=\"display:none;\">\n",
              "\n",
              "  <svg xmlns=\"http://www.w3.org/2000/svg\" height=\"24px\" viewBox=\"0 -960 960 960\">\n",
              "    <path d=\"M120-120v-720h720v720H120Zm60-500h600v-160H180v160Zm220 220h160v-160H400v160Zm0 220h160v-160H400v160ZM180-400h160v-160H180v160Zm440 0h160v-160H620v160ZM180-180h160v-160H180v160Zm440 0h160v-160H620v160Z\"/>\n",
              "  </svg>\n",
              "    </button>\n",
              "\n",
              "  <style>\n",
              "    .colab-df-container {\n",
              "      display:flex;\n",
              "      gap: 12px;\n",
              "    }\n",
              "\n",
              "    .colab-df-convert {\n",
              "      background-color: #E8F0FE;\n",
              "      border: none;\n",
              "      border-radius: 50%;\n",
              "      cursor: pointer;\n",
              "      display: none;\n",
              "      fill: #1967D2;\n",
              "      height: 32px;\n",
              "      padding: 0 0 0 0;\n",
              "      width: 32px;\n",
              "    }\n",
              "\n",
              "    .colab-df-convert:hover {\n",
              "      background-color: #E2EBFA;\n",
              "      box-shadow: 0px 1px 2px rgba(60, 64, 67, 0.3), 0px 1px 3px 1px rgba(60, 64, 67, 0.15);\n",
              "      fill: #174EA6;\n",
              "    }\n",
              "\n",
              "    .colab-df-buttons div {\n",
              "      margin-bottom: 4px;\n",
              "    }\n",
              "\n",
              "    [theme=dark] .colab-df-convert {\n",
              "      background-color: #3B4455;\n",
              "      fill: #D2E3FC;\n",
              "    }\n",
              "\n",
              "    [theme=dark] .colab-df-convert:hover {\n",
              "      background-color: #434B5C;\n",
              "      box-shadow: 0px 1px 3px 1px rgba(0, 0, 0, 0.15);\n",
              "      filter: drop-shadow(0px 1px 2px rgba(0, 0, 0, 0.3));\n",
              "      fill: #FFFFFF;\n",
              "    }\n",
              "  </style>\n",
              "\n",
              "    <script>\n",
              "      const buttonEl =\n",
              "        document.querySelector('#df-87bc961c-3861-491b-b56e-c380e975f4a1 button.colab-df-convert');\n",
              "      buttonEl.style.display =\n",
              "        google.colab.kernel.accessAllowed ? 'block' : 'none';\n",
              "\n",
              "      async function convertToInteractive(key) {\n",
              "        const element = document.querySelector('#df-87bc961c-3861-491b-b56e-c380e975f4a1');\n",
              "        const dataTable =\n",
              "          await google.colab.kernel.invokeFunction('convertToInteractive',\n",
              "                                                    [key], {});\n",
              "        if (!dataTable) return;\n",
              "\n",
              "        const docLinkHtml = 'Like what you see? Visit the ' +\n",
              "          '<a target=\"_blank\" href=https://colab.research.google.com/notebooks/data_table.ipynb>data table notebook</a>'\n",
              "          + ' to learn more about interactive tables.';\n",
              "        element.innerHTML = '';\n",
              "        dataTable['output_type'] = 'display_data';\n",
              "        await google.colab.output.renderOutput(dataTable, element);\n",
              "        const docLink = document.createElement('div');\n",
              "        docLink.innerHTML = docLinkHtml;\n",
              "        element.appendChild(docLink);\n",
              "      }\n",
              "    </script>\n",
              "  </div>\n",
              "\n",
              "\n",
              "<div id=\"df-d7b469c6-80ff-48b6-8fba-2431e493c396\">\n",
              "  <button class=\"colab-df-quickchart\" onclick=\"quickchart('df-d7b469c6-80ff-48b6-8fba-2431e493c396')\"\n",
              "            title=\"Suggest charts\"\n",
              "            style=\"display:none;\">\n",
              "\n",
              "<svg xmlns=\"http://www.w3.org/2000/svg\" height=\"24px\"viewBox=\"0 0 24 24\"\n",
              "     width=\"24px\">\n",
              "    <g>\n",
              "        <path d=\"M19 3H5c-1.1 0-2 .9-2 2v14c0 1.1.9 2 2 2h14c1.1 0 2-.9 2-2V5c0-1.1-.9-2-2-2zM9 17H7v-7h2v7zm4 0h-2V7h2v10zm4 0h-2v-4h2v4z\"/>\n",
              "    </g>\n",
              "</svg>\n",
              "  </button>\n",
              "\n",
              "<style>\n",
              "  .colab-df-quickchart {\n",
              "      --bg-color: #E8F0FE;\n",
              "      --fill-color: #1967D2;\n",
              "      --hover-bg-color: #E2EBFA;\n",
              "      --hover-fill-color: #174EA6;\n",
              "      --disabled-fill-color: #AAA;\n",
              "      --disabled-bg-color: #DDD;\n",
              "  }\n",
              "\n",
              "  [theme=dark] .colab-df-quickchart {\n",
              "      --bg-color: #3B4455;\n",
              "      --fill-color: #D2E3FC;\n",
              "      --hover-bg-color: #434B5C;\n",
              "      --hover-fill-color: #FFFFFF;\n",
              "      --disabled-bg-color: #3B4455;\n",
              "      --disabled-fill-color: #666;\n",
              "  }\n",
              "\n",
              "  .colab-df-quickchart {\n",
              "    background-color: var(--bg-color);\n",
              "    border: none;\n",
              "    border-radius: 50%;\n",
              "    cursor: pointer;\n",
              "    display: none;\n",
              "    fill: var(--fill-color);\n",
              "    height: 32px;\n",
              "    padding: 0;\n",
              "    width: 32px;\n",
              "  }\n",
              "\n",
              "  .colab-df-quickchart:hover {\n",
              "    background-color: var(--hover-bg-color);\n",
              "    box-shadow: 0 1px 2px rgba(60, 64, 67, 0.3), 0 1px 3px 1px rgba(60, 64, 67, 0.15);\n",
              "    fill: var(--button-hover-fill-color);\n",
              "  }\n",
              "\n",
              "  .colab-df-quickchart-complete:disabled,\n",
              "  .colab-df-quickchart-complete:disabled:hover {\n",
              "    background-color: var(--disabled-bg-color);\n",
              "    fill: var(--disabled-fill-color);\n",
              "    box-shadow: none;\n",
              "  }\n",
              "\n",
              "  .colab-df-spinner {\n",
              "    border: 2px solid var(--fill-color);\n",
              "    border-color: transparent;\n",
              "    border-bottom-color: var(--fill-color);\n",
              "    animation:\n",
              "      spin 1s steps(1) infinite;\n",
              "  }\n",
              "\n",
              "  @keyframes spin {\n",
              "    0% {\n",
              "      border-color: transparent;\n",
              "      border-bottom-color: var(--fill-color);\n",
              "      border-left-color: var(--fill-color);\n",
              "    }\n",
              "    20% {\n",
              "      border-color: transparent;\n",
              "      border-left-color: var(--fill-color);\n",
              "      border-top-color: var(--fill-color);\n",
              "    }\n",
              "    30% {\n",
              "      border-color: transparent;\n",
              "      border-left-color: var(--fill-color);\n",
              "      border-top-color: var(--fill-color);\n",
              "      border-right-color: var(--fill-color);\n",
              "    }\n",
              "    40% {\n",
              "      border-color: transparent;\n",
              "      border-right-color: var(--fill-color);\n",
              "      border-top-color: var(--fill-color);\n",
              "    }\n",
              "    60% {\n",
              "      border-color: transparent;\n",
              "      border-right-color: var(--fill-color);\n",
              "    }\n",
              "    80% {\n",
              "      border-color: transparent;\n",
              "      border-right-color: var(--fill-color);\n",
              "      border-bottom-color: var(--fill-color);\n",
              "    }\n",
              "    90% {\n",
              "      border-color: transparent;\n",
              "      border-bottom-color: var(--fill-color);\n",
              "    }\n",
              "  }\n",
              "</style>\n",
              "\n",
              "  <script>\n",
              "    async function quickchart(key) {\n",
              "      const quickchartButtonEl =\n",
              "        document.querySelector('#' + key + ' button');\n",
              "      quickchartButtonEl.disabled = true;  // To prevent multiple clicks.\n",
              "      quickchartButtonEl.classList.add('colab-df-spinner');\n",
              "      try {\n",
              "        const charts = await google.colab.kernel.invokeFunction(\n",
              "            'suggestCharts', [key], {});\n",
              "      } catch (error) {\n",
              "        console.error('Error during call to suggestCharts:', error);\n",
              "      }\n",
              "      quickchartButtonEl.classList.remove('colab-df-spinner');\n",
              "      quickchartButtonEl.classList.add('colab-df-quickchart-complete');\n",
              "    }\n",
              "    (() => {\n",
              "      let quickchartButtonEl =\n",
              "        document.querySelector('#df-d7b469c6-80ff-48b6-8fba-2431e493c396 button');\n",
              "      quickchartButtonEl.style.display =\n",
              "        google.colab.kernel.accessAllowed ? 'block' : 'none';\n",
              "    })();\n",
              "  </script>\n",
              "</div>\n",
              "\n",
              "  <div id=\"id_45b29b2a-062f-4743-94d9-6528ae06cbfb\">\n",
              "    <style>\n",
              "      .colab-df-generate {\n",
              "        background-color: #E8F0FE;\n",
              "        border: none;\n",
              "        border-radius: 50%;\n",
              "        cursor: pointer;\n",
              "        display: none;\n",
              "        fill: #1967D2;\n",
              "        height: 32px;\n",
              "        padding: 0 0 0 0;\n",
              "        width: 32px;\n",
              "      }\n",
              "\n",
              "      .colab-df-generate:hover {\n",
              "        background-color: #E2EBFA;\n",
              "        box-shadow: 0px 1px 2px rgba(60, 64, 67, 0.3), 0px 1px 3px 1px rgba(60, 64, 67, 0.15);\n",
              "        fill: #174EA6;\n",
              "      }\n",
              "\n",
              "      [theme=dark] .colab-df-generate {\n",
              "        background-color: #3B4455;\n",
              "        fill: #D2E3FC;\n",
              "      }\n",
              "\n",
              "      [theme=dark] .colab-df-generate:hover {\n",
              "        background-color: #434B5C;\n",
              "        box-shadow: 0px 1px 3px 1px rgba(0, 0, 0, 0.15);\n",
              "        filter: drop-shadow(0px 1px 2px rgba(0, 0, 0, 0.3));\n",
              "        fill: #FFFFFF;\n",
              "      }\n",
              "    </style>\n",
              "    <button class=\"colab-df-generate\" onclick=\"generateWithVariable('df')\"\n",
              "            title=\"Generate code using this dataframe.\"\n",
              "            style=\"display:none;\">\n",
              "\n",
              "  <svg xmlns=\"http://www.w3.org/2000/svg\" height=\"24px\"viewBox=\"0 0 24 24\"\n",
              "       width=\"24px\">\n",
              "    <path d=\"M7,19H8.4L18.45,9,17,7.55,7,17.6ZM5,21V16.75L18.45,3.32a2,2,0,0,1,2.83,0l1.4,1.43a1.91,1.91,0,0,1,.58,1.4,1.91,1.91,0,0,1-.58,1.4L9.25,21ZM18.45,9,17,7.55Zm-12,3A5.31,5.31,0,0,0,4.9,8.1,5.31,5.31,0,0,0,1,6.5,5.31,5.31,0,0,0,4.9,4.9,5.31,5.31,0,0,0,6.5,1,5.31,5.31,0,0,0,8.1,4.9,5.31,5.31,0,0,0,12,6.5,5.46,5.46,0,0,0,6.5,12Z\"/>\n",
              "  </svg>\n",
              "    </button>\n",
              "    <script>\n",
              "      (() => {\n",
              "      const buttonEl =\n",
              "        document.querySelector('#id_45b29b2a-062f-4743-94d9-6528ae06cbfb button.colab-df-generate');\n",
              "      buttonEl.style.display =\n",
              "        google.colab.kernel.accessAllowed ? 'block' : 'none';\n",
              "\n",
              "      buttonEl.onclick = () => {\n",
              "        google.colab.notebook.generateWithVariable('df');\n",
              "      }\n",
              "      })();\n",
              "    </script>\n",
              "  </div>\n",
              "\n",
              "    </div>\n",
              "  </div>\n"
            ],
            "application/vnd.google.colaboratory.intrinsic+json": {
              "type": "dataframe",
              "variable_name": "df",
              "summary": "{\n  \"name\": \"df\",\n  \"rows\": 3,\n  \"fields\": [\n    {\n      \"column\": \"Model Description\",\n      \"properties\": {\n        \"dtype\": \"string\",\n        \"num_unique_values\": 3,\n        \"samples\": [\n          \"7 classes(0~4, 8, 9)\",\n          \"classes 5,6,7\",\n          \"Transfer\"\n        ],\n        \"semantic_type\": \"\",\n        \"description\": \"\"\n      }\n    },\n    {\n      \"column\": \"Loss\",\n      \"properties\": {\n        \"dtype\": \"number\",\n        \"std\": 0.08264370817101217,\n        \"min\": 0.353903591632843,\n        \"max\": 0.5108048915863037,\n        \"num_unique_values\": 3,\n        \"samples\": [\n          0.353903591632843,\n          0.5108048915863037,\n          0.47737017273902893\n        ],\n        \"semantic_type\": \"\",\n        \"description\": \"\"\n      }\n    },\n    {\n      \"column\": \"Accuracy\",\n      \"properties\": {\n        \"dtype\": \"number\",\n        \"std\": 0.03898999937300217,\n        \"min\": 0.8086666464805603,\n        \"max\": 0.8791428804397583,\n        \"num_unique_values\": 3,\n        \"samples\": [\n          0.8791428804397583,\n          0.8086666464805603,\n          0.8149999976158142\n        ],\n        \"semantic_type\": \"\",\n        \"description\": \"\"\n      }\n    }\n  ]\n}"
            }
          },
          "metadata": {}
        }
      ]
    },
    {
      "cell_type": "markdown",
      "metadata": {
        "id": "4PRNauhPFqGB"
      },
      "source": [
        "# Faster Optimizers"
      ]
    },
    {
      "cell_type": "markdown",
      "metadata": {
        "id": "ctWQwG73FqGB"
      },
      "source": [
        "### Exercise 11.3  \n",
        "Using Model6, cretae models from model6c to model6i for the above optimizers, train models and compare the results (training time and accuracy)"
      ]
    },
    {
      "cell_type": "code",
      "source": [
        "import time\n",
        "results = []\n",
        "\n",
        "def compile_and_fit_model(optimizer, x_train=X_train, y_train=y_train, x_val=X_valid, y_val=y_valid, epochs=10, batch_size=300):\n",
        "    np.random.seed(42)\n",
        "    tf.random.set_seed(42)\n",
        "    optimizer_name = optimizer.__class__.__name__\n",
        "    if optimizer_name == 'SGD':\n",
        "      optimizer_name = optimizer_name + ' - ' + ('Nesterov Accelerated Gradient' if optimizer.get_config()['nesterov'] else 'Momentum optimization')\n",
        "\n",
        "    model= keras.models.Sequential([\n",
        "        keras.layers.Flatten(input_shape=[28, 28]),\n",
        "        keras.layers.BatchNormalization(),\n",
        "        keras.layers.Dense(300, activation=\"relu\"),\n",
        "        keras.layers.BatchNormalization(),\n",
        "        keras.layers.Dense(100, activation=\"relu\"),\n",
        "        keras.layers.BatchNormalization(),\n",
        "        keras.layers.Dense(10, activation=\"softmax\")\n",
        "    ])\n",
        "    model.compile(loss=\"sparse_categorical_crossentropy\",\n",
        "                  optimizer=optimizer,\n",
        "                  metrics=[\"accuracy\"])\n",
        "    print(f'Model training with {optimizer_name}')\n",
        "    start_time = time.time()\n",
        "    history = model.fit(x_train, y_train, epochs=epochs, batch_size=batch_size,\n",
        "                        validation_data=(x_val, y_val))\n",
        "    end_time = time.time()\n",
        "    training_time = end_time - start_time\n",
        "\n",
        "    _, accuracy = model.evaluate(x_val, y_val)\n",
        "\n",
        "    results.append({'Optimizer': optimizer_name, 'Accuracy':accuracy, 'Training time': training_time })"
      ],
      "metadata": {
        "id": "Htk5KVVTn5w3"
      },
      "execution_count": 178,
      "outputs": []
    },
    {
      "cell_type": "code",
      "source": [
        "optimizers = [\n",
        "    keras.optimizers.SGD(learning_rate=0.001, momentum=0.9),\n",
        "    keras.optimizers.SGD(learning_rate=0.001, momentum=0.9, nesterov=True),\n",
        "    keras.optimizers.Adagrad(learning_rate=0.001),\n",
        "    keras.optimizers.RMSprop(learning_rate=0.001, rho=0.9),\n",
        "    keras.optimizers.Adam(learning_rate=0.001, beta_1=0.9, beta_2=0.999),\n",
        "    keras.optimizers.Adamax(learning_rate=0.001, beta_1=0.9, beta_2=0.999),\n",
        "    keras.optimizers.Nadam(learning_rate=0.001, beta_1=0.9, beta_2=0.999)\n",
        "]"
      ],
      "metadata": {
        "id": "qnQhy9jmpRK7"
      },
      "execution_count": 179,
      "outputs": []
    },
    {
      "cell_type": "code",
      "source": [
        "for optimizer in optimizers:\n",
        "  compile_and_fit_model(optimizer)"
      ],
      "metadata": {
        "id": "NN7tHtnWpkd6",
        "colab": {
          "base_uri": "https://localhost:8080/"
        },
        "outputId": "565ca45e-648b-459f-8201-4e9584fa84ca"
      },
      "execution_count": 180,
      "outputs": [
        {
          "output_type": "stream",
          "name": "stdout",
          "text": [
            "Model training with SGD - Momentum optimization\n",
            "Epoch 1/10\n",
            "184/184 [==============================] - 2s 7ms/step - loss: 0.8079 - accuracy: 0.7272 - val_loss: 0.7979 - val_accuracy: 0.7818\n",
            "Epoch 2/10\n",
            "184/184 [==============================] - 1s 6ms/step - loss: 0.5097 - accuracy: 0.8229 - val_loss: 0.4826 - val_accuracy: 0.8386\n",
            "Epoch 3/10\n",
            "184/184 [==============================] - 1s 6ms/step - loss: 0.4542 - accuracy: 0.8410 - val_loss: 0.4272 - val_accuracy: 0.8536\n",
            "Epoch 4/10\n",
            "184/184 [==============================] - 1s 5ms/step - loss: 0.4219 - accuracy: 0.8515 - val_loss: 0.4057 - val_accuracy: 0.8572\n",
            "Epoch 5/10\n",
            "184/184 [==============================] - 1s 5ms/step - loss: 0.3978 - accuracy: 0.8585 - val_loss: 0.3929 - val_accuracy: 0.8620\n",
            "Epoch 6/10\n",
            "184/184 [==============================] - 1s 5ms/step - loss: 0.3820 - accuracy: 0.8646 - val_loss: 0.3808 - val_accuracy: 0.8656\n",
            "Epoch 7/10\n",
            "184/184 [==============================] - 1s 5ms/step - loss: 0.3675 - accuracy: 0.8697 - val_loss: 0.3715 - val_accuracy: 0.8714\n",
            "Epoch 8/10\n",
            "184/184 [==============================] - 1s 5ms/step - loss: 0.3551 - accuracy: 0.8743 - val_loss: 0.3636 - val_accuracy: 0.8732\n",
            "Epoch 9/10\n",
            "184/184 [==============================] - 1s 6ms/step - loss: 0.3451 - accuracy: 0.8776 - val_loss: 0.3590 - val_accuracy: 0.8756\n",
            "Epoch 10/10\n",
            "184/184 [==============================] - 1s 7ms/step - loss: 0.3358 - accuracy: 0.8801 - val_loss: 0.3524 - val_accuracy: 0.8760\n",
            "157/157 [==============================] - 0s 2ms/step - loss: 0.3524 - accuracy: 0.8760\n",
            "Model training with SGD - Nesterov Accelerated Gradient\n",
            "Epoch 1/10\n",
            "184/184 [==============================] - 3s 7ms/step - loss: 0.8797 - accuracy: 0.7102 - val_loss: 0.8072 - val_accuracy: 0.7852\n",
            "Epoch 2/10\n",
            "184/184 [==============================] - 1s 5ms/step - loss: 0.5312 - accuracy: 0.8179 - val_loss: 0.5018 - val_accuracy: 0.8330\n",
            "Epoch 3/10\n",
            "184/184 [==============================] - 1s 5ms/step - loss: 0.4676 - accuracy: 0.8372 - val_loss: 0.4414 - val_accuracy: 0.8476\n",
            "Epoch 4/10\n",
            "184/184 [==============================] - 1s 5ms/step - loss: 0.4311 - accuracy: 0.8495 - val_loss: 0.4158 - val_accuracy: 0.8552\n",
            "Epoch 5/10\n",
            "184/184 [==============================] - 1s 5ms/step - loss: 0.4055 - accuracy: 0.8591 - val_loss: 0.4006 - val_accuracy: 0.8588\n",
            "Epoch 6/10\n",
            "184/184 [==============================] - 1s 5ms/step - loss: 0.3890 - accuracy: 0.8634 - val_loss: 0.3878 - val_accuracy: 0.8640\n",
            "Epoch 7/10\n",
            "184/184 [==============================] - 1s 5ms/step - loss: 0.3729 - accuracy: 0.8691 - val_loss: 0.3776 - val_accuracy: 0.8666\n",
            "Epoch 8/10\n",
            "184/184 [==============================] - 1s 5ms/step - loss: 0.3601 - accuracy: 0.8733 - val_loss: 0.3693 - val_accuracy: 0.8718\n",
            "Epoch 9/10\n",
            "184/184 [==============================] - 1s 5ms/step - loss: 0.3496 - accuracy: 0.8771 - val_loss: 0.3630 - val_accuracy: 0.8740\n",
            "Epoch 10/10\n",
            "184/184 [==============================] - 1s 6ms/step - loss: 0.3393 - accuracy: 0.8808 - val_loss: 0.3573 - val_accuracy: 0.8772\n",
            "157/157 [==============================] - 0s 2ms/step - loss: 0.3573 - accuracy: 0.8772\n",
            "Model training with Adagrad\n",
            "Epoch 1/10\n",
            "184/184 [==============================] - 3s 7ms/step - loss: 1.1638 - accuracy: 0.6249 - val_loss: 1.0443 - val_accuracy: 0.7212\n",
            "Epoch 2/10\n",
            "184/184 [==============================] - 1s 5ms/step - loss: 0.7077 - accuracy: 0.7686 - val_loss: 0.6521 - val_accuracy: 0.7954\n",
            "Epoch 3/10\n",
            "184/184 [==============================] - 1s 6ms/step - loss: 0.6146 - accuracy: 0.7951 - val_loss: 0.5679 - val_accuracy: 0.8172\n",
            "Epoch 4/10\n",
            "184/184 [==============================] - 1s 5ms/step - loss: 0.5633 - accuracy: 0.8107 - val_loss: 0.5305 - val_accuracy: 0.8264\n",
            "Epoch 5/10\n",
            "184/184 [==============================] - 1s 6ms/step - loss: 0.5289 - accuracy: 0.8207 - val_loss: 0.5051 - val_accuracy: 0.8338\n",
            "Epoch 6/10\n",
            "184/184 [==============================] - 1s 5ms/step - loss: 0.5042 - accuracy: 0.8288 - val_loss: 0.4858 - val_accuracy: 0.8400\n",
            "Epoch 7/10\n",
            "184/184 [==============================] - 1s 6ms/step - loss: 0.4847 - accuracy: 0.8350 - val_loss: 0.4705 - val_accuracy: 0.8442\n",
            "Epoch 8/10\n",
            "184/184 [==============================] - 1s 6ms/step - loss: 0.4687 - accuracy: 0.8403 - val_loss: 0.4584 - val_accuracy: 0.8464\n",
            "Epoch 9/10\n",
            "184/184 [==============================] - 1s 5ms/step - loss: 0.4554 - accuracy: 0.8443 - val_loss: 0.4485 - val_accuracy: 0.8498\n",
            "Epoch 10/10\n",
            "184/184 [==============================] - 1s 6ms/step - loss: 0.4448 - accuracy: 0.8477 - val_loss: 0.4396 - val_accuracy: 0.8496\n",
            "157/157 [==============================] - 1s 3ms/step - loss: 0.4396 - accuracy: 0.8496\n",
            "Model training with RMSprop\n",
            "Epoch 1/10\n",
            "184/184 [==============================] - 3s 9ms/step - loss: 0.4616 - accuracy: 0.8360 - val_loss: 0.4810 - val_accuracy: 0.8400\n",
            "Epoch 2/10\n",
            "184/184 [==============================] - 1s 6ms/step - loss: 0.3273 - accuracy: 0.8803 - val_loss: 0.3257 - val_accuracy: 0.8788\n",
            "Epoch 3/10\n",
            "184/184 [==============================] - 1s 5ms/step - loss: 0.2838 - accuracy: 0.8948 - val_loss: 0.3702 - val_accuracy: 0.8592\n",
            "Epoch 4/10\n",
            "184/184 [==============================] - 1s 5ms/step - loss: 0.2545 - accuracy: 0.9053 - val_loss: 0.3129 - val_accuracy: 0.8820\n",
            "Epoch 5/10\n",
            "184/184 [==============================] - 1s 5ms/step - loss: 0.2305 - accuracy: 0.9143 - val_loss: 0.3179 - val_accuracy: 0.8878\n",
            "Epoch 6/10\n",
            "184/184 [==============================] - 1s 5ms/step - loss: 0.2105 - accuracy: 0.9219 - val_loss: 0.3207 - val_accuracy: 0.8816\n",
            "Epoch 7/10\n",
            "184/184 [==============================] - 1s 6ms/step - loss: 0.1963 - accuracy: 0.9270 - val_loss: 0.3550 - val_accuracy: 0.8768\n",
            "Epoch 8/10\n",
            "184/184 [==============================] - 1s 6ms/step - loss: 0.1775 - accuracy: 0.9342 - val_loss: 0.3453 - val_accuracy: 0.8782\n",
            "Epoch 9/10\n",
            "184/184 [==============================] - 1s 8ms/step - loss: 0.1644 - accuracy: 0.9389 - val_loss: 0.3329 - val_accuracy: 0.8844\n",
            "Epoch 10/10\n",
            "184/184 [==============================] - 1s 6ms/step - loss: 0.1512 - accuracy: 0.9445 - val_loss: 0.3467 - val_accuracy: 0.8822\n",
            "157/157 [==============================] - 0s 3ms/step - loss: 0.3467 - accuracy: 0.8822\n",
            "Model training with Adam\n",
            "Epoch 1/10\n",
            "184/184 [==============================] - 4s 8ms/step - loss: 0.4685 - accuracy: 0.8349 - val_loss: 0.4906 - val_accuracy: 0.8536\n",
            "Epoch 2/10\n",
            "184/184 [==============================] - 1s 7ms/step - loss: 0.3243 - accuracy: 0.8823 - val_loss: 0.3285 - val_accuracy: 0.8816\n",
            "Epoch 3/10\n",
            "184/184 [==============================] - 1s 6ms/step - loss: 0.2815 - accuracy: 0.8978 - val_loss: 0.3208 - val_accuracy: 0.8824\n",
            "Epoch 4/10\n",
            "184/184 [==============================] - 1s 5ms/step - loss: 0.2519 - accuracy: 0.9070 - val_loss: 0.3050 - val_accuracy: 0.8886\n",
            "Epoch 5/10\n",
            "184/184 [==============================] - 1s 6ms/step - loss: 0.2244 - accuracy: 0.9159 - val_loss: 0.3067 - val_accuracy: 0.8860\n",
            "Epoch 6/10\n",
            "184/184 [==============================] - 1s 6ms/step - loss: 0.2088 - accuracy: 0.9230 - val_loss: 0.2976 - val_accuracy: 0.8906\n",
            "Epoch 7/10\n",
            "184/184 [==============================] - 1s 6ms/step - loss: 0.1870 - accuracy: 0.9310 - val_loss: 0.3023 - val_accuracy: 0.8952\n",
            "Epoch 8/10\n",
            "184/184 [==============================] - 1s 6ms/step - loss: 0.1745 - accuracy: 0.9361 - val_loss: 0.3031 - val_accuracy: 0.8858\n",
            "Epoch 9/10\n",
            "184/184 [==============================] - 1s 7ms/step - loss: 0.1608 - accuracy: 0.9399 - val_loss: 0.2911 - val_accuracy: 0.8984\n",
            "Epoch 10/10\n",
            "184/184 [==============================] - 1s 6ms/step - loss: 0.1490 - accuracy: 0.9449 - val_loss: 0.3274 - val_accuracy: 0.8912\n",
            "157/157 [==============================] - 0s 2ms/step - loss: 0.3274 - accuracy: 0.8912\n",
            "Model training with Adamax\n",
            "Epoch 1/10\n",
            "184/184 [==============================] - 3s 7ms/step - loss: 0.4881 - accuracy: 0.8300 - val_loss: 0.5934 - val_accuracy: 0.8416\n",
            "Epoch 2/10\n",
            "184/184 [==============================] - 1s 5ms/step - loss: 0.3506 - accuracy: 0.8748 - val_loss: 0.3491 - val_accuracy: 0.8764\n",
            "Epoch 3/10\n",
            "184/184 [==============================] - 1s 5ms/step - loss: 0.3069 - accuracy: 0.8895 - val_loss: 0.3197 - val_accuracy: 0.8846\n",
            "Epoch 4/10\n",
            "184/184 [==============================] - 1s 5ms/step - loss: 0.2764 - accuracy: 0.9005 - val_loss: 0.3122 - val_accuracy: 0.8872\n",
            "Epoch 5/10\n",
            "184/184 [==============================] - 1s 5ms/step - loss: 0.2512 - accuracy: 0.9098 - val_loss: 0.3108 - val_accuracy: 0.8892\n",
            "Epoch 6/10\n",
            "184/184 [==============================] - 1s 5ms/step - loss: 0.2307 - accuracy: 0.9174 - val_loss: 0.2982 - val_accuracy: 0.8918\n",
            "Epoch 7/10\n",
            "184/184 [==============================] - 1s 5ms/step - loss: 0.2113 - accuracy: 0.9244 - val_loss: 0.2958 - val_accuracy: 0.8942\n",
            "Epoch 8/10\n",
            "184/184 [==============================] - 1s 6ms/step - loss: 0.1928 - accuracy: 0.9321 - val_loss: 0.2948 - val_accuracy: 0.8914\n",
            "Epoch 9/10\n",
            "184/184 [==============================] - 1s 6ms/step - loss: 0.1769 - accuracy: 0.9384 - val_loss: 0.2942 - val_accuracy: 0.8936\n",
            "Epoch 10/10\n",
            "184/184 [==============================] - 1s 7ms/step - loss: 0.1640 - accuracy: 0.9415 - val_loss: 0.3020 - val_accuracy: 0.8922\n",
            "157/157 [==============================] - 0s 2ms/step - loss: 0.3020 - accuracy: 0.8922\n",
            "Model training with Nadam\n",
            "Epoch 1/10\n",
            "184/184 [==============================] - 5s 8ms/step - loss: 0.4604 - accuracy: 0.8394 - val_loss: 0.4561 - val_accuracy: 0.8706\n",
            "Epoch 2/10\n",
            "184/184 [==============================] - 1s 6ms/step - loss: 0.3129 - accuracy: 0.8875 - val_loss: 0.3222 - val_accuracy: 0.8842\n",
            "Epoch 3/10\n",
            "184/184 [==============================] - 1s 7ms/step - loss: 0.2713 - accuracy: 0.9023 - val_loss: 0.3308 - val_accuracy: 0.8806\n",
            "Epoch 4/10\n",
            "184/184 [==============================] - 1s 7ms/step - loss: 0.2416 - accuracy: 0.9125 - val_loss: 0.3146 - val_accuracy: 0.8882\n",
            "Epoch 5/10\n",
            "184/184 [==============================] - 1s 7ms/step - loss: 0.2154 - accuracy: 0.9207 - val_loss: 0.3045 - val_accuracy: 0.8860\n",
            "Epoch 6/10\n",
            "184/184 [==============================] - 1s 6ms/step - loss: 0.1954 - accuracy: 0.9283 - val_loss: 0.3095 - val_accuracy: 0.8898\n",
            "Epoch 7/10\n",
            "184/184 [==============================] - 1s 6ms/step - loss: 0.1790 - accuracy: 0.9336 - val_loss: 0.3339 - val_accuracy: 0.8832\n",
            "Epoch 8/10\n",
            "184/184 [==============================] - 1s 7ms/step - loss: 0.1636 - accuracy: 0.9405 - val_loss: 0.3340 - val_accuracy: 0.8846\n",
            "Epoch 9/10\n",
            "184/184 [==============================] - 1s 8ms/step - loss: 0.1503 - accuracy: 0.9446 - val_loss: 0.3172 - val_accuracy: 0.8926\n",
            "Epoch 10/10\n",
            "184/184 [==============================] - 1s 6ms/step - loss: 0.1396 - accuracy: 0.9486 - val_loss: 0.3366 - val_accuracy: 0.8946\n",
            "157/157 [==============================] - 0s 2ms/step - loss: 0.3366 - accuracy: 0.8946\n"
          ]
        }
      ]
    },
    {
      "cell_type": "markdown",
      "metadata": {
        "id": "BPRTh8eTFqGC"
      },
      "source": [
        "#### Ex.11.3b  \n",
        "Compare the results"
      ]
    },
    {
      "cell_type": "code",
      "source": [
        "results_df = pd.DataFrame(results)\n",
        "display(results_df)"
      ],
      "metadata": {
        "id": "WxQLszdU0GZw",
        "colab": {
          "base_uri": "https://localhost:8080/",
          "height": 269
        },
        "outputId": "098ac70c-8907-49d6-998c-e713ab7a3c22"
      },
      "execution_count": 177,
      "outputs": [
        {
          "output_type": "display_data",
          "data": {
            "text/plain": [
              "                             Optimizer  Accuracy  Training time\n",
              "0                Momentum optimization    0.8686      12.878523\n",
              "1  SGD - Nesterov Accelerated Gradient    0.8762      21.921261\n",
              "2                              Adagrad    0.8502      21.886845\n",
              "3                              RMSprop    0.8950      21.903797\n",
              "4                                 Adam    0.8946      22.099535\n",
              "5                               Adamax    0.8956      13.242033\n",
              "6                                Nadam    0.8908      22.522721"
            ],
            "text/html": [
              "\n",
              "  <div id=\"df-a281036f-a3fd-49e6-813a-673fb268654b\" class=\"colab-df-container\">\n",
              "    <div>\n",
              "<style scoped>\n",
              "    .dataframe tbody tr th:only-of-type {\n",
              "        vertical-align: middle;\n",
              "    }\n",
              "\n",
              "    .dataframe tbody tr th {\n",
              "        vertical-align: top;\n",
              "    }\n",
              "\n",
              "    .dataframe thead th {\n",
              "        text-align: right;\n",
              "    }\n",
              "</style>\n",
              "<table border=\"1\" class=\"dataframe\">\n",
              "  <thead>\n",
              "    <tr style=\"text-align: right;\">\n",
              "      <th></th>\n",
              "      <th>Optimizer</th>\n",
              "      <th>Accuracy</th>\n",
              "      <th>Training time</th>\n",
              "    </tr>\n",
              "  </thead>\n",
              "  <tbody>\n",
              "    <tr>\n",
              "      <th>0</th>\n",
              "      <td>Momentum optimization</td>\n",
              "      <td>0.8686</td>\n",
              "      <td>12.878523</td>\n",
              "    </tr>\n",
              "    <tr>\n",
              "      <th>1</th>\n",
              "      <td>SGD - Nesterov Accelerated Gradient</td>\n",
              "      <td>0.8762</td>\n",
              "      <td>21.921261</td>\n",
              "    </tr>\n",
              "    <tr>\n",
              "      <th>2</th>\n",
              "      <td>Adagrad</td>\n",
              "      <td>0.8502</td>\n",
              "      <td>21.886845</td>\n",
              "    </tr>\n",
              "    <tr>\n",
              "      <th>3</th>\n",
              "      <td>RMSprop</td>\n",
              "      <td>0.8950</td>\n",
              "      <td>21.903797</td>\n",
              "    </tr>\n",
              "    <tr>\n",
              "      <th>4</th>\n",
              "      <td>Adam</td>\n",
              "      <td>0.8946</td>\n",
              "      <td>22.099535</td>\n",
              "    </tr>\n",
              "    <tr>\n",
              "      <th>5</th>\n",
              "      <td>Adamax</td>\n",
              "      <td>0.8956</td>\n",
              "      <td>13.242033</td>\n",
              "    </tr>\n",
              "    <tr>\n",
              "      <th>6</th>\n",
              "      <td>Nadam</td>\n",
              "      <td>0.8908</td>\n",
              "      <td>22.522721</td>\n",
              "    </tr>\n",
              "  </tbody>\n",
              "</table>\n",
              "</div>\n",
              "    <div class=\"colab-df-buttons\">\n",
              "\n",
              "  <div class=\"colab-df-container\">\n",
              "    <button class=\"colab-df-convert\" onclick=\"convertToInteractive('df-a281036f-a3fd-49e6-813a-673fb268654b')\"\n",
              "            title=\"Convert this dataframe to an interactive table.\"\n",
              "            style=\"display:none;\">\n",
              "\n",
              "  <svg xmlns=\"http://www.w3.org/2000/svg\" height=\"24px\" viewBox=\"0 -960 960 960\">\n",
              "    <path d=\"M120-120v-720h720v720H120Zm60-500h600v-160H180v160Zm220 220h160v-160H400v160Zm0 220h160v-160H400v160ZM180-400h160v-160H180v160Zm440 0h160v-160H620v160ZM180-180h160v-160H180v160Zm440 0h160v-160H620v160Z\"/>\n",
              "  </svg>\n",
              "    </button>\n",
              "\n",
              "  <style>\n",
              "    .colab-df-container {\n",
              "      display:flex;\n",
              "      gap: 12px;\n",
              "    }\n",
              "\n",
              "    .colab-df-convert {\n",
              "      background-color: #E8F0FE;\n",
              "      border: none;\n",
              "      border-radius: 50%;\n",
              "      cursor: pointer;\n",
              "      display: none;\n",
              "      fill: #1967D2;\n",
              "      height: 32px;\n",
              "      padding: 0 0 0 0;\n",
              "      width: 32px;\n",
              "    }\n",
              "\n",
              "    .colab-df-convert:hover {\n",
              "      background-color: #E2EBFA;\n",
              "      box-shadow: 0px 1px 2px rgba(60, 64, 67, 0.3), 0px 1px 3px 1px rgba(60, 64, 67, 0.15);\n",
              "      fill: #174EA6;\n",
              "    }\n",
              "\n",
              "    .colab-df-buttons div {\n",
              "      margin-bottom: 4px;\n",
              "    }\n",
              "\n",
              "    [theme=dark] .colab-df-convert {\n",
              "      background-color: #3B4455;\n",
              "      fill: #D2E3FC;\n",
              "    }\n",
              "\n",
              "    [theme=dark] .colab-df-convert:hover {\n",
              "      background-color: #434B5C;\n",
              "      box-shadow: 0px 1px 3px 1px rgba(0, 0, 0, 0.15);\n",
              "      filter: drop-shadow(0px 1px 2px rgba(0, 0, 0, 0.3));\n",
              "      fill: #FFFFFF;\n",
              "    }\n",
              "  </style>\n",
              "\n",
              "    <script>\n",
              "      const buttonEl =\n",
              "        document.querySelector('#df-a281036f-a3fd-49e6-813a-673fb268654b button.colab-df-convert');\n",
              "      buttonEl.style.display =\n",
              "        google.colab.kernel.accessAllowed ? 'block' : 'none';\n",
              "\n",
              "      async function convertToInteractive(key) {\n",
              "        const element = document.querySelector('#df-a281036f-a3fd-49e6-813a-673fb268654b');\n",
              "        const dataTable =\n",
              "          await google.colab.kernel.invokeFunction('convertToInteractive',\n",
              "                                                    [key], {});\n",
              "        if (!dataTable) return;\n",
              "\n",
              "        const docLinkHtml = 'Like what you see? Visit the ' +\n",
              "          '<a target=\"_blank\" href=https://colab.research.google.com/notebooks/data_table.ipynb>data table notebook</a>'\n",
              "          + ' to learn more about interactive tables.';\n",
              "        element.innerHTML = '';\n",
              "        dataTable['output_type'] = 'display_data';\n",
              "        await google.colab.output.renderOutput(dataTable, element);\n",
              "        const docLink = document.createElement('div');\n",
              "        docLink.innerHTML = docLinkHtml;\n",
              "        element.appendChild(docLink);\n",
              "      }\n",
              "    </script>\n",
              "  </div>\n",
              "\n",
              "\n",
              "<div id=\"df-9ae5a598-8291-4240-b15b-d779fd86746e\">\n",
              "  <button class=\"colab-df-quickchart\" onclick=\"quickchart('df-9ae5a598-8291-4240-b15b-d779fd86746e')\"\n",
              "            title=\"Suggest charts\"\n",
              "            style=\"display:none;\">\n",
              "\n",
              "<svg xmlns=\"http://www.w3.org/2000/svg\" height=\"24px\"viewBox=\"0 0 24 24\"\n",
              "     width=\"24px\">\n",
              "    <g>\n",
              "        <path d=\"M19 3H5c-1.1 0-2 .9-2 2v14c0 1.1.9 2 2 2h14c1.1 0 2-.9 2-2V5c0-1.1-.9-2-2-2zM9 17H7v-7h2v7zm4 0h-2V7h2v10zm4 0h-2v-4h2v4z\"/>\n",
              "    </g>\n",
              "</svg>\n",
              "  </button>\n",
              "\n",
              "<style>\n",
              "  .colab-df-quickchart {\n",
              "      --bg-color: #E8F0FE;\n",
              "      --fill-color: #1967D2;\n",
              "      --hover-bg-color: #E2EBFA;\n",
              "      --hover-fill-color: #174EA6;\n",
              "      --disabled-fill-color: #AAA;\n",
              "      --disabled-bg-color: #DDD;\n",
              "  }\n",
              "\n",
              "  [theme=dark] .colab-df-quickchart {\n",
              "      --bg-color: #3B4455;\n",
              "      --fill-color: #D2E3FC;\n",
              "      --hover-bg-color: #434B5C;\n",
              "      --hover-fill-color: #FFFFFF;\n",
              "      --disabled-bg-color: #3B4455;\n",
              "      --disabled-fill-color: #666;\n",
              "  }\n",
              "\n",
              "  .colab-df-quickchart {\n",
              "    background-color: var(--bg-color);\n",
              "    border: none;\n",
              "    border-radius: 50%;\n",
              "    cursor: pointer;\n",
              "    display: none;\n",
              "    fill: var(--fill-color);\n",
              "    height: 32px;\n",
              "    padding: 0;\n",
              "    width: 32px;\n",
              "  }\n",
              "\n",
              "  .colab-df-quickchart:hover {\n",
              "    background-color: var(--hover-bg-color);\n",
              "    box-shadow: 0 1px 2px rgba(60, 64, 67, 0.3), 0 1px 3px 1px rgba(60, 64, 67, 0.15);\n",
              "    fill: var(--button-hover-fill-color);\n",
              "  }\n",
              "\n",
              "  .colab-df-quickchart-complete:disabled,\n",
              "  .colab-df-quickchart-complete:disabled:hover {\n",
              "    background-color: var(--disabled-bg-color);\n",
              "    fill: var(--disabled-fill-color);\n",
              "    box-shadow: none;\n",
              "  }\n",
              "\n",
              "  .colab-df-spinner {\n",
              "    border: 2px solid var(--fill-color);\n",
              "    border-color: transparent;\n",
              "    border-bottom-color: var(--fill-color);\n",
              "    animation:\n",
              "      spin 1s steps(1) infinite;\n",
              "  }\n",
              "\n",
              "  @keyframes spin {\n",
              "    0% {\n",
              "      border-color: transparent;\n",
              "      border-bottom-color: var(--fill-color);\n",
              "      border-left-color: var(--fill-color);\n",
              "    }\n",
              "    20% {\n",
              "      border-color: transparent;\n",
              "      border-left-color: var(--fill-color);\n",
              "      border-top-color: var(--fill-color);\n",
              "    }\n",
              "    30% {\n",
              "      border-color: transparent;\n",
              "      border-left-color: var(--fill-color);\n",
              "      border-top-color: var(--fill-color);\n",
              "      border-right-color: var(--fill-color);\n",
              "    }\n",
              "    40% {\n",
              "      border-color: transparent;\n",
              "      border-right-color: var(--fill-color);\n",
              "      border-top-color: var(--fill-color);\n",
              "    }\n",
              "    60% {\n",
              "      border-color: transparent;\n",
              "      border-right-color: var(--fill-color);\n",
              "    }\n",
              "    80% {\n",
              "      border-color: transparent;\n",
              "      border-right-color: var(--fill-color);\n",
              "      border-bottom-color: var(--fill-color);\n",
              "    }\n",
              "    90% {\n",
              "      border-color: transparent;\n",
              "      border-bottom-color: var(--fill-color);\n",
              "    }\n",
              "  }\n",
              "</style>\n",
              "\n",
              "  <script>\n",
              "    async function quickchart(key) {\n",
              "      const quickchartButtonEl =\n",
              "        document.querySelector('#' + key + ' button');\n",
              "      quickchartButtonEl.disabled = true;  // To prevent multiple clicks.\n",
              "      quickchartButtonEl.classList.add('colab-df-spinner');\n",
              "      try {\n",
              "        const charts = await google.colab.kernel.invokeFunction(\n",
              "            'suggestCharts', [key], {});\n",
              "      } catch (error) {\n",
              "        console.error('Error during call to suggestCharts:', error);\n",
              "      }\n",
              "      quickchartButtonEl.classList.remove('colab-df-spinner');\n",
              "      quickchartButtonEl.classList.add('colab-df-quickchart-complete');\n",
              "    }\n",
              "    (() => {\n",
              "      let quickchartButtonEl =\n",
              "        document.querySelector('#df-9ae5a598-8291-4240-b15b-d779fd86746e button');\n",
              "      quickchartButtonEl.style.display =\n",
              "        google.colab.kernel.accessAllowed ? 'block' : 'none';\n",
              "    })();\n",
              "  </script>\n",
              "</div>\n",
              "\n",
              "  <div id=\"id_230d93db-f5a9-4056-8c4f-7cb1f550f9a6\">\n",
              "    <style>\n",
              "      .colab-df-generate {\n",
              "        background-color: #E8F0FE;\n",
              "        border: none;\n",
              "        border-radius: 50%;\n",
              "        cursor: pointer;\n",
              "        display: none;\n",
              "        fill: #1967D2;\n",
              "        height: 32px;\n",
              "        padding: 0 0 0 0;\n",
              "        width: 32px;\n",
              "      }\n",
              "\n",
              "      .colab-df-generate:hover {\n",
              "        background-color: #E2EBFA;\n",
              "        box-shadow: 0px 1px 2px rgba(60, 64, 67, 0.3), 0px 1px 3px 1px rgba(60, 64, 67, 0.15);\n",
              "        fill: #174EA6;\n",
              "      }\n",
              "\n",
              "      [theme=dark] .colab-df-generate {\n",
              "        background-color: #3B4455;\n",
              "        fill: #D2E3FC;\n",
              "      }\n",
              "\n",
              "      [theme=dark] .colab-df-generate:hover {\n",
              "        background-color: #434B5C;\n",
              "        box-shadow: 0px 1px 3px 1px rgba(0, 0, 0, 0.15);\n",
              "        filter: drop-shadow(0px 1px 2px rgba(0, 0, 0, 0.3));\n",
              "        fill: #FFFFFF;\n",
              "      }\n",
              "    </style>\n",
              "    <button class=\"colab-df-generate\" onclick=\"generateWithVariable('results_df')\"\n",
              "            title=\"Generate code using this dataframe.\"\n",
              "            style=\"display:none;\">\n",
              "\n",
              "  <svg xmlns=\"http://www.w3.org/2000/svg\" height=\"24px\"viewBox=\"0 0 24 24\"\n",
              "       width=\"24px\">\n",
              "    <path d=\"M7,19H8.4L18.45,9,17,7.55,7,17.6ZM5,21V16.75L18.45,3.32a2,2,0,0,1,2.83,0l1.4,1.43a1.91,1.91,0,0,1,.58,1.4,1.91,1.91,0,0,1-.58,1.4L9.25,21ZM18.45,9,17,7.55Zm-12,3A5.31,5.31,0,0,0,4.9,8.1,5.31,5.31,0,0,0,1,6.5,5.31,5.31,0,0,0,4.9,4.9,5.31,5.31,0,0,0,6.5,1,5.31,5.31,0,0,0,8.1,4.9,5.31,5.31,0,0,0,12,6.5,5.46,5.46,0,0,0,6.5,12Z\"/>\n",
              "  </svg>\n",
              "    </button>\n",
              "    <script>\n",
              "      (() => {\n",
              "      const buttonEl =\n",
              "        document.querySelector('#id_230d93db-f5a9-4056-8c4f-7cb1f550f9a6 button.colab-df-generate');\n",
              "      buttonEl.style.display =\n",
              "        google.colab.kernel.accessAllowed ? 'block' : 'none';\n",
              "\n",
              "      buttonEl.onclick = () => {\n",
              "        google.colab.notebook.generateWithVariable('results_df');\n",
              "      }\n",
              "      })();\n",
              "    </script>\n",
              "  </div>\n",
              "\n",
              "    </div>\n",
              "  </div>\n"
            ],
            "application/vnd.google.colaboratory.intrinsic+json": {
              "type": "dataframe",
              "variable_name": "results_df",
              "summary": "{\n  \"name\": \"results_df\",\n  \"rows\": 7,\n  \"fields\": [\n    {\n      \"column\": \"Optimizer\",\n      \"properties\": {\n        \"dtype\": \"string\",\n        \"num_unique_values\": 7,\n        \"samples\": [\n          \"Momentum optimization\",\n          \"SGD - Nesterov Accelerated Gradient\",\n          \"Adamax\"\n        ],\n        \"semantic_type\": \"\",\n        \"description\": \"\"\n      }\n    },\n    {\n      \"column\": \"Accuracy\",\n      \"properties\": {\n        \"dtype\": \"number\",\n        \"std\": 0.017384443875745302,\n        \"min\": 0.8501999974250793,\n        \"max\": 0.8956000208854675,\n        \"num_unique_values\": 7,\n        \"samples\": [\n          0.8686000108718872,\n          0.8762000203132629,\n          0.8956000208854675\n        ],\n        \"semantic_type\": \"\",\n        \"description\": \"\"\n      }\n    },\n    {\n      \"column\": \"Training time\",\n      \"properties\": {\n        \"dtype\": \"number\",\n        \"std\": 4.4014772367017505,\n        \"min\": 12.878522872924805,\n        \"max\": 22.5227210521698,\n        \"num_unique_values\": 7,\n        \"samples\": [\n          12.878522872924805,\n          21.921260833740234,\n          13.242033243179321\n        ],\n        \"semantic_type\": \"\",\n        \"description\": \"\"\n      }\n    }\n  ]\n}"
            }
          },
          "metadata": {}
        }
      ]
    },
    {
      "cell_type": "markdown",
      "metadata": {
        "id": "66Wbvrq_FqGC"
      },
      "source": [
        "## Learning Rate Scheduling"
      ]
    },
    {
      "cell_type": "markdown",
      "metadata": {
        "id": "KAqX6PZnFqGD"
      },
      "source": [
        "### Exercise 11.4  \n",
        "Train the model using the above keras.optimizers.schedules.ExponentialDecay learning rate scheduler"
      ]
    },
    {
      "cell_type": "code",
      "source": [
        "def exponential_decay_fn(epoch):\n",
        "    return 0.01 * 0.1**(epoch / 20)"
      ],
      "metadata": {
        "id": "oknxxefNnmQS"
      },
      "execution_count": 181,
      "outputs": []
    },
    {
      "cell_type": "code",
      "source": [
        "def exponential_decay(lr0, s):\n",
        "    def exponential_decay_fn(epoch):\n",
        "        return lr0 * 0.1**(epoch / s)\n",
        "    return exponential_decay_fn\n",
        "\n",
        "exponential_decay_fn = exponential_decay(lr0=0.01, s=20)"
      ],
      "metadata": {
        "id": "JMAVaRfunnEE"
      },
      "execution_count": 182,
      "outputs": []
    },
    {
      "cell_type": "code",
      "execution_count": 183,
      "metadata": {
        "id": "4KSSCwDrFqGD",
        "colab": {
          "base_uri": "https://localhost:8080/"
        },
        "outputId": "0c18e754-5998-4027-a5c7-0c2c661b94a4"
      },
      "outputs": [
        {
          "output_type": "stream",
          "name": "stdout",
          "text": [
            "Epoch 1/20\n",
            "275/275 [==============================] - 2s 4ms/step - loss: 0.6437 - accuracy: 0.7804 - val_loss: 0.4936 - val_accuracy: 0.8336\n",
            "Epoch 2/20\n",
            "275/275 [==============================] - 1s 3ms/step - loss: 0.4743 - accuracy: 0.8358 - val_loss: 0.4488 - val_accuracy: 0.8494\n",
            "Epoch 3/20\n",
            "275/275 [==============================] - 1s 3ms/step - loss: 0.4394 - accuracy: 0.8473 - val_loss: 0.4335 - val_accuracy: 0.8568\n",
            "Epoch 4/20\n",
            "275/275 [==============================] - 1s 3ms/step - loss: 0.4195 - accuracy: 0.8544 - val_loss: 0.4175 - val_accuracy: 0.8584\n",
            "Epoch 5/20\n",
            "275/275 [==============================] - 1s 3ms/step - loss: 0.4059 - accuracy: 0.8590 - val_loss: 0.4095 - val_accuracy: 0.8604\n",
            "Epoch 6/20\n",
            "275/275 [==============================] - 1s 3ms/step - loss: 0.3957 - accuracy: 0.8629 - val_loss: 0.4047 - val_accuracy: 0.8624\n",
            "Epoch 7/20\n",
            "275/275 [==============================] - 1s 3ms/step - loss: 0.3879 - accuracy: 0.8651 - val_loss: 0.3982 - val_accuracy: 0.8626\n",
            "Epoch 8/20\n",
            "275/275 [==============================] - 1s 4ms/step - loss: 0.3816 - accuracy: 0.8672 - val_loss: 0.3974 - val_accuracy: 0.8636\n",
            "Epoch 9/20\n",
            "275/275 [==============================] - 1s 4ms/step - loss: 0.3763 - accuracy: 0.8689 - val_loss: 0.3924 - val_accuracy: 0.8650\n",
            "Epoch 10/20\n",
            "275/275 [==============================] - 1s 4ms/step - loss: 0.3717 - accuracy: 0.8704 - val_loss: 0.3905 - val_accuracy: 0.8644\n",
            "Epoch 11/20\n",
            "275/275 [==============================] - 1s 3ms/step - loss: 0.3683 - accuracy: 0.8719 - val_loss: 0.3881 - val_accuracy: 0.8654\n",
            "Epoch 12/20\n",
            "275/275 [==============================] - 1s 3ms/step - loss: 0.3652 - accuracy: 0.8734 - val_loss: 0.3870 - val_accuracy: 0.8648\n",
            "Epoch 13/20\n",
            "275/275 [==============================] - 1s 3ms/step - loss: 0.3624 - accuracy: 0.8742 - val_loss: 0.3844 - val_accuracy: 0.8656\n",
            "Epoch 14/20\n",
            "275/275 [==============================] - 1s 3ms/step - loss: 0.3601 - accuracy: 0.8746 - val_loss: 0.3842 - val_accuracy: 0.8650\n",
            "Epoch 15/20\n",
            "275/275 [==============================] - 1s 3ms/step - loss: 0.3581 - accuracy: 0.8748 - val_loss: 0.3832 - val_accuracy: 0.8658\n",
            "Epoch 16/20\n",
            "275/275 [==============================] - 1s 3ms/step - loss: 0.3562 - accuracy: 0.8755 - val_loss: 0.3819 - val_accuracy: 0.8660\n",
            "Epoch 17/20\n",
            "275/275 [==============================] - 1s 3ms/step - loss: 0.3547 - accuracy: 0.8763 - val_loss: 0.3810 - val_accuracy: 0.8660\n",
            "Epoch 18/20\n",
            "275/275 [==============================] - 1s 3ms/step - loss: 0.3534 - accuracy: 0.8770 - val_loss: 0.3799 - val_accuracy: 0.8668\n",
            "Epoch 19/20\n",
            "275/275 [==============================] - 1s 3ms/step - loss: 0.3522 - accuracy: 0.8773 - val_loss: 0.3795 - val_accuracy: 0.8672\n",
            "Epoch 20/20\n",
            "275/275 [==============================] - 1s 3ms/step - loss: 0.3511 - accuracy: 0.8779 - val_loss: 0.3790 - val_accuracy: 0.8668\n"
          ]
        }
      ],
      "source": [
        "#EX.11.4\n",
        "tf.random.set_seed(42)\n",
        "np.random.seed(42)\n",
        "model13 = keras.models.Sequential([\n",
        "    keras.layers.Flatten(input_shape=[28, 28]),\n",
        "    keras.layers.Dense(300, activation=\"selu\", kernel_initializer=\"lecun_normal\"),\n",
        "    keras.layers.Dense(100, activation=\"selu\", kernel_initializer=\"lecun_normal\"),\n",
        "    keras.layers.Dense(10, activation=\"softmax\")\n",
        "])\n",
        "\n",
        "n_epochs = 20\n",
        "learning_rate = keras.optimizers.schedules.ExponentialDecay(0.01, s, 0.1)\n",
        "batch_size = 200\n",
        "\n",
        "optimizer13 = keras.optimizers.SGD(learning_rate)\n",
        "model13.compile(loss=\"sparse_categorical_crossentropy\", optimizer=optimizer13, metrics=[\"accuracy\"])\n",
        "history13 = model13.fit(X_train_scaled, y_train, epochs=n_epochs,\n",
        "                    validation_data=(X_valid_scaled, y_valid), batch_size=200)"
      ]
    },
    {
      "cell_type": "code",
      "source": [
        "plt.plot(epochs, lrs,  \"o-\")\n",
        "plt.axis([0, n_epochs - 1, 0, 0.01])\n",
        "plt.xlabel(\"Epoch\")\n",
        "plt.ylabel(\"Learning Rate\")\n",
        "plt.title(\"Power Scheduling\", fontsize=14)\n",
        "plt.grid(True)\n",
        "plt.show()"
      ],
      "metadata": {
        "colab": {
          "base_uri": "https://localhost:8080/",
          "height": 482
        },
        "id": "AUAr53zZ4MCR",
        "outputId": "0b3eb1df-766c-49fe-b667-124d14205a75"
      },
      "execution_count": 184,
      "outputs": [
        {
          "output_type": "display_data",
          "data": {
            "text/plain": [
              "<Figure size 640x480 with 1 Axes>"
            ],
            "image/png": "[encoded data removed]"
          },
          "metadata": {}
        }
      ]
    },
    {
      "cell_type": "markdown",
      "metadata": {
        "id": "H36gTR7TFqGD"
      },
      "source": [
        "### Exercise 11.5  \n",
        "### 8. Deep Learning on CIFAR10"
      ]
    },
    {
      "cell_type": "markdown",
      "metadata": {
        "id": "Xe0WDpRBFqGD"
      },
      "source": [
        "- 이번 문제는 컴퓨터 성능에 따라 학번의 학습이 몇시간이 걸릴 수 있으니 GPU가 설치된 고성능 PC나 colab에서 실행 권장  \n",
        "- 자율실습실(형남 1302/3호) 또는 차세대반도체학과 실습실(조만식 427호: 예약제)"
      ]
    },
    {
      "cell_type": "markdown",
      "metadata": {
        "id": "hBeWLSCiFqGD"
      },
      "source": [
        "### a.\n",
        "히든 레이어 20개, 각 레이어 당 100개의 뉴런을 가진 DNN 모델을 구축하시요. 이 때 He initilization 과 ELU activation function 을 사용하시오"
      ]
    },
    {
      "cell_type": "code",
      "source": [
        "from tensorflow import keras\n",
        "import numpy as np\n",
        "import pandas as pd\n",
        "import matplotlib as mpl\n",
        "import matplotlib.pyplot as plt"
      ],
      "metadata": {
        "id": "Vj3YDk0XD4qS"
      },
      "execution_count": 185,
      "outputs": []
    },
    {
      "cell_type": "code",
      "execution_count": 186,
      "metadata": {
        "id": "rdHX6RKVFqGD"
      },
      "outputs": [],
      "source": [
        "keras.backend.clear_session()\n",
        "tf.random.set_seed(42)\n",
        "np.random.seed(42)\n",
        "# Create a model: 20 hidden layers, 100 neurons each\n",
        "model9 = keras.models.Sequential()\n",
        "model9.add(keras.layers.Flatten(input_shape=[32, 32, 3]))\n",
        "for _ in range(20):\n",
        "    model9.add(keras.layers.Dense(100, activation=\"elu\", kernel_initializer=\"he_normal\"))"
      ]
    },
    {
      "cell_type": "markdown",
      "metadata": {
        "id": "tKXIeWagFqGD"
      },
      "source": [
        "### b.\n",
        "Nadam optimization 과 early stopping을 사용하여, 위에서 구축한 모델을 CIFAR10 dataset으로 학습하시오.\n",
        "\n",
        "CIFAR10 데이터셋 로드: keras.datasets.cifar10.load_data() CIFAR10 데이터셋: 총 10개의 class 존재 --> output feature 10인 softmax 필요\n",
        "\n",
        "참고)학습 때 모델 구조 또는 하이퍼파라미터 변경 시마다 적절한 learning rate 를 찾을 것."
      ]
    },
    {
      "cell_type": "markdown",
      "metadata": {
        "id": "odrZj30IFqGD"
      },
      "source": [
        "Let's add the output layer to the model:"
      ]
    },
    {
      "cell_type": "code",
      "execution_count": 187,
      "metadata": {
        "id": "WPd2dxXRFqGD"
      },
      "outputs": [],
      "source": [
        "# add output layer\n",
        "model9.add(keras.layers.Dense(10, activation=\"softmax\"))"
      ]
    },
    {
      "cell_type": "markdown",
      "metadata": {
        "id": "dzNn2e_-FqGD"
      },
      "source": [
        "Nadam optimizer, Learningrate:5e-5를 사용해보자"
      ]
    },
    {
      "cell_type": "code",
      "execution_count": 188,
      "metadata": {
        "id": "zAx1dIdZFqGE"
      },
      "outputs": [],
      "source": [
        "# Define optimizer and compile model9\n",
        "optimizer = keras.optimizers.Nadam(learning_rate=5e-5)\n",
        "model9.compile(loss=\"sparse_categorical_crossentropy\", optimizer=optimizer, metrics=[\"accuracy\"])\n",
        "n_epochs = 100"
      ]
    },
    {
      "cell_type": "markdown",
      "metadata": {
        "id": "8SCIgOruFqGE"
      },
      "source": [
        "CIRAR10데이터셋 로드하기\n",
        "\n",
        "\n",
        "early stopping 추가 위해 validation set 설정(training set의 초반 5000개 이미지)"
      ]
    },
    {
      "cell_type": "code",
      "execution_count": 189,
      "metadata": {
        "id": "BL5jLCI2FqGE"
      },
      "outputs": [],
      "source": [
        "# Load CIFAR10 dataset and generate train and valid dataset\n",
        "cifar10 = keras.datasets.cifar10\n",
        "(X_train_full, y_train_full), (X_test, y_test) = cifar10.load_data()"
      ]
    },
    {
      "cell_type": "markdown",
      "metadata": {
        "id": "WyC62yUbFqGE"
      },
      "source": [
        "analysis of CIFAR 10 dataset. Refer the cells 14-23 of chap. 10"
      ]
    },
    {
      "cell_type": "code",
      "execution_count": 190,
      "metadata": {
        "id": "bPF9r2_kFqGE",
        "colab": {
          "base_uri": "https://localhost:8080/"
        },
        "outputId": "147d0d9d-c9a9-46b9-d875-dce64d7ed04c"
      },
      "outputs": [
        {
          "output_type": "stream",
          "name": "stdout",
          "text": [
            "(50000, 32, 32, 3)\n",
            "(50000, 1)\n"
          ]
        }
      ],
      "source": [
        "# Print shape and datatype of X_train_full\n",
        "print(X_train_full.shape)\n",
        "print(y_train_full.shape)"
      ]
    },
    {
      "cell_type": "code",
      "source": [
        "X_train_full.dtype"
      ],
      "metadata": {
        "colab": {
          "base_uri": "https://localhost:8080/"
        },
        "id": "ZCUlDRr5AlzY",
        "outputId": "2350294c-c0b9-4fbd-aa10-a21faf3b8eb2"
      },
      "execution_count": 191,
      "outputs": [
        {
          "output_type": "execute_result",
          "data": {
            "text/plain": [
              "dtype('uint8')"
            ]
          },
          "metadata": {},
          "execution_count": 191
        }
      ]
    },
    {
      "cell_type": "code",
      "source": [
        "X_train, X_valid = X_train_full[5000:] / 255, X_train_full[:5000] / 255\n",
        "y_train, y_valid = y_train_full[5000:], y_train_full[:5000]\n",
        "X_test = X_test / 255."
      ],
      "metadata": {
        "id": "UR8wAku7AoPa"
      },
      "execution_count": 192,
      "outputs": []
    },
    {
      "cell_type": "code",
      "source": [
        "print(X_train.shape)\n",
        "print(X_valid.shape)"
      ],
      "metadata": {
        "colab": {
          "base_uri": "https://localhost:8080/"
        },
        "id": "fYkce7VnAND3",
        "outputId": "a12ddc97-b00b-4077-d075-07ba1dff0177"
      },
      "execution_count": 193,
      "outputs": [
        {
          "output_type": "stream",
          "name": "stdout",
          "text": [
            "(45000, 32, 32, 3)\n",
            "(5000, 32, 32, 3)\n"
          ]
        }
      ]
    },
    {
      "cell_type": "code",
      "source": [
        "y_train"
      ],
      "metadata": {
        "colab": {
          "base_uri": "https://localhost:8080/"
        },
        "id": "Exu8fBpyAgSH",
        "outputId": "22743741-fc38-4a14-b3ac-67094857d776"
      },
      "execution_count": 194,
      "outputs": [
        {
          "output_type": "execute_result",
          "data": {
            "text/plain": [
              "array([[6],\n",
              "       [7],\n",
              "       [9],\n",
              "       ...,\n",
              "       [9],\n",
              "       [1],\n",
              "       [1]], dtype=uint8)"
            ]
          },
          "metadata": {},
          "execution_count": 194
        }
      ]
    },
    {
      "cell_type": "code",
      "execution_count": 195,
      "metadata": {
        "id": "n4YtWYybFqGE",
        "colab": {
          "base_uri": "https://localhost:8080/",
          "height": 36
        },
        "outputId": "8e9df7ab-1c11-4c91-9dc1-652526ffe365"
      },
      "outputs": [
        {
          "output_type": "execute_result",
          "data": {
            "text/plain": [
              "'frog'"
            ],
            "application/vnd.google.colaboratory.intrinsic+json": {
              "type": "string"
            }
          },
          "metadata": {},
          "execution_count": 195
        }
      ],
      "source": [
        "class_names = [\"airplane\", \"automobile\", \"bird\", \"cat\", \"deer\", \"dog\",\n",
        "               \"frog\", \"horse\", \"ship\", \"truck\"]\n",
        "# check y_train\n",
        "class_names[y_train[0][0]]"
      ]
    },
    {
      "cell_type": "code",
      "execution_count": 196,
      "metadata": {
        "id": "33GVogbmFqGE",
        "colab": {
          "base_uri": "https://localhost:8080/",
          "height": 406
        },
        "outputId": "09bfa0a9-654e-4c32-d394-f63292bbbd32"
      },
      "outputs": [
        {
          "output_type": "display_data",
          "data": {
            "text/plain": [
              "<Figure size 640x480 with 1 Axes>"
            ],
            "image/png": "[encoded data removed]"
          },
          "metadata": {}
        }
      ],
      "source": [
        "# plot image of X_train[0]\n",
        "plt.imshow(X_train[0], cmap=\"binary\")\n",
        "plt.axis('off')\n",
        "plt.show()"
      ]
    },
    {
      "cell_type": "code",
      "execution_count": 197,
      "metadata": {
        "id": "M4zLwweVFqGE",
        "colab": {
          "base_uri": "https://localhost:8080/",
          "height": 519
        },
        "outputId": "5b0949b4-aba4-4957-81eb-9f6ff388eba3"
      },
      "outputs": [
        {
          "output_type": "display_data",
          "data": {
            "text/plain": [
              "<Figure size 1500x600 with 40 Axes>"
            ],
            "image/png": "[encoded data removed]"
          },
          "metadata": {}
        }
      ],
      "source": [
        "# Plot the first 40 images with labels. (4 x 10 format)\n",
        "fig, axs = plt.subplots(4, 10, figsize=(15, 6))\n",
        "\n",
        "for i in range(4):\n",
        "    for j in range(10):\n",
        "        axs[i, j].imshow(X_train[i*10 + j], cmap=\"binary\")\n",
        "        axs[i, j].axis('off')\n",
        "        axs[i, j].set_title(class_names[y_train[i*10 + j][0]])\n",
        "\n",
        "plt.show()"
      ]
    },
    {
      "cell_type": "markdown",
      "metadata": {
        "id": "fSydxxVfFqGE"
      },
      "source": [
        "Now we can create the callbacks for tensorboard and early stopping and train the model:"
      ]
    },
    {
      "cell_type": "code",
      "source": [
        "!rm -rf my_cifar10_logs"
      ],
      "metadata": {
        "id": "lzAPlkm_NtFG"
      },
      "execution_count": 198,
      "outputs": []
    },
    {
      "cell_type": "code",
      "execution_count": 199,
      "metadata": {
        "id": "xYGldBfmFqGE"
      },
      "outputs": [],
      "source": [
        "# Define callbacks. Save checkpoint as my_cifar10_model.h5\n",
        "import datetime\n",
        "from pathlib import Path\n",
        "\n",
        "early_stopping_cb = keras.callbacks.EarlyStopping(patience=20, restore_best_weights=True)\n",
        "model_checkpoint_cb = keras.callbacks.ModelCheckpoint(\"my_cifar10_model.h5\", save_best_only=True)\n",
        "run_index = 1 # increment every time you train the model\n",
        "run_logdir = Path() / \"my_cifar10_logs\" / f\"run_{run_index:03d}\"\n",
        "tensorboard_cb = tf.keras.callbacks.TensorBoard(log_dir=run_logdir, histogram_freq=1)"
      ]
    },
    {
      "cell_type": "code",
      "execution_count": 200,
      "metadata": {
        "id": "CWBJJfVAFqGF",
        "colab": {
          "base_uri": "https://localhost:8080/"
        },
        "outputId": "af6e1732-b71f-4955-8f40-e63cd82ab78e"
      },
      "outputs": [
        {
          "output_type": "stream",
          "name": "stdout",
          "text": [
            "Epoch 1/100\n",
            "221/225 [============================>.] - ETA: 0s - loss: 2.1554 - accuracy: 0.2452"
          ]
        },
        {
          "output_type": "stream",
          "name": "stderr",
          "text": [
            "/usr/local/lib/python3.10/dist-packages/keras/src/engine/training.py:3103: UserWarning: You are saving your model as an HDF5 file via `model.save()`. This file format is considered legacy. We recommend using instead the native Keras format, e.g. `model.save('my_model.keras')`.\n",
            "  saving_api.save_model(\n"
          ]
        },
        {
          "output_type": "stream",
          "name": "stdout",
          "text": [
            "\b\b\b\b\b\b\b\b\b\b\b\b\b\b\b\b\b\b\b\b\b\b\b\b\b\b\b\b\b\b\b\b\b\b\b\b\b\b\b\b\b\b\b\b\b\b\b\b\b\b\b\b\b\b\b\b\b\b\b\b\b\b\b\b\b\b\b\b\b\b\b\b\b\b\b\b\b\b\b\b\b\b\b\b\r225/225 [==============================] - 13s 19ms/step - loss: 2.1497 - accuracy: 0.2466 - val_loss: 1.8610 - val_accuracy: 0.3256\n",
            "Epoch 2/100\n",
            "225/225 [==============================] - 4s 16ms/step - loss: 1.8183 - accuracy: 0.3427 - val_loss: 1.7632 - val_accuracy: 0.3616\n",
            "Epoch 3/100\n",
            "225/225 [==============================] - 3s 15ms/step - loss: 1.7323 - accuracy: 0.3793 - val_loss: 1.6964 - val_accuracy: 0.3856\n",
            "Epoch 4/100\n",
            "225/225 [==============================] - 3s 15ms/step - loss: 1.6788 - accuracy: 0.3960 - val_loss: 1.6661 - val_accuracy: 0.3914\n",
            "Epoch 5/100\n",
            "225/225 [==============================] - 4s 17ms/step - loss: 1.6359 - accuracy: 0.4118 - val_loss: 1.6444 - val_accuracy: 0.3966\n",
            "Epoch 6/100\n",
            "225/225 [==============================] - 3s 14ms/step - loss: 1.6021 - accuracy: 0.4253 - val_loss: 1.6055 - val_accuracy: 0.4082\n",
            "Epoch 7/100\n",
            "225/225 [==============================] - 3s 15ms/step - loss: 1.5728 - accuracy: 0.4368 - val_loss: 1.5858 - val_accuracy: 0.4212\n",
            "Epoch 8/100\n",
            "225/225 [==============================] - 3s 15ms/step - loss: 1.5483 - accuracy: 0.4433 - val_loss: 1.5835 - val_accuracy: 0.4256\n",
            "Epoch 9/100\n",
            "225/225 [==============================] - 4s 16ms/step - loss: 1.5285 - accuracy: 0.4498 - val_loss: 1.5709 - val_accuracy: 0.4338\n",
            "Epoch 10/100\n",
            "225/225 [==============================] - 4s 16ms/step - loss: 1.5093 - accuracy: 0.4585 - val_loss: 1.5479 - val_accuracy: 0.4392\n",
            "Epoch 11/100\n",
            "225/225 [==============================] - 3s 14ms/step - loss: 1.4915 - accuracy: 0.4652 - val_loss: 1.5613 - val_accuracy: 0.4400\n",
            "Epoch 12/100\n",
            "225/225 [==============================] - 4s 16ms/step - loss: 1.4745 - accuracy: 0.4723 - val_loss: 1.5323 - val_accuracy: 0.4442\n",
            "Epoch 13/100\n",
            "225/225 [==============================] - 3s 15ms/step - loss: 1.4583 - accuracy: 0.4768 - val_loss: 1.5256 - val_accuracy: 0.4424\n",
            "Epoch 14/100\n",
            "225/225 [==============================] - 3s 15ms/step - loss: 1.4439 - accuracy: 0.4834 - val_loss: 1.5236 - val_accuracy: 0.4524\n",
            "Epoch 15/100\n",
            "225/225 [==============================] - 4s 16ms/step - loss: 1.4289 - accuracy: 0.4897 - val_loss: 1.5194 - val_accuracy: 0.4544\n",
            "Epoch 16/100\n",
            "225/225 [==============================] - 3s 15ms/step - loss: 1.4140 - accuracy: 0.4938 - val_loss: 1.4998 - val_accuracy: 0.4622\n",
            "Epoch 17/100\n",
            "225/225 [==============================] - 3s 14ms/step - loss: 1.4022 - accuracy: 0.4973 - val_loss: 1.4918 - val_accuracy: 0.4596\n",
            "Epoch 18/100\n",
            "225/225 [==============================] - 3s 15ms/step - loss: 1.3902 - accuracy: 0.5038 - val_loss: 1.4876 - val_accuracy: 0.4590\n",
            "Epoch 19/100\n",
            "225/225 [==============================] - 4s 16ms/step - loss: 1.3770 - accuracy: 0.5086 - val_loss: 1.5024 - val_accuracy: 0.4548\n",
            "Epoch 20/100\n",
            "225/225 [==============================] - 4s 16ms/step - loss: 1.3656 - accuracy: 0.5104 - val_loss: 1.4750 - val_accuracy: 0.4710\n",
            "Epoch 21/100\n",
            "225/225 [==============================] - 3s 15ms/step - loss: 1.3533 - accuracy: 0.5167 - val_loss: 1.4766 - val_accuracy: 0.4714\n",
            "Epoch 22/100\n",
            "225/225 [==============================] - 3s 15ms/step - loss: 1.3433 - accuracy: 0.5220 - val_loss: 1.4781 - val_accuracy: 0.4684\n",
            "Epoch 23/100\n",
            "225/225 [==============================] - 3s 15ms/step - loss: 1.3321 - accuracy: 0.5258 - val_loss: 1.4730 - val_accuracy: 0.4686\n",
            "Epoch 24/100\n",
            "225/225 [==============================] - 4s 16ms/step - loss: 1.3238 - accuracy: 0.5288 - val_loss: 1.4619 - val_accuracy: 0.4724\n",
            "Epoch 25/100\n",
            "225/225 [==============================] - 3s 15ms/step - loss: 1.3140 - accuracy: 0.5312 - val_loss: 1.4578 - val_accuracy: 0.4782\n",
            "Epoch 26/100\n",
            "225/225 [==============================] - 4s 17ms/step - loss: 1.3038 - accuracy: 0.5324 - val_loss: 1.4731 - val_accuracy: 0.4820\n",
            "Epoch 27/100\n",
            "225/225 [==============================] - 3s 15ms/step - loss: 1.2949 - accuracy: 0.5365 - val_loss: 1.4570 - val_accuracy: 0.4818\n",
            "Epoch 28/100\n",
            "225/225 [==============================] - 3s 14ms/step - loss: 1.2836 - accuracy: 0.5408 - val_loss: 1.4614 - val_accuracy: 0.4850\n",
            "Epoch 29/100\n",
            "225/225 [==============================] - 3s 15ms/step - loss: 1.2759 - accuracy: 0.5453 - val_loss: 1.4720 - val_accuracy: 0.4766\n",
            "Epoch 30/100\n",
            "225/225 [==============================] - 4s 16ms/step - loss: 1.2661 - accuracy: 0.5482 - val_loss: 1.4457 - val_accuracy: 0.4834\n",
            "Epoch 31/100\n",
            "225/225 [==============================] - 3s 15ms/step - loss: 1.2565 - accuracy: 0.5500 - val_loss: 1.4578 - val_accuracy: 0.4880\n",
            "Epoch 32/100\n",
            "225/225 [==============================] - 3s 15ms/step - loss: 1.2485 - accuracy: 0.5539 - val_loss: 1.4496 - val_accuracy: 0.4934\n",
            "Epoch 33/100\n",
            "225/225 [==============================] - 3s 16ms/step - loss: 1.2433 - accuracy: 0.5581 - val_loss: 1.4484 - val_accuracy: 0.4936\n",
            "Epoch 34/100\n",
            "225/225 [==============================] - 3s 14ms/step - loss: 1.2351 - accuracy: 0.5592 - val_loss: 1.4523 - val_accuracy: 0.4924\n",
            "Epoch 35/100\n",
            "225/225 [==============================] - 3s 14ms/step - loss: 1.2253 - accuracy: 0.5624 - val_loss: 1.4547 - val_accuracy: 0.4940\n",
            "Epoch 36/100\n",
            "225/225 [==============================] - 3s 15ms/step - loss: 1.2174 - accuracy: 0.5658 - val_loss: 1.4607 - val_accuracy: 0.4922\n",
            "Epoch 37/100\n",
            "225/225 [==============================] - 3s 15ms/step - loss: 1.2099 - accuracy: 0.5656 - val_loss: 1.4739 - val_accuracy: 0.4932\n",
            "Epoch 38/100\n",
            "225/225 [==============================] - 3s 15ms/step - loss: 1.2020 - accuracy: 0.5722 - val_loss: 1.4443 - val_accuracy: 0.4994\n",
            "Epoch 39/100\n",
            "225/225 [==============================] - 3s 14ms/step - loss: 1.1948 - accuracy: 0.5745 - val_loss: 1.4648 - val_accuracy: 0.4968\n",
            "Epoch 40/100\n",
            "225/225 [==============================] - 3s 15ms/step - loss: 1.1882 - accuracy: 0.5752 - val_loss: 1.4592 - val_accuracy: 0.4966\n",
            "Epoch 41/100\n",
            "225/225 [==============================] - 4s 16ms/step - loss: 1.1805 - accuracy: 0.5786 - val_loss: 1.4584 - val_accuracy: 0.4996\n",
            "Epoch 42/100\n",
            "225/225 [==============================] - 3s 14ms/step - loss: 1.1742 - accuracy: 0.5822 - val_loss: 1.4486 - val_accuracy: 0.4988\n",
            "Epoch 43/100\n",
            "225/225 [==============================] - 3s 14ms/step - loss: 1.1669 - accuracy: 0.5827 - val_loss: 1.4636 - val_accuracy: 0.4930\n",
            "Epoch 44/100\n",
            "225/225 [==============================] - 3s 15ms/step - loss: 1.1623 - accuracy: 0.5836 - val_loss: 1.4574 - val_accuracy: 0.4982\n",
            "Epoch 45/100\n",
            "225/225 [==============================] - 3s 15ms/step - loss: 1.1532 - accuracy: 0.5865 - val_loss: 1.4463 - val_accuracy: 0.5016\n",
            "Epoch 46/100\n",
            "225/225 [==============================] - 3s 15ms/step - loss: 1.1455 - accuracy: 0.5913 - val_loss: 1.4625 - val_accuracy: 0.5032\n",
            "Epoch 47/100\n",
            "225/225 [==============================] - 4s 16ms/step - loss: 1.1402 - accuracy: 0.5919 - val_loss: 1.4790 - val_accuracy: 0.4930\n",
            "Epoch 48/100\n",
            "225/225 [==============================] - 3s 14ms/step - loss: 1.1339 - accuracy: 0.5949 - val_loss: 1.4603 - val_accuracy: 0.5014\n",
            "Epoch 49/100\n",
            "225/225 [==============================] - 3s 14ms/step - loss: 1.1240 - accuracy: 0.5986 - val_loss: 1.4917 - val_accuracy: 0.4896\n",
            "Epoch 50/100\n",
            "225/225 [==============================] - 3s 14ms/step - loss: 1.1220 - accuracy: 0.5980 - val_loss: 1.4493 - val_accuracy: 0.5024\n",
            "Epoch 51/100\n",
            "225/225 [==============================] - 4s 16ms/step - loss: 1.1158 - accuracy: 0.6009 - val_loss: 1.4686 - val_accuracy: 0.4966\n",
            "Epoch 52/100\n",
            "225/225 [==============================] - 3s 15ms/step - loss: 1.1050 - accuracy: 0.6064 - val_loss: 1.4542 - val_accuracy: 0.5054\n",
            "Epoch 53/100\n",
            "225/225 [==============================] - 3s 14ms/step - loss: 1.1020 - accuracy: 0.6066 - val_loss: 1.4575 - val_accuracy: 0.5042\n",
            "Epoch 54/100\n",
            "225/225 [==============================] - 3s 14ms/step - loss: 1.0956 - accuracy: 0.6086 - val_loss: 1.4711 - val_accuracy: 0.5022\n",
            "Epoch 55/100\n",
            "225/225 [==============================] - 3s 15ms/step - loss: 1.0875 - accuracy: 0.6112 - val_loss: 1.4844 - val_accuracy: 0.4980\n",
            "Epoch 56/100\n",
            "225/225 [==============================] - 3s 15ms/step - loss: 1.0819 - accuracy: 0.6112 - val_loss: 1.4705 - val_accuracy: 0.5098\n",
            "Epoch 57/100\n",
            "225/225 [==============================] - 4s 16ms/step - loss: 1.0761 - accuracy: 0.6156 - val_loss: 1.4652 - val_accuracy: 0.5018\n",
            "Epoch 58/100\n",
            "225/225 [==============================] - 4s 16ms/step - loss: 1.0701 - accuracy: 0.6171 - val_loss: 1.4716 - val_accuracy: 0.5006\n"
          ]
        }
      ],
      "source": [
        "# Train model9: 100 epoch\n",
        "history9 = model9.fit(X_train, y_train, epochs=n_epochs,\n",
        "                    validation_data=(X_valid, y_valid),\n",
        "                    callbacks=[early_stopping_cb, model_checkpoint_cb, tensorboard_cb], batch_size=200)"
      ]
    },
    {
      "cell_type": "code",
      "execution_count": null,
      "metadata": {
        "id": "J-EH72bHFqGF",
        "colab": {
          "base_uri": "https://localhost:8080/",
          "height": 73
        },
        "outputId": "b6481caa-f4a6-44a0-c843-4b9a3ccc7114"
      },
      "outputs": [
        {
          "output_type": "stream",
          "name": "stdout",
          "text": [
            "The tensorboard extension is already loaded. To reload it, use:\n",
            "  %reload_ext tensorboard\n"
          ]
        },
        {
          "output_type": "display_data",
          "data": {
            "text/plain": [
              "Launching TensorBoard..."
            ]
          },
          "metadata": {}
        }
      ],
      "source": [
        "# Tensoboard display\n",
        "%load_ext tensorboard\n",
        "%tensorboard --logdir=./my_cifar10_logs\n",
        "# If you encounter an error, open a tab in your browser and type \"http://localhost:6006\""
      ]
    },
    {
      "cell_type": "code",
      "source": [
        "model9.evaluate(X_valid, y_valid)"
      ],
      "metadata": {
        "id": "YODRD5biNTSt"
      },
      "execution_count": null,
      "outputs": []
    },
    {
      "cell_type": "code",
      "execution_count": null,
      "metadata": {
        "id": "cx3quHE1FqGF"
      },
      "outputs": [],
      "source": [
        "# load the saved model9 to model10 and evaluate\n",
        "model10 = keras.models.load_model(\"my_cifar10_model.h5\")\n",
        "loss_10, acc_10 = model10.evaluate(X_valid, y_valid)"
      ]
    },
    {
      "cell_type": "markdown",
      "metadata": {
        "id": "GZs-_qQ-FqGF"
      },
      "source": [
        "### c.\n",
        "BatchNormalization 추가하여 Learning Curves 비교하기\n",
        "- 수렴 속도, 성능, 학습 속도 등"
      ]
    },
    {
      "cell_type": "markdown",
      "metadata": {
        "id": "YXlntLifFqGF"
      },
      "source": [
        "The code below is very similar to the code above, with a few changes:\n",
        "\n",
        "* I added a BN layer after every Dense layer (before the activation function), except for the output layer. I also added a BN layer before the first hidden layer.\n",
        "* I changed the learning rate to 5e-4. I experimented with 1e-5, 3e-5, 5e-5, 1e-4, 3e-4, 5e-4, 1e-3 and 3e-3, and I chose the one with the best validation performance after 10 epochs.\n",
        "* I renamed the run directories to run_bn_* and the model file name to my_cifar10_bn_model.h5."
      ]
    },
    {
      "cell_type": "code",
      "execution_count": null,
      "metadata": {
        "scrolled": false,
        "id": "yi7KK-i3FqGF"
      },
      "outputs": [],
      "source": [
        "keras.backend.clear_session()\n",
        "tf.random.set_seed(42)\n",
        "np.random.seed(42)\n",
        "# Create model11 and add BatchNormalization layer before activation. Others are the same as above\n",
        "model11 = tf.keras.Sequential()\n",
        "model11.add(tf.keras.layers.Flatten(input_shape=[32, 32, 3]))\n",
        "for _ in range(20):\n",
        "  model11.add(tf.keras.layers.Dense(100, kernel_initializer=\"he_normal\"))\n",
        "  model11.add(tf.keras.layers.BatchNormalization())\n",
        "  model11.add(tf.keras.layers.Activation(\"elu\"))\n",
        "model11.add(tf.keras.layers.Dense(10, activation=\"softmax\"))\n",
        "\n",
        "optimizer = keras.optimizers.Nadam(learning_rate=5e-5)\n",
        "\n",
        "model11.compile(loss=\"sparse_categorical_crossentropy\",\n",
        "              optimizer=optimizer,\n",
        "              metrics=[\"accuracy\"])\n",
        "\n",
        "early_stopping_cb = keras.callbacks.EarlyStopping(patience=20, restore_best_weights=True)\n",
        "model_checkpoint_cb = keras.callbacks.ModelCheckpoint(\"my_cifar10_model_BN.h5\", save_best_only=True)\n",
        "run_index = 2 # increment every time you train the model\n",
        "run_logdir = Path() / \"my_cifar10_logs\" / f\"run_{run_index:03d}\"\n",
        "tensorboard_cb = tf.keras.callbacks.TensorBoard(log_dir=run_logdir, histogram_freq=1)\n",
        "\n",
        "history11 = model11.fit(X_train, y_train, epochs=n_epochs,\n",
        "                    validation_data=(X_valid, y_valid),\n",
        "                    callbacks=[early_stopping_cb, model_checkpoint_cb, tensorboard_cb], batch_size=500)"
      ]
    },
    {
      "cell_type": "code",
      "source": [
        "loss_11, acc_11 = model11.evaluate(X_valid, y_valid)"
      ],
      "metadata": {
        "id": "rQbzzxZXQQQy"
      },
      "execution_count": null,
      "outputs": []
    },
    {
      "cell_type": "markdown",
      "metadata": {
        "id": "rVA3_0CuFqGF"
      },
      "source": [
        "* *Is the model converging faster than before?* Much faster! The previous model took OO epochs to reach the lowest validation loss, while the new model with BN took OO epochs. That's more than twice as fast as the previous model. The BN layers stabilized training and allowed us to use a much larger learning rate, so convergence was faster.\n",
        "* *Does BN produce a better model?* Yes! The final model is also much better, with OO% accuracy instead of OO%. It's still not a very good model, but at least it's much better than before (a Convolutional Neural Network would do much better, but that's a different topic, see chapter 14).\n",
        "* *How does BN affect training speed?* Although the model converged twice as fast, each epoch took about OOs instead of OOs, because of the extra computations required by the BN layers. So overall, although the number of epochs was reduced by OO%, the training time (wall time) was shortened by OO%. Which is still pretty significant!"
      ]
    },
    {
      "cell_type": "markdown",
      "metadata": {
        "id": "qt7T0DZzFqGG"
      },
      "source": [
        "### d.\n",
        "*Exercise: Try replacing Batch Normalization with SELU, and make the necessary adjustements to ensure the network self-normalizes (i.e., standardize the input features, use LeCun normal initialization, make sure the DNN contains only a sequence of dense layers, etc.).*"
      ]
    },
    {
      "cell_type": "code",
      "execution_count": null,
      "metadata": {
        "scrolled": false,
        "id": "g83HxBNLFqGG"
      },
      "outputs": [],
      "source": [
        "keras.backend.clear_session()\n",
        "tf.random.set_seed(42)\n",
        "np.random.seed(42)\n",
        "\n",
        "model12 = tf.keras.Sequential()\n",
        "model12.add(tf.keras.layers.Flatten(input_shape=[32, 32, 3]))\n",
        "for _ in range(20):\n",
        "  model12.add(tf.keras.layers.Dense(100, kernel_initializer=\"lecun_normal\", activation=\"selu\"))\n",
        "model12.add(tf.keras.layers.Dense(10, activation=\"softmax\"))\n",
        "\n",
        "optimizer = keras.optimizers.Nadam(learning_rate=5e-5)\n",
        "\n",
        "model12.compile(loss=\"sparse_categorical_crossentropy\",\n",
        "              optimizer=optimizer,\n",
        "              metrics=[\"accuracy\"])\n",
        "\n",
        "early_stopping_cb = keras.callbacks.EarlyStopping(patience=20, restore_best_weights=True)\n",
        "model_checkpoint_cb = keras.callbacks.ModelCheckpoint(\"my_cifar10_model_SELU.h5\", save_best_only=True)\n",
        "run_index = 3\n",
        "run_logdir = Path() / \"my_cifar10_logs\" / f\"run_{run_index:03d}\"\n",
        "tensorboard_cb = tf.keras.callbacks.TensorBoard(log_dir=run_logdir, histogram_freq=1)\n",
        "\n",
        "X_means = X_train.mean(axis=0)\n",
        "X_stds = X_train.std(axis=0)\n",
        "X_train_scaled = (X_train - X_means) / X_stds\n",
        "X_valid_scaled = (X_valid - X_means) / X_stds\n",
        "X_test_scaled = (X_test - X_means) / X_stds\n",
        "\n",
        "history12 = model12.fit(X_train_scaled, y_train, epochs=n_epochs,\n",
        "                    validation_data=(X_valid_scaled, y_valid),\n",
        "                    callbacks=[early_stopping_cb, model_checkpoint_cb, tensorboard_cb], batch_size=500)"
      ]
    },
    {
      "cell_type": "code",
      "source": [
        "loss_12, acc_12 = model12.evaluate(X_valid_scaled, y_valid)"
      ],
      "metadata": {
        "id": "hlTAagYyRGpq"
      },
      "execution_count": null,
      "outputs": []
    },
    {
      "cell_type": "markdown",
      "metadata": {
        "id": "DS4kNi4rFqGG"
      },
      "source": [
        "We get OO.O% accuracy, which is better than the original model, but not quite as good as the model using batch normalization. Moreover, it took OO epochs to reach the best model, which is much faster than both the original model and the BN model, plus each epoch took only OO seconds, just like the original model. So it's by far the fastest model to train (both in terms of epochs and wall time)."
      ]
    },
    {
      "cell_type": "markdown",
      "metadata": {
        "id": "gYfyProvFqGG"
      },
      "source": [
        "### e.\n",
        "*Exercise: Try regularizing the model with alpha dropout. Then, without retraining your model, see if you can achieve better accuracy using MC Dropout.*"
      ]
    },
    {
      "cell_type": "code",
      "execution_count": null,
      "metadata": {
        "id": "xFTkGXYyFqGG"
      },
      "outputs": [],
      "source": [
        "keras.backend.clear_session()\n",
        "tf.random.set_seed(42)\n",
        "np.random.seed(42)\n",
        "\n",
        "model13 = tf.keras.Sequential()\n",
        "model13.add(tf.keras.layers.Flatten(input_shape=[32, 32, 3]))\n",
        "for _ in range(20):\n",
        "  model13.add(tf.keras.layers.Dense(100, kernel_initializer=\"lecun_normal\", activation=\"selu\"))\n",
        "model13.add(tf.keras.layers.AlphaDropout(rate=0.1))\n",
        "model13.add(tf.keras.layers.Dense(10, activation=\"softmax\"))\n",
        "\n",
        "optimizer = keras.optimizers.Nadam(learning_rate=5e-5)\n",
        "\n",
        "model13.compile(loss=\"sparse_categorical_crossentropy\",\n",
        "              optimizer=optimizer,\n",
        "              metrics=[\"accuracy\"])\n",
        "\n",
        "early_stopping_cb = keras.callbacks.EarlyStopping(patience=20, restore_best_weights=True)\n",
        "model_checkpoint_cb = keras.callbacks.ModelCheckpoint(\"my_cifar10_model.h5\", save_best_only=True)\n",
        "run_index = 3\n",
        "run_logdir = Path() / \"my_cifar10_logs\" / f\"run_{run_index:03d}\"\n",
        "tensorboard_cb = tf.keras.callbacks.TensorBoard(log_dir=run_logdir, histogram_freq=1)\n",
        "\n",
        "X_means = X_train.mean(axis=0)\n",
        "X_stds = X_train.std(axis=0)\n",
        "X_train_scaled = (X_train - X_means) / X_stds\n",
        "X_valid_scaled = (X_valid - X_means) / X_stds\n",
        "X_test_scaled = (X_test - X_means) / X_stds\n",
        "history13 = model13.fit(X_train_scaled, y_train, epochs=n_epochs,\n",
        "                    validation_data=(X_valid_scaled, y_valid),\n",
        "                    callbacks=[early_stopping_cb, model_checkpoint_cb, tensorboard_cb], batch_size=500)"
      ]
    },
    {
      "cell_type": "code",
      "source": [
        "loss_13, acc_13 = model13.evaluate(X_valid_scaled, y_valid)"
      ],
      "metadata": {
        "id": "gTecikKFRyot"
      },
      "execution_count": null,
      "outputs": []
    },
    {
      "cell_type": "markdown",
      "metadata": {
        "id": "5I0uY0SnFqGG"
      },
      "source": [
        "The model reaches OO.O% accuracy on the validation set. That's very slightly worse than without dropout (OO.O%). With an extensive hyperparameter search, it might be possible to do better (I tried dropout rates of 5%, 10%, 20% and 40%, and learning rates 1e-4, 3e-4, 5e-4, and 1e-3), but probably not much better in this case."
      ]
    },
    {
      "cell_type": "markdown",
      "metadata": {
        "id": "zYtNBPg7FqGG"
      },
      "source": [
        "Let's use MC Dropout now. We will need the `MCAlphaDropout` class we used earlier, so let's just copy it here for convenience:"
      ]
    },
    {
      "cell_type": "code",
      "execution_count": null,
      "metadata": {
        "id": "8vu48XkpFqGG"
      },
      "outputs": [],
      "source": [
        "class MCAlphaDropout(keras.layers.AlphaDropout):\n",
        "    def call(self, inputs):\n",
        "        return super().call(inputs, training=True)"
      ]
    },
    {
      "cell_type": "markdown",
      "metadata": {
        "id": "nihm2zy_FqGG"
      },
      "source": [
        "Now let's create a new model, identical to the one we just trained (with the same weights), but with `MCAlphaDropout` dropout layers instead of `AlphaDropout` layers:"
      ]
    },
    {
      "cell_type": "code",
      "execution_count": null,
      "metadata": {
        "id": "98sTJoJaFqGG"
      },
      "outputs": [],
      "source": [
        "mc_model = tf.keras.Sequential([\n",
        "    MCAlphaDropout(layer.rate) if isinstance(layer, tf.keras.layers.AlphaDropout) else layer for layer in model13.layers\n",
        "])"
      ]
    },
    {
      "cell_type": "markdown",
      "metadata": {
        "id": "3f7QDCAGFqGH"
      },
      "source": [
        "Then let's add a couple utility functions. The first will run the model many times (10 by default) and it will return the mean predicted class probabilities. The second will use these mean probabilities to predict the most likely class for each instance:"
      ]
    },
    {
      "cell_type": "code",
      "execution_count": null,
      "metadata": {
        "id": "VXA90sZGFqGH"
      },
      "outputs": [],
      "source": [
        "def mc_dropout_predict_probas(mc_model, X, n_samples=10):\n",
        "    Y_probas = [mc_model.predict(X) for sample in range(n_samples)]\n",
        "    return np.mean(Y_probas, axis=0)\n",
        "\n",
        "def mc_dropout_predict_classes(mc_model, X, n_samples=10):\n",
        "    Y_probas = mc_dropout_predict_probas(mc_model, X, n_samples)\n",
        "    return np.argmax(Y_probas, axis=1)"
      ]
    },
    {
      "cell_type": "markdown",
      "metadata": {
        "id": "iev3F14jFqGH"
      },
      "source": [
        "Now let's make predictions for all the instances in the validation set, and compute the accuracy:"
      ]
    },
    {
      "cell_type": "code",
      "execution_count": null,
      "metadata": {
        "id": "nNiDZnWuFqGH"
      },
      "outputs": [],
      "source": [
        "keras.backend.clear_session()\n",
        "tf.random.set_seed(42)\n",
        "np.random.seed(42)\n",
        "\n",
        "y_pred = mc_dropout_predict_classes(mc_model, X_valid_scaled)\n",
        "loss_mc = (y_pred - y_valid[:, 0]).mean()\n",
        "acc_mc = (y_pred == y_valid[:, 0]).mean()\n",
        "acc_mc"
      ]
    },
    {
      "cell_type": "markdown",
      "metadata": {
        "id": "3FUYVrh0FqGH"
      },
      "source": [
        "We only get virtually no accuracy improvement in this case (from OO.O% to OO.O%).\n",
        "\n",
        "So the best model we got in this exercise is the Batch Normalization model."
      ]
    },
    {
      "cell_type": "markdown",
      "metadata": {
        "id": "48YbOU8zFqGH"
      },
      "source": [
        "### f.\n",
        "*Exercise: Retrain your model using 1cycle scheduling and see if it improves training speed and model accuracy.*"
      ]
    },
    {
      "cell_type": "code",
      "execution_count": null,
      "metadata": {
        "id": "WH-DHBTJFqGH"
      },
      "outputs": [],
      "source": [
        "keras.backend.clear_session()\n",
        "tf.random.set_seed(42)\n",
        "np.random.seed(42)\n",
        "\n",
        "model14 = tf.keras.Sequential()\n",
        "model14.add(tf.keras.layers.Flatten(input_shape=[32, 32, 3]))\n",
        "for _ in range(20):\n",
        "    model14.add(tf.keras.layers.Dense(100,\n",
        "                                    kernel_initializer=\"lecun_normal\",\n",
        "                                    activation=\"selu\"))\n",
        "\n",
        "model14.add(tf.keras.layers.AlphaDropout(rate=0.1))\n",
        "model14.add(tf.keras.layers.Dense(10, activation=\"softmax\"))\n",
        "\n",
        "optimizer = tf.keras.optimizers.SGD()\n",
        "model14.compile(loss=\"sparse_categorical_crossentropy\",\n",
        "              optimizer=optimizer,\n",
        "              metrics=[\"accuracy\"])"
      ]
    },
    {
      "cell_type": "code",
      "source": [
        "K = tf.keras.backend\n",
        "class ExponentialLearningRate(tf.keras.callbacks.Callback):\n",
        "    def __init__(self, factor):\n",
        "        self.factor = factor\n",
        "        self.rates = []\n",
        "        self.losses = []\n",
        "\n",
        "    def on_epoch_begin(self, epoch, logs=None):\n",
        "        self.sum_of_epoch_losses = 0\n",
        "\n",
        "    def on_batch_end(self, batch, logs=None):\n",
        "        mean_epoch_loss = logs[\"loss\"]  # 지금까지의 평균 손실\n",
        "        new_sum_of_epoch_losses = mean_epoch_loss * (batch + 1)\n",
        "        batch_loss = new_sum_of_epoch_losses - self.sum_of_epoch_losses\n",
        "        self.sum_of_epoch_losses = new_sum_of_epoch_losses\n",
        "        self.rates.append(K.get_value(self.model.optimizer.learning_rate))\n",
        "        self.losses.append(batch_loss)\n",
        "        K.set_value(self.model.optimizer.learning_rate,\n",
        "                    self.model.optimizer.learning_rate * self.factor)"
      ],
      "metadata": {
        "id": "ZdkZEJtB61VH"
      },
      "execution_count": null,
      "outputs": []
    },
    {
      "cell_type": "code",
      "source": [
        "def find_learning_rate(model, X, y, epochs=1, batch_size=32, min_rate=1e-4,\n",
        "                       max_rate=1):\n",
        "    init_weights = model.get_weights()\n",
        "    iterations = math.ceil(len(X) / batch_size) * epochs\n",
        "    factor = (max_rate / min_rate) ** (1 / iterations)\n",
        "    init_lr = K.get_value(model.optimizer.learning_rate)\n",
        "    K.set_value(model.optimizer.learning_rate, min_rate)\n",
        "    exp_lr = ExponentialLearningRate(factor)\n",
        "    history = model.fit(X, y, epochs=epochs, batch_size=batch_size,\n",
        "                        callbacks=[exp_lr])\n",
        "    K.set_value(model.optimizer.learning_rate, init_lr)\n",
        "    model.set_weights(init_weights)\n",
        "    return exp_lr.rates, exp_lr.losses"
      ],
      "metadata": {
        "id": "n8lff9s01HP8"
      },
      "execution_count": null,
      "outputs": []
    },
    {
      "cell_type": "code",
      "source": [
        "def plot_lr_vs_loss(rates, losses):\n",
        "    plt.plot(rates, losses, \"b\")\n",
        "    plt.gca().set_xscale('log')\n",
        "    max_loss = losses[0] + min(losses)\n",
        "    plt.hlines(min(losses), min(rates), max(rates), color=\"k\")\n",
        "    plt.axis([min(rates), max(rates), 0, max_loss])\n",
        "    plt.xlabel(\"Learning Rate\")\n",
        "    plt.ylabel(\"Loss\")\n",
        "    plt.grid()"
      ],
      "metadata": {
        "id": "_5cJk7Xa1QZW"
      },
      "execution_count": null,
      "outputs": []
    },
    {
      "cell_type": "code",
      "execution_count": null,
      "metadata": {
        "id": "Srw0oDBPFqGH"
      },
      "outputs": [],
      "source": [
        "import math\n",
        "batch_size = 128\n",
        "rates, losses = find_learning_rate(model14, X_train_scaled, y_train, epochs=1, batch_size=batch_size)\n",
        "plot_lr_vs_loss(rates, losses)\n",
        "plt.axis([min(rates), max(rates), min(losses), (losses[0] + min(losses)) / 1.4])\n",
        "min_loss_idx = np.argmin(losses)\n",
        "optimal_rate = rates[min_loss_idx]\n",
        "print(optimal_rate)"
      ]
    },
    {
      "cell_type": "code",
      "source": [
        "tf.random.set_seed(42)"
      ],
      "metadata": {
        "id": "AHVGDfa21aDk"
      },
      "execution_count": null,
      "outputs": []
    },
    {
      "cell_type": "code",
      "source": [
        "class OneCycleScheduler(tf.keras.callbacks.Callback):\n",
        "    def __init__(self, iterations, max_lr=1e-3, start_lr=None,\n",
        "                 last_iterations=None, last_lr=None):\n",
        "        self.iterations = iterations\n",
        "        self.max_lr = max_lr\n",
        "        self.start_lr = start_lr or max_lr / 10\n",
        "        self.last_iterations = last_iterations or iterations // 10 + 1\n",
        "        self.half_iteration = (iterations - self.last_iterations) // 2\n",
        "        self.last_lr = last_lr or self.start_lr / 1000\n",
        "        self.iteration = 0\n",
        "\n",
        "    def _interpolate(self, iter1, iter2, lr1, lr2):\n",
        "        return (lr2 - lr1) * (self.iteration - iter1) / (iter2 - iter1) + lr1\n",
        "\n",
        "    def on_batch_begin(self, batch, logs):\n",
        "        if self.iteration < self.half_iteration:\n",
        "            lr = self._interpolate(0, self.half_iteration, self.start_lr,\n",
        "                                   self.max_lr)\n",
        "        elif self.iteration < 2 * self.half_iteration:\n",
        "            lr = self._interpolate(self.half_iteration, 2 * self.half_iteration,\n",
        "                                   self.max_lr, self.start_lr)\n",
        "        else:\n",
        "            lr = self._interpolate(2 * self.half_iteration, self.iterations,\n",
        "                                   self.start_lr, self.last_lr)\n",
        "        self.iteration += 1\n",
        "        K.set_value(self.model.optimizer.learning_rate, lr)"
      ],
      "metadata": {
        "id": "1jcTfuo44ZFG"
      },
      "execution_count": null,
      "outputs": []
    },
    {
      "cell_type": "code",
      "execution_count": null,
      "metadata": {
        "id": "deMozcM2FqGH"
      },
      "outputs": [],
      "source": [
        "n_epochs = 10\n",
        "n_iterations = math.ceil(len(X_train_scaled) / batch_size) * n_epochs\n",
        "onecycle = OneCycleScheduler(n_iterations, max_lr=0.05)\n",
        "history = model14.fit(X_train_scaled, y_train, epochs=n_epochs, batch_size=batch_size,\n",
        "                    validation_data=(X_valid_scaled, y_valid),\n",
        "                    callbacks=[onecycle])"
      ]
    },
    {
      "cell_type": "markdown",
      "metadata": {
        "id": "SGxam4AdFqGI"
      },
      "source": [
        "One cycle allowed us to train the model in just OO epochs, each taking only O seconds (thanks to the larger batch size). This is over O times faster than the fastest model we trained so far. Moreover, we improved the model's performance (from OO.O% to OO.O%). The batch normalized model reaches a slightly better performance, but it's much slower to train."
      ]
    },
    {
      "cell_type": "code",
      "source": [
        "loss_14, acc_14 = model15.evaluate(X_valid_scaled, y_valid)"
      ],
      "metadata": {
        "id": "uu_lFP4e9yF9"
      },
      "execution_count": null,
      "outputs": []
    },
    {
      "cell_type": "code",
      "source": [
        "results = {\n",
        "    \"Model Description\": [\"Model 10 (Nadam and early stopping)\", \"Model 11 (Batch Normalization added)\", \"Model 12 (BN replaced with SELU)\", \"Model 13 (AlphaDropout added)\", \"Model mc(MCAlphaDropout added)\",\n",
        "                          \"Model 14 (1 cycle w/ optimal rate)\"],\n",
        "    \"Loss (Test Set)\": [loss_10, loss_11, loss_12, loss_13, \"-\", loss_14],\n",
        "    \"Accuracy (Test Set)\": [acc_10, acc_11, acc_12, acc_13, acc_mc, acc_14],\n",
        "}"
      ],
      "metadata": {
        "id": "760WaJkQ8AzU"
      },
      "execution_count": null,
      "outputs": []
    },
    {
      "cell_type": "code",
      "source": [
        "df = pd.DataFrame(results)\n",
        "display(df)"
      ],
      "metadata": {
        "id": "5RYbwmU_8C0W"
      },
      "execution_count": null,
      "outputs": []
    }
  ],
  "metadata": {
    "kernelspec": {
      "display_name": "Python 3",
      "name": "python3"
    },
    "language_info": {
      "codemirror_mode": {
        "name": "ipython",
        "version": 3
      },
      "file_extension": ".py",
      "mimetype": "text/x-python",
      "name": "python",
      "nbconvert_exporter": "python",
      "pygments_lexer": "ipython3",
      "version": "3.9.7"
    },
    "nav_menu": {
      "height": "360px",
      "width": "416px"
    },
    "toc": {
      "navigate_menu": true,
      "number_sections": true,
      "sideBar": true,
      "threshold": 6,
      "toc_cell": false,
      "toc_section_display": "block",
      "toc_window_display": false
    },
    "colab": {
      "provenance": [],
      "gpuType": "T4"
    },
    "accelerator": "GPU"
  },
  "nbformat": 4,
  "nbformat_minor": 0
}